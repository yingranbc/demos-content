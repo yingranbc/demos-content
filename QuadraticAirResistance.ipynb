{
 "cells": [
  {
   "cell_type": "markdown",
   "metadata": {},
   "source": [
    "This may be the first time you see a Jupyter notebook: Click your mouse anywhere in the code box below, and then click the \"Run\" button above. Be patient, after several minutes the trajactory for the quadratic air-friction problem will be plotted in an interactive fashion. This demo is to show you how easy it is to solve differential equations numerically using open-source softwares."
   ]
  },
  {
   "cell_type": "code",
   "execution_count": 1,
   "metadata": {},
   "outputs": [
    {
     "data": {
      "text/html": [
       "<script>\n",
       "// Immediately-invoked-function-expression to avoid global variables.\n",
       "(function() {\n",
       "    var warning_div = document.getElementById(\"webio-warning-6844924895273189470\");\n",
       "    var hide = function () {\n",
       "        var script = document.getElementById(\"webio-setup-3916609853758933590\");\n",
       "        var parent = script && script.parentElement;\n",
       "        var grandparent = parent && parent.parentElement;\n",
       "        if (grandparent) {\n",
       "            grandparent.style.display = \"none\";\n",
       "        }\n",
       "        warning_div.style.display = \"none\";\n",
       "    };\n",
       "    if (typeof Jupyter !== \"undefined\") {\n",
       "        console.log(\"WebIO detected Jupyter notebook environment.\");\n",
       "        // Jupyter notebook.\n",
       "        var extensions = (\n",
       "            Jupyter\n",
       "            && Jupyter.notebook.config.data\n",
       "            && Jupyter.notebook.config.data.load_extensions\n",
       "        );\n",
       "        if (extensions && extensions[\"webio-jupyter-notebook\"]) {\n",
       "            // Extension already loaded.\n",
       "            console.log(\"Jupyter WebIO nbextension detected; not loading ad-hoc.\");\n",
       "            hide();\n",
       "            return;\n",
       "        }\n",
       "    } else if (window.location.pathname.includes(\"/lab\")) {\n",
       "        // Guessing JupyterLa\n",
       "        console.log(\"Jupyter Lab detected; make sure the @webio/jupyter-lab-provider labextension is installed.\");\n",
       "        hide();\n",
       "        return;\n",
       "    }\n",
       "})();\n",
       "\n",
       "</script>\n",
       "<p\n",
       "    id=\"webio-warning-6844924895273189470\"\n",
       "    class=\"output_text output_stderr\"\n",
       "    style=\"padding: 1em; font-weight: bold;\"\n",
       ">\n",
       "    Unable to load WebIO. Please make sure WebIO works for your Jupyter client.\n",
       "    For troubleshooting, please see <a href=\"https://juliagizmos.github.io/WebIO.jl/latest/providers/ijulia/\">\n",
       "    the WebIO/IJulia documentation</a>.\n",
       "    <!-- TODO: link to installation docs. -->\n",
       "</p>\n"
      ],
      "text/plain": [
       "HTML{String}(\"<script>\\n// Immediately-invoked-function-expression to avoid global variables.\\n(function() {\\n    var warning_div = document.getElementById(\\\"webio-warning-6844924895273189470\\\");\\n    var hide = function () {\\n        var script = document.getElementById(\\\"webio-setup-3916609853758933590\\\");\\n        var parent = script && script.parentElement;\\n        var grandparent = parent && parent.parentElement;\\n        if (grandparent) {\\n            grandparent.style.display = \\\"none\\\";\\n        }\\n        warning_div.style.display = \\\"none\\\";\\n    };\\n    if (typeof Jupyter !== \\\"undefined\\\") {\\n        console.log(\\\"WebIO detected Jupyter notebook environment.\\\");\\n        // Jupyter notebook.\\n        var extensions = (\\n            Jupyter\\n            && Jupyter.notebook.config.data\\n            && Jupyter.notebook.config.data.load_extensions\\n        );\\n        if (extensions && extensions[\\\"webio-jupyter-notebook\\\"]) {\\n            // Extension already loaded.\\n            console.log(\\\"Jupyter WebIO nbextension detected; not loading ad-hoc.\\\");\\n            hide();\\n            return;\\n        }\\n    } else if (window.location.pathname.includes(\\\"/lab\\\")) {\\n        // Guessing JupyterLa\\n        console.log(\\\"Jupyter Lab detected; make sure the @webio/jupyter-lab-provider labextension is installed.\\\");\\n        hide();\\n        return;\\n    }\\n})();\\n\\n</script>\\n<p\\n    id=\\\"webio-warning-6844924895273189470\\\"\\n    class=\\\"output_text output_stderr\\\"\\n    style=\\\"padding: 1em; font-weight: bold;\\\"\\n>\\n    Unable to load WebIO. Please make sure WebIO works for your Jupyter client.\\n    For troubleshooting, please see <a href=\\\"https://juliagizmos.github.io/WebIO.jl/latest/providers/ijulia/\\\">\\n    the WebIO/IJulia documentation</a>.\\n    <!-- TODO: link to installation docs. -->\\n</p>\\n\")"
      ]
     },
     "metadata": {},
     "output_type": "display_data"
    },
    {
     "data": {
      "application/vnd.webio.node+json": {
       "children": [
        {
         "children": [
          {
           "children": [
            {
             "children": [
              {
               "children": [
                {
                 "children": [
                  "InitialVelocityX"
                 ],
                 "instanceArgs": {
                  "namespace": "html",
                  "tag": "label"
                 },
                 "nodeType": "DOM",
                 "props": {
                  "className": "interact ",
                  "style": {
                   "padding": "5px 10px 0px 10px"
                  }
                 },
                 "type": "node"
                }
               ],
               "instanceArgs": {
                "namespace": "html",
                "tag": "div"
               },
               "nodeType": "DOM",
               "props": {
                "className": "interact-flex-row-left"
               },
               "type": "node"
              },
              {
               "children": [
                {
                 "children": [],
                 "instanceArgs": {
                  "namespace": "html",
                  "tag": "input"
                 },
                 "nodeType": "DOM",
                 "props": {
                  "attributes": {
                   "data-bind": "numericValue: index, valueUpdate: 'input', event: {change: function (){this.changes(this.changes()+1)}}",
                   "orient": "horizontal",
                   "type": "range"
                  },
                  "className": "slider slider is-fullwidth",
                  "max": 41,
                  "min": 1,
                  "step": 1,
                  "style": {}
                 },
                 "type": "node"
                }
               ],
               "instanceArgs": {
                "namespace": "html",
                "tag": "div"
               },
               "nodeType": "DOM",
               "props": {
                "className": "interact-flex-row-center"
               },
               "type": "node"
              },
              {
               "children": [
                {
                 "children": [],
                 "instanceArgs": {
                  "namespace": "html",
                  "tag": "p"
                 },
                 "nodeType": "DOM",
                 "props": {
                  "attributes": {
                   "data-bind": "text: formatted_val"
                  }
                 },
                 "type": "node"
                }
               ],
               "instanceArgs": {
                "namespace": "html",
                "tag": "div"
               },
               "nodeType": "DOM",
               "props": {
                "className": "interact-flex-row-right"
               },
               "type": "node"
              }
             ],
             "instanceArgs": {
              "namespace": "html",
              "tag": "div"
             },
             "nodeType": "DOM",
             "props": {
              "className": "interact-flex-row interact-widget"
             },
             "type": "node"
            }
           ],
           "instanceArgs": {
            "handlers": {
             "changes": [
              "(function (val){return (val!=this.model[\"changes\"]()) ? (this.valueFromJulia[\"changes\"]=true, this.model[\"changes\"](val)) : undefined})"
             ],
             "index": [
              "(function (val){return (val!=this.model[\"index\"]()) ? (this.valueFromJulia[\"index\"]=true, this.model[\"index\"](val)) : undefined})"
             ]
            },
            "id": "15898171213732912577",
            "imports": {
             "data": [
              {
               "name": "knockout",
               "type": "js",
               "url": "/assetserver/e5cbfdabe81708ad8b2e387c1b27ccacddcf177b-knockout.js"
              },
              {
               "name": "knockout_punches",
               "type": "js",
               "url": "/assetserver/d08034b97e1cc25d7f0ffedee8f015b6c4911c78-knockout_punches.js"
              },
              {
               "name": null,
               "type": "js",
               "url": "/assetserver/075162f38ca788de5f955c388702f07b0ce91784-all.js"
              },
              {
               "name": null,
               "type": "css",
               "url": "/assetserver/1c997bba76a87e4c41821989f6a6cf80fc9408c4-style.css"
              },
              {
               "name": null,
               "type": "css",
               "url": "/assetserver/4f8cf1a5a1cb4b063b10468ed1dcff422b8db06e-bulma_confined.min.css"
              }
             ],
             "type": "async_block"
            },
            "mount_callbacks": [
             "function () {\n    var handler = (function (ko, koPunches) {\n    ko.punches.enableAll();\n    ko.bindingHandlers.numericValue = {\n        init: function(element, valueAccessor, allBindings, data, context) {\n            var stringified = ko.observable(ko.unwrap(valueAccessor()));\n            stringified.subscribe(function(value) {\n                var val = parseFloat(value);\n                if (!isNaN(val)) {\n                    valueAccessor()(val);\n                }\n            });\n            valueAccessor().subscribe(function(value) {\n                var str = JSON.stringify(value);\n                if ((str == \"0\") && ([\"-0\", \"-0.\"].indexOf(stringified()) >= 0))\n                     return;\n                 if ([\"null\", \"\"].indexOf(str) >= 0)\n                     return;\n                stringified(str);\n            });\n            ko.applyBindingsToNode(\n                element,\n                {\n                    value: stringified,\n                    valueUpdate: allBindings.get('valueUpdate'),\n                },\n                context,\n            );\n        }\n    };\n    var json_data = {\"formatted_vals\":[\"0.0\",\"0.1\",\"0.2\",\"0.3\",\"0.4\",\"0.5\",\"0.6\",\"0.7\",\"0.8\",\"0.9\",\"1.0\",\"1.1\",\"1.2\",\"1.3\",\"1.4\",\"1.5\",\"1.6\",\"1.7\",\"1.8\",\"1.9\",\"2.0\",\"2.1\",\"2.2\",\"2.3\",\"2.4\",\"2.5\",\"2.6\",\"2.7\",\"2.8\",\"2.9\",\"3.0\",\"3.1\",\"3.2\",\"3.3\",\"3.4\",\"3.5\",\"3.6\",\"3.7\",\"3.8\",\"3.9\",\"4.0\"],\"changes\":WebIO.getval({\"name\":\"changes\",\"scope\":\"15898171213732912577\",\"id\":\"12294588450860607717\",\"type\":\"observable\"}),\"index\":WebIO.getval({\"name\":\"index\",\"scope\":\"15898171213732912577\",\"id\":\"10358272928928307373\",\"type\":\"observable\"})};\n    var self = this;\n    function AppViewModel() {\n        for (var key in json_data) {\n            var el = json_data[key];\n            this[key] = Array.isArray(el) ? ko.observableArray(el) : ko.observable(el);\n        }\n        \n        [this[\"formatted_val\"]=ko.computed(    function(){\n        return this.formatted_vals()[parseInt(this.index())-(1)];\n    }\n,this)]\n        [this[\"changes\"].subscribe((function (val){!(this.valueFromJulia[\"changes\"]) ? (WebIO.setval({\"name\":\"changes\",\"scope\":\"15898171213732912577\",\"id\":\"12294588450860607717\",\"type\":\"observable\"},val)) : undefined; return this.valueFromJulia[\"changes\"]=false}),self),this[\"index\"].subscribe((function (val){!(this.valueFromJulia[\"index\"]) ? (WebIO.setval({\"name\":\"index\",\"scope\":\"15898171213732912577\",\"id\":\"10358272928928307373\",\"type\":\"observable\"},val)) : undefined; return this.valueFromJulia[\"index\"]=false}),self)]\n        \n    }\n    self.model = new AppViewModel();\n    self.valueFromJulia = {};\n    for (var key in json_data) {\n        self.valueFromJulia[key] = false;\n    }\n    ko.applyBindings(self.model, self.dom);\n}\n);\n    (WebIO.importBlock({\"data\":[{\"name\":\"knockout\",\"type\":\"js\",\"url\":\"/assetserver/e5cbfdabe81708ad8b2e387c1b27ccacddcf177b-knockout.js\"},{\"name\":\"knockout_punches\",\"type\":\"js\",\"url\":\"/assetserver/d08034b97e1cc25d7f0ffedee8f015b6c4911c78-knockout_punches.js\"}],\"type\":\"async_block\"})).then((imports) => handler.apply(this, imports));\n}\n"
            ],
            "observables": {
             "changes": {
              "id": "12294588450860607717",
              "sync": false,
              "value": 0
             },
             "index": {
              "id": "10358272928928307373",
              "sync": true,
              "value": 21
             }
            },
            "systemjs_options": null
           },
           "nodeType": "Scope",
           "props": {},
           "type": "node"
          }
         ],
         "instanceArgs": {
          "namespace": "html",
          "tag": "div"
         },
         "nodeType": "DOM",
         "props": {
          "className": "field interact-widget"
         },
         "type": "node"
        },
        {
         "children": [
          {
           "children": [
            {
             "children": [
              {
               "children": [
                {
                 "children": [
                  "InitialVelocityY"
                 ],
                 "instanceArgs": {
                  "namespace": "html",
                  "tag": "label"
                 },
                 "nodeType": "DOM",
                 "props": {
                  "className": "interact ",
                  "style": {
                   "padding": "5px 10px 0px 10px"
                  }
                 },
                 "type": "node"
                }
               ],
               "instanceArgs": {
                "namespace": "html",
                "tag": "div"
               },
               "nodeType": "DOM",
               "props": {
                "className": "interact-flex-row-left"
               },
               "type": "node"
              },
              {
               "children": [
                {
                 "children": [],
                 "instanceArgs": {
                  "namespace": "html",
                  "tag": "input"
                 },
                 "nodeType": "DOM",
                 "props": {
                  "attributes": {
                   "data-bind": "numericValue: index, valueUpdate: 'input', event: {change: function (){this.changes(this.changes()+1)}}",
                   "orient": "horizontal",
                   "type": "range"
                  },
                  "className": "slider slider is-fullwidth",
                  "max": 41,
                  "min": 1,
                  "step": 1,
                  "style": {}
                 },
                 "type": "node"
                }
               ],
               "instanceArgs": {
                "namespace": "html",
                "tag": "div"
               },
               "nodeType": "DOM",
               "props": {
                "className": "interact-flex-row-center"
               },
               "type": "node"
              },
              {
               "children": [
                {
                 "children": [],
                 "instanceArgs": {
                  "namespace": "html",
                  "tag": "p"
                 },
                 "nodeType": "DOM",
                 "props": {
                  "attributes": {
                   "data-bind": "text: formatted_val"
                  }
                 },
                 "type": "node"
                }
               ],
               "instanceArgs": {
                "namespace": "html",
                "tag": "div"
               },
               "nodeType": "DOM",
               "props": {
                "className": "interact-flex-row-right"
               },
               "type": "node"
              }
             ],
             "instanceArgs": {
              "namespace": "html",
              "tag": "div"
             },
             "nodeType": "DOM",
             "props": {
              "className": "interact-flex-row interact-widget"
             },
             "type": "node"
            }
           ],
           "instanceArgs": {
            "handlers": {
             "changes": [
              "(function (val){return (val!=this.model[\"changes\"]()) ? (this.valueFromJulia[\"changes\"]=true, this.model[\"changes\"](val)) : undefined})"
             ],
             "index": [
              "(function (val){return (val!=this.model[\"index\"]()) ? (this.valueFromJulia[\"index\"]=true, this.model[\"index\"](val)) : undefined})"
             ]
            },
            "id": "6983575643853999866",
            "imports": {
             "data": [
              {
               "name": "knockout",
               "type": "js",
               "url": "/assetserver/e5cbfdabe81708ad8b2e387c1b27ccacddcf177b-knockout.js"
              },
              {
               "name": "knockout_punches",
               "type": "js",
               "url": "/assetserver/d08034b97e1cc25d7f0ffedee8f015b6c4911c78-knockout_punches.js"
              },
              {
               "name": null,
               "type": "js",
               "url": "/assetserver/075162f38ca788de5f955c388702f07b0ce91784-all.js"
              },
              {
               "name": null,
               "type": "css",
               "url": "/assetserver/1c997bba76a87e4c41821989f6a6cf80fc9408c4-style.css"
              },
              {
               "name": null,
               "type": "css",
               "url": "/assetserver/4f8cf1a5a1cb4b063b10468ed1dcff422b8db06e-bulma_confined.min.css"
              }
             ],
             "type": "async_block"
            },
            "mount_callbacks": [
             "function () {\n    var handler = (function (ko, koPunches) {\n    ko.punches.enableAll();\n    ko.bindingHandlers.numericValue = {\n        init: function(element, valueAccessor, allBindings, data, context) {\n            var stringified = ko.observable(ko.unwrap(valueAccessor()));\n            stringified.subscribe(function(value) {\n                var val = parseFloat(value);\n                if (!isNaN(val)) {\n                    valueAccessor()(val);\n                }\n            });\n            valueAccessor().subscribe(function(value) {\n                var str = JSON.stringify(value);\n                if ((str == \"0\") && ([\"-0\", \"-0.\"].indexOf(stringified()) >= 0))\n                     return;\n                 if ([\"null\", \"\"].indexOf(str) >= 0)\n                     return;\n                stringified(str);\n            });\n            ko.applyBindingsToNode(\n                element,\n                {\n                    value: stringified,\n                    valueUpdate: allBindings.get('valueUpdate'),\n                },\n                context,\n            );\n        }\n    };\n    var json_data = {\"formatted_vals\":[\"0.0\",\"0.1\",\"0.2\",\"0.3\",\"0.4\",\"0.5\",\"0.6\",\"0.7\",\"0.8\",\"0.9\",\"1.0\",\"1.1\",\"1.2\",\"1.3\",\"1.4\",\"1.5\",\"1.6\",\"1.7\",\"1.8\",\"1.9\",\"2.0\",\"2.1\",\"2.2\",\"2.3\",\"2.4\",\"2.5\",\"2.6\",\"2.7\",\"2.8\",\"2.9\",\"3.0\",\"3.1\",\"3.2\",\"3.3\",\"3.4\",\"3.5\",\"3.6\",\"3.7\",\"3.8\",\"3.9\",\"4.0\"],\"changes\":WebIO.getval({\"name\":\"changes\",\"scope\":\"6983575643853999866\",\"id\":\"10654844784942636347\",\"type\":\"observable\"}),\"index\":WebIO.getval({\"name\":\"index\",\"scope\":\"6983575643853999866\",\"id\":\"16528668855840920620\",\"type\":\"observable\"})};\n    var self = this;\n    function AppViewModel() {\n        for (var key in json_data) {\n            var el = json_data[key];\n            this[key] = Array.isArray(el) ? ko.observableArray(el) : ko.observable(el);\n        }\n        \n        [this[\"formatted_val\"]=ko.computed(    function(){\n        return this.formatted_vals()[parseInt(this.index())-(1)];\n    }\n,this)]\n        [this[\"changes\"].subscribe((function (val){!(this.valueFromJulia[\"changes\"]) ? (WebIO.setval({\"name\":\"changes\",\"scope\":\"6983575643853999866\",\"id\":\"10654844784942636347\",\"type\":\"observable\"},val)) : undefined; return this.valueFromJulia[\"changes\"]=false}),self),this[\"index\"].subscribe((function (val){!(this.valueFromJulia[\"index\"]) ? (WebIO.setval({\"name\":\"index\",\"scope\":\"6983575643853999866\",\"id\":\"16528668855840920620\",\"type\":\"observable\"},val)) : undefined; return this.valueFromJulia[\"index\"]=false}),self)]\n        \n    }\n    self.model = new AppViewModel();\n    self.valueFromJulia = {};\n    for (var key in json_data) {\n        self.valueFromJulia[key] = false;\n    }\n    ko.applyBindings(self.model, self.dom);\n}\n);\n    (WebIO.importBlock({\"data\":[{\"name\":\"knockout\",\"type\":\"js\",\"url\":\"/assetserver/e5cbfdabe81708ad8b2e387c1b27ccacddcf177b-knockout.js\"},{\"name\":\"knockout_punches\",\"type\":\"js\",\"url\":\"/assetserver/d08034b97e1cc25d7f0ffedee8f015b6c4911c78-knockout_punches.js\"}],\"type\":\"async_block\"})).then((imports) => handler.apply(this, imports));\n}\n"
            ],
            "observables": {
             "changes": {
              "id": "10654844784942636347",
              "sync": false,
              "value": 0
             },
             "index": {
              "id": "16528668855840920620",
              "sync": true,
              "value": 21
             }
            },
            "systemjs_options": null
           },
           "nodeType": "Scope",
           "props": {},
           "type": "node"
          }
         ],
         "instanceArgs": {
          "namespace": "html",
          "tag": "div"
         },
         "nodeType": "DOM",
         "props": {
          "className": "field interact-widget"
         },
         "type": "node"
        },
        {
         "children": [
          {
           "children": [
            {
             "children": [
              {
               "children": [
                {
                 "children": [
                  "AirResistanceCoefficient"
                 ],
                 "instanceArgs": {
                  "namespace": "html",
                  "tag": "label"
                 },
                 "nodeType": "DOM",
                 "props": {
                  "className": "interact ",
                  "style": {
                   "padding": "5px 10px 0px 10px"
                  }
                 },
                 "type": "node"
                }
               ],
               "instanceArgs": {
                "namespace": "html",
                "tag": "div"
               },
               "nodeType": "DOM",
               "props": {
                "className": "interact-flex-row-left"
               },
               "type": "node"
              },
              {
               "children": [
                {
                 "children": [],
                 "instanceArgs": {
                  "namespace": "html",
                  "tag": "input"
                 },
                 "nodeType": "DOM",
                 "props": {
                  "attributes": {
                   "data-bind": "numericValue: index, valueUpdate: 'input', event: {change: function (){this.changes(this.changes()+1)}}",
                   "orient": "horizontal",
                   "type": "range"
                  },
                  "className": "slider slider is-fullwidth",
                  "max": 41,
                  "min": 1,
                  "step": 1,
                  "style": {}
                 },
                 "type": "node"
                }
               ],
               "instanceArgs": {
                "namespace": "html",
                "tag": "div"
               },
               "nodeType": "DOM",
               "props": {
                "className": "interact-flex-row-center"
               },
               "type": "node"
              },
              {
               "children": [
                {
                 "children": [],
                 "instanceArgs": {
                  "namespace": "html",
                  "tag": "p"
                 },
                 "nodeType": "DOM",
                 "props": {
                  "attributes": {
                   "data-bind": "text: formatted_val"
                  }
                 },
                 "type": "node"
                }
               ],
               "instanceArgs": {
                "namespace": "html",
                "tag": "div"
               },
               "nodeType": "DOM",
               "props": {
                "className": "interact-flex-row-right"
               },
               "type": "node"
              }
             ],
             "instanceArgs": {
              "namespace": "html",
              "tag": "div"
             },
             "nodeType": "DOM",
             "props": {
              "className": "interact-flex-row interact-widget"
             },
             "type": "node"
            }
           ],
           "instanceArgs": {
            "handlers": {
             "changes": [
              "(function (val){return (val!=this.model[\"changes\"]()) ? (this.valueFromJulia[\"changes\"]=true, this.model[\"changes\"](val)) : undefined})"
             ],
             "index": [
              "(function (val){return (val!=this.model[\"index\"]()) ? (this.valueFromJulia[\"index\"]=true, this.model[\"index\"](val)) : undefined})"
             ]
            },
            "id": "6991212308307436217",
            "imports": {
             "data": [
              {
               "name": "knockout",
               "type": "js",
               "url": "/assetserver/e5cbfdabe81708ad8b2e387c1b27ccacddcf177b-knockout.js"
              },
              {
               "name": "knockout_punches",
               "type": "js",
               "url": "/assetserver/d08034b97e1cc25d7f0ffedee8f015b6c4911c78-knockout_punches.js"
              },
              {
               "name": null,
               "type": "js",
               "url": "/assetserver/075162f38ca788de5f955c388702f07b0ce91784-all.js"
              },
              {
               "name": null,
               "type": "css",
               "url": "/assetserver/1c997bba76a87e4c41821989f6a6cf80fc9408c4-style.css"
              },
              {
               "name": null,
               "type": "css",
               "url": "/assetserver/4f8cf1a5a1cb4b063b10468ed1dcff422b8db06e-bulma_confined.min.css"
              }
             ],
             "type": "async_block"
            },
            "mount_callbacks": [
             "function () {\n    var handler = (function (ko, koPunches) {\n    ko.punches.enableAll();\n    ko.bindingHandlers.numericValue = {\n        init: function(element, valueAccessor, allBindings, data, context) {\n            var stringified = ko.observable(ko.unwrap(valueAccessor()));\n            stringified.subscribe(function(value) {\n                var val = parseFloat(value);\n                if (!isNaN(val)) {\n                    valueAccessor()(val);\n                }\n            });\n            valueAccessor().subscribe(function(value) {\n                var str = JSON.stringify(value);\n                if ((str == \"0\") && ([\"-0\", \"-0.\"].indexOf(stringified()) >= 0))\n                     return;\n                 if ([\"null\", \"\"].indexOf(str) >= 0)\n                     return;\n                stringified(str);\n            });\n            ko.applyBindingsToNode(\n                element,\n                {\n                    value: stringified,\n                    valueUpdate: allBindings.get('valueUpdate'),\n                },\n                context,\n            );\n        }\n    };\n    var json_data = {\"formatted_vals\":[\"0.0\",\"0.1\",\"0.2\",\"0.3\",\"0.4\",\"0.5\",\"0.6\",\"0.7\",\"0.8\",\"0.9\",\"1.0\",\"1.1\",\"1.2\",\"1.3\",\"1.4\",\"1.5\",\"1.6\",\"1.7\",\"1.8\",\"1.9\",\"2.0\",\"2.1\",\"2.2\",\"2.3\",\"2.4\",\"2.5\",\"2.6\",\"2.7\",\"2.8\",\"2.9\",\"3.0\",\"3.1\",\"3.2\",\"3.3\",\"3.4\",\"3.5\",\"3.6\",\"3.7\",\"3.8\",\"3.9\",\"4.0\"],\"changes\":WebIO.getval({\"name\":\"changes\",\"scope\":\"6991212308307436217\",\"id\":\"6356794911603041607\",\"type\":\"observable\"}),\"index\":WebIO.getval({\"name\":\"index\",\"scope\":\"6991212308307436217\",\"id\":\"5860970303887339234\",\"type\":\"observable\"})};\n    var self = this;\n    function AppViewModel() {\n        for (var key in json_data) {\n            var el = json_data[key];\n            this[key] = Array.isArray(el) ? ko.observableArray(el) : ko.observable(el);\n        }\n        \n        [this[\"formatted_val\"]=ko.computed(    function(){\n        return this.formatted_vals()[parseInt(this.index())-(1)];\n    }\n,this)]\n        [this[\"changes\"].subscribe((function (val){!(this.valueFromJulia[\"changes\"]) ? (WebIO.setval({\"name\":\"changes\",\"scope\":\"6991212308307436217\",\"id\":\"6356794911603041607\",\"type\":\"observable\"},val)) : undefined; return this.valueFromJulia[\"changes\"]=false}),self),this[\"index\"].subscribe((function (val){!(this.valueFromJulia[\"index\"]) ? (WebIO.setval({\"name\":\"index\",\"scope\":\"6991212308307436217\",\"id\":\"5860970303887339234\",\"type\":\"observable\"},val)) : undefined; return this.valueFromJulia[\"index\"]=false}),self)]\n        \n    }\n    self.model = new AppViewModel();\n    self.valueFromJulia = {};\n    for (var key in json_data) {\n        self.valueFromJulia[key] = false;\n    }\n    ko.applyBindings(self.model, self.dom);\n}\n);\n    (WebIO.importBlock({\"data\":[{\"name\":\"knockout\",\"type\":\"js\",\"url\":\"/assetserver/e5cbfdabe81708ad8b2e387c1b27ccacddcf177b-knockout.js\"},{\"name\":\"knockout_punches\",\"type\":\"js\",\"url\":\"/assetserver/d08034b97e1cc25d7f0ffedee8f015b6c4911c78-knockout_punches.js\"}],\"type\":\"async_block\"})).then((imports) => handler.apply(this, imports));\n}\n"
            ],
            "observables": {
             "changes": {
              "id": "6356794911603041607",
              "sync": false,
              "value": 0
             },
             "index": {
              "id": "5860970303887339234",
              "sync": true,
              "value": 21
             }
            },
            "systemjs_options": null
           },
           "nodeType": "Scope",
           "props": {},
           "type": "node"
          }
         ],
         "instanceArgs": {
          "namespace": "html",
          "tag": "div"
         },
         "nodeType": "DOM",
         "props": {
          "className": "field interact-widget"
         },
         "type": "node"
        },
        {
         "children": [
          {
           "children": [],
           "instanceArgs": {
            "id": "16729973682640301099",
            "name": "obs-node"
           },
           "nodeType": "ObservableNode",
           "props": {},
           "type": "node"
          }
         ],
         "instanceArgs": {
          "handlers": {},
          "id": "6734299522514262114",
          "imports": {
           "data": [],
           "type": "async_block"
          },
          "mount_callbacks": [],
          "observables": {
           "obs-node": {
            "id": "16729973682640301099",
            "sync": false,
            "value": {
             "children": [
              {
               "children": [],
               "instanceArgs": {
                "namespace": "html",
                "tag": "div"
               },
               "nodeType": "DOM",
               "props": {
                "setInnerHtml": "<?xml version=\"1.0\" encoding=\"utf-8\"?>\n<svg xmlns=\"http://www.w3.org/2000/svg\" xmlns:xlink=\"http://www.w3.org/1999/xlink\" width=\"600\" height=\"400\" viewBox=\"0 0 2400 1600\">\n<defs>\n  <clipPath id=\"clip950\">\n    <rect x=\"0\" y=\"0\" width=\"2400\" height=\"1600\"/>\n  </clipPath>\n</defs>\n<path clip-path=\"url(#clip950)\" d=\"\nM0 1600 L2400 1600 L2400 0 L0 0  Z\n  \" fill=\"#ffffff\" fill-rule=\"evenodd\" fill-opacity=\"1\"/>\n<defs>\n  <clipPath id=\"clip951\">\n    <rect x=\"480\" y=\"0\" width=\"1681\" height=\"1600\"/>\n  </clipPath>\n</defs>\n<path clip-path=\"url(#clip950)\" d=\"\nM637.294 1486.45 L1896.6 1486.45 L1896.6 47.2441 L637.294 47.2441  Z\n  \" fill=\"#ffffff\" fill-rule=\"evenodd\" fill-opacity=\"1\"/>\n<defs>\n  <clipPath id=\"clip952\">\n    <rect x=\"637\" y=\"47\" width=\"1260\" height=\"1440\"/>\n  </clipPath>\n</defs>\n<polyline clip-path=\"url(#clip952)\" style=\"stroke:#000000; stroke-width:2; stroke-opacity:0.1; fill:none\" points=\"\n  672.935,1486.45 672.935,47.2441 \n  \"/>\n<polyline clip-path=\"url(#clip952)\" style=\"stroke:#000000; stroke-width:2; stroke-opacity:0.1; fill:none\" points=\"\n  1012.37,1486.45 1012.37,47.2441 \n  \"/>\n<polyline clip-path=\"url(#clip952)\" style=\"stroke:#000000; stroke-width:2; stroke-opacity:0.1; fill:none\" points=\"\n  1351.8,1486.45 1351.8,47.2441 \n  \"/>\n<polyline clip-path=\"url(#clip952)\" style=\"stroke:#000000; stroke-width:2; stroke-opacity:0.1; fill:none\" points=\"\n  1691.24,1486.45 1691.24,47.2441 \n  \"/>\n<polyline clip-path=\"url(#clip950)\" style=\"stroke:#000000; stroke-width:4; stroke-opacity:1; fill:none\" points=\"\n  637.294,1486.45 1896.6,1486.45 \n  \"/>\n<polyline clip-path=\"url(#clip950)\" style=\"stroke:#000000; stroke-width:4; stroke-opacity:1; fill:none\" points=\"\n  672.935,1486.45 672.935,1469.18 \n  \"/>\n<polyline clip-path=\"url(#clip950)\" style=\"stroke:#000000; stroke-width:4; stroke-opacity:1; fill:none\" points=\"\n  1012.37,1486.45 1012.37,1469.18 \n  \"/>\n<polyline clip-path=\"url(#clip950)\" style=\"stroke:#000000; stroke-width:4; stroke-opacity:1; fill:none\" points=\"\n  1351.8,1486.45 1351.8,1469.18 \n  \"/>\n<polyline clip-path=\"url(#clip950)\" style=\"stroke:#000000; stroke-width:4; stroke-opacity:1; fill:none\" points=\"\n  1691.24,1486.45 1691.24,1469.18 \n  \"/>\n<path clip-path=\"url(#clip950)\" d=\"M 0 0 M654.451 1515.64 Q650.84 1515.64 649.011 1519.2 Q647.206 1522.75 647.206 1529.87 Q647.206 1536.98 649.011 1540.55 Q650.84 1544.09 654.451 1544.09 Q658.085 1544.09 659.891 1540.55 Q661.719 1536.98 661.719 1529.87 Q661.719 1522.75 659.891 1519.2 Q658.085 1515.64 654.451 1515.64 M654.451 1511.93 Q660.261 1511.93 663.317 1516.54 Q666.395 1521.12 666.395 1529.87 Q666.395 1538.6 663.317 1543.21 Q660.261 1547.79 654.451 1547.79 Q648.641 1547.79 645.562 1543.21 Q642.506 1538.6 642.506 1529.87 Q642.506 1521.12 645.562 1516.54 Q648.641 1511.93 654.451 1511.93 Z\" fill=\"#000000\" fill-rule=\"evenodd\" fill-opacity=\"1\" /><path clip-path=\"url(#clip950)\" d=\"M 0 0 M671.465 1541.24 L676.349 1541.24 L676.349 1547.12 L671.465 1547.12 L671.465 1541.24 Z\" fill=\"#000000\" fill-rule=\"evenodd\" fill-opacity=\"1\" /><path clip-path=\"url(#clip950)\" d=\"M 0 0 M691.418 1515.64 Q687.807 1515.64 685.978 1519.2 Q684.173 1522.75 684.173 1529.87 Q684.173 1536.98 685.978 1540.55 Q687.807 1544.09 691.418 1544.09 Q695.052 1544.09 696.858 1540.55 Q698.687 1536.98 698.687 1529.87 Q698.687 1522.75 696.858 1519.2 Q695.052 1515.64 691.418 1515.64 M691.418 1511.93 Q697.228 1511.93 700.284 1516.54 Q703.363 1521.12 703.363 1529.87 Q703.363 1538.6 700.284 1543.21 Q697.228 1547.79 691.418 1547.79 Q685.608 1547.79 682.529 1543.21 Q679.474 1538.6 679.474 1529.87 Q679.474 1521.12 682.529 1516.54 Q685.608 1511.93 691.418 1511.93 Z\" fill=\"#000000\" fill-rule=\"evenodd\" fill-opacity=\"1\" /><path clip-path=\"url(#clip950)\" d=\"M 0 0 M994.684 1515.64 Q991.073 1515.64 989.245 1519.2 Q987.439 1522.75 987.439 1529.87 Q987.439 1536.98 989.245 1540.55 Q991.073 1544.09 994.684 1544.09 Q998.319 1544.09 1000.12 1540.55 Q1001.95 1536.98 1001.95 1529.87 Q1001.95 1522.75 1000.12 1519.2 Q998.319 1515.64 994.684 1515.64 M994.684 1511.93 Q1000.49 1511.93 1003.55 1516.54 Q1006.63 1521.12 1006.63 1529.87 Q1006.63 1538.6 1003.55 1543.21 Q1000.49 1547.79 994.684 1547.79 Q988.874 1547.79 985.795 1543.21 Q982.74 1538.6 982.74 1529.87 Q982.74 1521.12 985.795 1516.54 Q988.874 1511.93 994.684 1511.93 Z\" fill=\"#000000\" fill-rule=\"evenodd\" fill-opacity=\"1\" /><path clip-path=\"url(#clip950)\" d=\"M 0 0 M1011.7 1541.24 L1016.58 1541.24 L1016.58 1547.12 L1011.7 1547.12 L1011.7 1541.24 Z\" fill=\"#000000\" fill-rule=\"evenodd\" fill-opacity=\"1\" /><path clip-path=\"url(#clip950)\" d=\"M 0 0 M1025.68 1543.18 L1042 1543.18 L1042 1547.12 L1020.05 1547.12 L1020.05 1543.18 Q1022.72 1540.43 1027.3 1535.8 Q1031.91 1531.15 1033.09 1529.81 Q1035.33 1527.28 1036.21 1525.55 Q1037.11 1523.79 1037.11 1522.1 Q1037.11 1519.34 1035.17 1517.61 Q1033.25 1515.87 1030.15 1515.87 Q1027.95 1515.87 1025.49 1516.63 Q1023.06 1517.4 1020.29 1518.95 L1020.29 1514.23 Q1023.11 1513.09 1025.56 1512.51 Q1028.02 1511.93 1030.05 1511.93 Q1035.42 1511.93 1038.62 1514.62 Q1041.81 1517.31 1041.81 1521.8 Q1041.81 1523.93 1041 1525.85 Q1040.22 1527.74 1038.11 1530.34 Q1037.53 1531.01 1034.43 1534.23 Q1031.33 1537.42 1025.68 1543.18 Z\" fill=\"#000000\" fill-rule=\"evenodd\" fill-opacity=\"1\" /><path clip-path=\"url(#clip950)\" d=\"M 0 0 M1333.08 1515.64 Q1329.47 1515.64 1327.64 1519.2 Q1325.83 1522.75 1325.83 1529.87 Q1325.83 1536.98 1327.64 1540.55 Q1329.47 1544.09 1333.08 1544.09 Q1336.71 1544.09 1338.52 1540.55 Q1340.35 1536.98 1340.35 1529.87 Q1340.35 1522.75 1338.52 1519.2 Q1336.71 1515.64 1333.08 1515.64 M1333.08 1511.93 Q1338.89 1511.93 1341.94 1516.54 Q1345.02 1521.12 1345.02 1529.87 Q1345.02 1538.6 1341.94 1543.21 Q1338.89 1547.79 1333.08 1547.79 Q1327.27 1547.79 1324.19 1543.21 Q1321.13 1538.6 1321.13 1529.87 Q1321.13 1521.12 1324.19 1516.54 Q1327.27 1511.93 1333.08 1511.93 Z\" fill=\"#000000\" fill-rule=\"evenodd\" fill-opacity=\"1\" /><path clip-path=\"url(#clip950)\" d=\"M 0 0 M1350.09 1541.24 L1354.98 1541.24 L1354.98 1547.12 L1350.09 1547.12 L1350.09 1541.24 Z\" fill=\"#000000\" fill-rule=\"evenodd\" fill-opacity=\"1\" /><path clip-path=\"url(#clip950)\" d=\"M 0 0 M1372.89 1516.63 L1361.09 1535.08 L1372.89 1535.08 L1372.89 1516.63 M1371.67 1512.56 L1377.54 1512.56 L1377.54 1535.08 L1382.48 1535.08 L1382.48 1538.97 L1377.54 1538.97 L1377.54 1547.12 L1372.89 1547.12 L1372.89 1538.97 L1357.29 1538.97 L1357.29 1534.46 L1371.67 1512.56 Z\" fill=\"#000000\" fill-rule=\"evenodd\" fill-opacity=\"1\" /><path clip-path=\"url(#clip950)\" d=\"M 0 0 M1672.67 1515.64 Q1669.06 1515.64 1667.23 1519.2 Q1665.43 1522.75 1665.43 1529.87 Q1665.43 1536.98 1667.23 1540.55 Q1669.06 1544.09 1672.67 1544.09 Q1676.31 1544.09 1678.11 1540.55 Q1679.94 1536.98 1679.94 1529.87 Q1679.94 1522.75 1678.11 1519.2 Q1676.31 1515.64 1672.67 1515.64 M1672.67 1511.93 Q1678.48 1511.93 1681.54 1516.54 Q1684.62 1521.12 1684.62 1529.87 Q1684.62 1538.6 1681.54 1543.21 Q1678.48 1547.79 1672.67 1547.79 Q1666.86 1547.79 1663.79 1543.21 Q1660.73 1538.6 1660.73 1529.87 Q1660.73 1521.12 1663.79 1516.54 Q1666.86 1511.93 1672.67 1511.93 Z\" fill=\"#000000\" fill-rule=\"evenodd\" fill-opacity=\"1\" /><path clip-path=\"url(#clip950)\" d=\"M 0 0 M1689.69 1541.24 L1694.57 1541.24 L1694.57 1547.12 L1689.69 1547.12 L1689.69 1541.24 Z\" fill=\"#000000\" fill-rule=\"evenodd\" fill-opacity=\"1\" /><path clip-path=\"url(#clip950)\" d=\"M 0 0 M1710.22 1527.98 Q1707.07 1527.98 1705.22 1530.13 Q1703.39 1532.28 1703.39 1536.03 Q1703.39 1539.76 1705.22 1541.93 Q1707.07 1544.09 1710.22 1544.09 Q1713.37 1544.09 1715.2 1541.93 Q1717.05 1539.76 1717.05 1536.03 Q1717.05 1532.28 1715.2 1530.13 Q1713.37 1527.98 1710.22 1527.98 M1719.5 1513.32 L1719.5 1517.58 Q1717.74 1516.75 1715.94 1516.31 Q1714.16 1515.87 1712.4 1515.87 Q1707.77 1515.87 1705.31 1519 Q1702.88 1522.12 1702.54 1528.44 Q1703.9 1526.43 1705.96 1525.36 Q1708.02 1524.27 1710.5 1524.27 Q1715.71 1524.27 1718.72 1527.44 Q1721.75 1530.59 1721.75 1536.03 Q1721.75 1541.36 1718.6 1544.57 Q1715.45 1547.79 1710.22 1547.79 Q1704.23 1547.79 1701.05 1543.21 Q1697.88 1538.6 1697.88 1529.87 Q1697.88 1521.68 1701.77 1516.82 Q1705.66 1511.93 1712.21 1511.93 Q1713.97 1511.93 1715.75 1512.28 Q1717.56 1512.63 1719.5 1513.32 Z\" fill=\"#000000\" fill-rule=\"evenodd\" fill-opacity=\"1\" /><polyline clip-path=\"url(#clip952)\" style=\"stroke:#000000; stroke-width:2; stroke-opacity:0.1; fill:none\" points=\"\n  637.294,1445.72 1896.6,1445.72 \n  \"/>\n<polyline clip-path=\"url(#clip952)\" style=\"stroke:#000000; stroke-width:2; stroke-opacity:0.1; fill:none\" points=\"\n  637.294,1106.28 1896.6,1106.28 \n  \"/>\n<polyline clip-path=\"url(#clip952)\" style=\"stroke:#000000; stroke-width:2; stroke-opacity:0.1; fill:none\" points=\"\n  637.294,766.846 1896.6,766.846 \n  \"/>\n<polyline clip-path=\"url(#clip952)\" style=\"stroke:#000000; stroke-width:2; stroke-opacity:0.1; fill:none\" points=\"\n  637.294,427.411 1896.6,427.411 \n  \"/>\n<polyline clip-path=\"url(#clip952)\" style=\"stroke:#000000; stroke-width:2; stroke-opacity:0.1; fill:none\" points=\"\n  637.294,87.9763 1896.6,87.9763 \n  \"/>\n<polyline clip-path=\"url(#clip950)\" style=\"stroke:#000000; stroke-width:4; stroke-opacity:1; fill:none\" points=\"\n  637.294,1486.45 637.294,47.2441 \n  \"/>\n<polyline clip-path=\"url(#clip950)\" style=\"stroke:#000000; stroke-width:4; stroke-opacity:1; fill:none\" points=\"\n  637.294,1445.72 652.406,1445.72 \n  \"/>\n<polyline clip-path=\"url(#clip950)\" style=\"stroke:#000000; stroke-width:4; stroke-opacity:1; fill:none\" points=\"\n  637.294,1106.28 652.406,1106.28 \n  \"/>\n<polyline clip-path=\"url(#clip950)\" style=\"stroke:#000000; stroke-width:4; stroke-opacity:1; fill:none\" points=\"\n  637.294,766.846 652.406,766.846 \n  \"/>\n<polyline clip-path=\"url(#clip950)\" style=\"stroke:#000000; stroke-width:4; stroke-opacity:1; fill:none\" points=\"\n  637.294,427.411 652.406,427.411 \n  \"/>\n<polyline clip-path=\"url(#clip950)\" style=\"stroke:#000000; stroke-width:4; stroke-opacity:1; fill:none\" points=\"\n  637.294,87.9763 652.406,87.9763 \n  \"/>\n<path clip-path=\"url(#clip950)\" d=\"M 0 0 M507.151 1446.17 L536.827 1446.17 L536.827 1450.1 L507.151 1450.1 L507.151 1446.17 Z\" fill=\"#000000\" fill-rule=\"evenodd\" fill-opacity=\"1\" /><path clip-path=\"url(#clip950)\" d=\"M 0 0 M551.896 1431.51 Q548.285 1431.51 546.456 1435.08 Q544.651 1438.62 544.651 1445.75 Q544.651 1452.86 546.456 1456.42 Q548.285 1459.96 551.896 1459.96 Q555.53 1459.96 557.336 1456.42 Q559.164 1452.86 559.164 1445.75 Q559.164 1438.62 557.336 1435.08 Q555.53 1431.51 551.896 1431.51 M551.896 1427.81 Q557.706 1427.81 560.762 1432.42 Q563.84 1437 563.84 1445.75 Q563.84 1454.48 560.762 1459.08 Q557.706 1463.67 551.896 1463.67 Q546.086 1463.67 543.007 1459.08 Q539.952 1454.48 539.952 1445.75 Q539.952 1437 543.007 1432.42 Q546.086 1427.81 551.896 1427.81 Z\" fill=\"#000000\" fill-rule=\"evenodd\" fill-opacity=\"1\" /><path clip-path=\"url(#clip950)\" d=\"M 0 0 M568.91 1457.12 L573.794 1457.12 L573.794 1463 L568.91 1463 L568.91 1457.12 Z\" fill=\"#000000\" fill-rule=\"evenodd\" fill-opacity=\"1\" /><path clip-path=\"url(#clip950)\" d=\"M 0 0 M591.711 1432.51 L579.905 1450.96 L591.711 1450.96 L591.711 1432.51 M590.484 1428.44 L596.363 1428.44 L596.363 1450.96 L601.294 1450.96 L601.294 1454.85 L596.363 1454.85 L596.363 1463 L591.711 1463 L591.711 1454.85 L576.109 1454.85 L576.109 1450.33 L590.484 1428.44 Z\" fill=\"#000000\" fill-rule=\"evenodd\" fill-opacity=\"1\" /><path clip-path=\"url(#clip950)\" d=\"M 0 0 M509.234 1106.73 L538.91 1106.73 L538.91 1110.67 L509.234 1110.67 L509.234 1106.73 Z\" fill=\"#000000\" fill-rule=\"evenodd\" fill-opacity=\"1\" /><path clip-path=\"url(#clip950)\" d=\"M 0 0 M553.979 1092.08 Q550.368 1092.08 548.54 1095.64 Q546.734 1099.19 546.734 1106.32 Q546.734 1113.42 548.54 1116.99 Q550.368 1120.53 553.979 1120.53 Q557.614 1120.53 559.419 1116.99 Q561.248 1113.42 561.248 1106.32 Q561.248 1099.19 559.419 1095.64 Q557.614 1092.08 553.979 1092.08 M553.979 1088.38 Q559.789 1088.38 562.845 1092.98 Q565.924 1097.57 565.924 1106.32 Q565.924 1115.04 562.845 1119.65 Q559.789 1124.23 553.979 1124.23 Q548.169 1124.23 545.09 1119.65 Q542.035 1115.04 542.035 1106.32 Q542.035 1097.57 545.09 1092.98 Q548.169 1088.38 553.979 1088.38 Z\" fill=\"#000000\" fill-rule=\"evenodd\" fill-opacity=\"1\" /><path clip-path=\"url(#clip950)\" d=\"M 0 0 M570.993 1117.68 L575.877 1117.68 L575.877 1123.56 L570.993 1123.56 L570.993 1117.68 Z\" fill=\"#000000\" fill-rule=\"evenodd\" fill-opacity=\"1\" /><path clip-path=\"url(#clip950)\" d=\"M 0 0 M584.975 1119.63 L601.294 1119.63 L601.294 1123.56 L579.35 1123.56 L579.35 1119.63 Q582.012 1116.87 586.595 1112.24 Q591.201 1107.59 592.382 1106.25 Q594.627 1103.72 595.507 1101.99 Q596.41 1100.23 596.41 1098.54 Q596.41 1095.78 594.465 1094.05 Q592.544 1092.31 589.442 1092.31 Q587.243 1092.31 584.789 1093.07 Q582.359 1093.84 579.581 1095.39 L579.581 1090.67 Q582.405 1089.53 584.859 1088.95 Q587.312 1088.38 589.349 1088.38 Q594.72 1088.38 597.914 1091.06 Q601.109 1093.75 601.109 1098.24 Q601.109 1100.37 600.299 1102.29 Q599.511 1104.19 597.405 1106.78 Q596.826 1107.45 593.724 1110.67 Q590.623 1113.86 584.975 1119.63 Z\" fill=\"#000000\" fill-rule=\"evenodd\" fill-opacity=\"1\" /><path clip-path=\"url(#clip950)\" d=\"M 0 0 M552.382 752.645 Q548.771 752.645 546.942 756.209 Q545.137 759.751 545.137 766.881 Q545.137 773.987 546.942 777.552 Q548.771 781.094 552.382 781.094 Q556.016 781.094 557.822 777.552 Q559.651 773.987 559.651 766.881 Q559.651 759.751 557.822 756.209 Q556.016 752.645 552.382 752.645 M552.382 748.941 Q558.192 748.941 561.248 753.547 Q564.326 758.131 564.326 766.881 Q564.326 775.608 561.248 780.214 Q558.192 784.797 552.382 784.797 Q546.572 784.797 543.493 780.214 Q540.438 775.608 540.438 766.881 Q540.438 758.131 543.493 753.547 Q546.572 748.941 552.382 748.941 Z\" fill=\"#000000\" fill-rule=\"evenodd\" fill-opacity=\"1\" /><path clip-path=\"url(#clip950)\" d=\"M 0 0 M569.396 778.246 L574.28 778.246 L574.28 784.126 L569.396 784.126 L569.396 778.246 Z\" fill=\"#000000\" fill-rule=\"evenodd\" fill-opacity=\"1\" /><path clip-path=\"url(#clip950)\" d=\"M 0 0 M589.349 752.645 Q585.738 752.645 583.91 756.209 Q582.104 759.751 582.104 766.881 Q582.104 773.987 583.91 777.552 Q585.738 781.094 589.349 781.094 Q592.984 781.094 594.789 777.552 Q596.618 773.987 596.618 766.881 Q596.618 759.751 594.789 756.209 Q592.984 752.645 589.349 752.645 M589.349 748.941 Q595.16 748.941 598.215 753.547 Q601.294 758.131 601.294 766.881 Q601.294 775.608 598.215 780.214 Q595.16 784.797 589.349 784.797 Q583.539 784.797 580.461 780.214 Q577.405 775.608 577.405 766.881 Q577.405 758.131 580.461 753.547 Q583.539 748.941 589.349 748.941 Z\" fill=\"#000000\" fill-rule=\"evenodd\" fill-opacity=\"1\" /><path clip-path=\"url(#clip950)\" d=\"M 0 0 M553.979 413.21 Q550.368 413.21 548.54 416.775 Q546.734 420.316 546.734 427.446 Q546.734 434.552 548.54 438.117 Q550.368 441.659 553.979 441.659 Q557.614 441.659 559.419 438.117 Q561.248 434.552 561.248 427.446 Q561.248 420.316 559.419 416.775 Q557.614 413.21 553.979 413.21 M553.979 409.506 Q559.789 409.506 562.845 414.113 Q565.924 418.696 565.924 427.446 Q565.924 436.173 562.845 440.779 Q559.789 445.362 553.979 445.362 Q548.169 445.362 545.09 440.779 Q542.035 436.173 542.035 427.446 Q542.035 418.696 545.09 414.113 Q548.169 409.506 553.979 409.506 Z\" fill=\"#000000\" fill-rule=\"evenodd\" fill-opacity=\"1\" /><path clip-path=\"url(#clip950)\" d=\"M 0 0 M570.993 438.812 L575.877 438.812 L575.877 444.691 L570.993 444.691 L570.993 438.812 Z\" fill=\"#000000\" fill-rule=\"evenodd\" fill-opacity=\"1\" /><path clip-path=\"url(#clip950)\" d=\"M 0 0 M584.975 440.756 L601.294 440.756 L601.294 444.691 L579.35 444.691 L579.35 440.756 Q582.012 438.001 586.595 433.372 Q591.201 428.719 592.382 427.376 Q594.627 424.853 595.507 423.117 Q596.41 421.358 596.41 419.668 Q596.41 416.914 594.465 415.177 Q592.544 413.441 589.442 413.441 Q587.243 413.441 584.789 414.205 Q582.359 414.969 579.581 416.52 L579.581 411.798 Q582.405 410.664 584.859 410.085 Q587.312 409.506 589.349 409.506 Q594.72 409.506 597.914 412.191 Q601.109 414.876 601.109 419.367 Q601.109 421.497 600.299 423.418 Q599.511 425.316 597.405 427.909 Q596.826 428.58 593.724 431.798 Q590.623 434.992 584.975 440.756 Z\" fill=\"#000000\" fill-rule=\"evenodd\" fill-opacity=\"1\" /><path clip-path=\"url(#clip950)\" d=\"M 0 0 M551.896 73.775 Q548.285 73.775 546.456 77.3398 Q544.651 80.8814 544.651 88.011 Q544.651 95.1174 546.456 98.6822 Q548.285 102.224 551.896 102.224 Q555.53 102.224 557.336 98.6822 Q559.164 95.1174 559.164 88.011 Q559.164 80.8814 557.336 77.3398 Q555.53 73.775 551.896 73.775 M551.896 70.0713 Q557.706 70.0713 560.762 74.6777 Q563.84 79.261 563.84 88.011 Q563.84 96.7378 560.762 101.344 Q557.706 105.928 551.896 105.928 Q546.086 105.928 543.007 101.344 Q539.952 96.7378 539.952 88.011 Q539.952 79.261 543.007 74.6777 Q546.086 70.0713 551.896 70.0713 Z\" fill=\"#000000\" fill-rule=\"evenodd\" fill-opacity=\"1\" /><path clip-path=\"url(#clip950)\" d=\"M 0 0 M568.91 99.3767 L573.794 99.3767 L573.794 105.256 L568.91 105.256 L568.91 99.3767 Z\" fill=\"#000000\" fill-rule=\"evenodd\" fill-opacity=\"1\" /><path clip-path=\"url(#clip950)\" d=\"M 0 0 M591.711 74.7703 L579.905 93.2193 L591.711 93.2193 L591.711 74.7703 M590.484 70.6963 L596.363 70.6963 L596.363 93.2193 L601.294 93.2193 L601.294 97.1082 L596.363 97.1082 L596.363 105.256 L591.711 105.256 L591.711 97.1082 L576.109 97.1082 L576.109 92.5943 L590.484 70.6963 Z\" fill=\"#000000\" fill-rule=\"evenodd\" fill-opacity=\"1\" /><polyline clip-path=\"url(#clip952)\" style=\"stroke:#009af9; stroke-width:4; stroke-opacity:1; fill:none\" points=\"\n  672.935,766.846 713.945,727.108 752.407,692.361 788.689,662.113 823.09,635.969 855.851,613.611 887.175,594.78 917.227,579.264 946.145,566.885 974.045,557.499 \n  1001.02,550.984 1027.15,547.233 1052.49,546.158 1077.1,547.678 1101.01,551.719 1124.25,558.213 1146.84,567.087 1168.78,578.274 1190.09,591.701 1210.77,607.293 \n  1230.82,624.969 1250.23,644.648 1269.01,666.243 1287.16,689.667 1304.68,714.828 1321.56,741.634 1337.81,769.992 1353.44,799.813 1368.46,831.009 1382.87,863.492 \n  1396.68,897.178 1409.9,931.981 1422.55,967.819 1434.64,1004.61 1446.19,1042.29 1457.2,1080.78 1467.71,1120.03 1477.72,1159.97 1487.26,1200.55 1496.33,1241.71 \n  1504.97,1283.41 \n  \"/>\n<path clip-path=\"url(#clip950)\" d=\"\nM1505.79 216.178 L1854.62 216.178 L1854.62 95.2176 L1505.79 95.2176  Z\n  \" fill=\"#ffffff\" fill-rule=\"evenodd\" fill-opacity=\"1\"/>\n<polyline clip-path=\"url(#clip950)\" style=\"stroke:#000000; stroke-width:4; stroke-opacity:1; fill:none\" points=\"\n  1505.79,216.178 1854.62,216.178 1854.62,95.2176 1505.79,95.2176 1505.79,216.178 \n  \"/>\n<polyline clip-path=\"url(#clip950)\" style=\"stroke:#009af9; stroke-width:4; stroke-opacity:1; fill:none\" points=\"\n  1519.78,155.698 1603.73,155.698 \n  \"/>\n<path clip-path=\"url(#clip950)\" d=\"M 0 0 M1625.13 139.691 L1625.13 147.052 L1633.91 147.052 L1633.91 150.362 L1625.13 150.362 L1625.13 164.436 Q1625.13 167.607 1625.99 168.51 Q1626.87 169.413 1629.53 169.413 L1633.91 169.413 L1633.91 172.978 L1629.53 172.978 Q1624.6 172.978 1622.72 171.149 Q1620.85 169.297 1620.85 164.436 L1620.85 150.362 L1617.72 150.362 L1617.72 147.052 L1620.85 147.052 L1620.85 139.691 L1625.13 139.691 Z\" fill=\"#000000\" fill-rule=\"evenodd\" fill-opacity=\"1\" /><path clip-path=\"url(#clip950)\" d=\"M 0 0 M1653.4 151.033 Q1652.68 150.617 1651.82 150.431 Q1650.99 150.223 1649.97 150.223 Q1646.36 150.223 1644.41 152.584 Q1642.49 154.922 1642.49 159.32 L1642.49 172.978 L1638.21 172.978 L1638.21 147.052 L1642.49 147.052 L1642.49 151.08 Q1643.84 148.718 1645.99 147.584 Q1648.14 146.427 1651.22 146.427 Q1651.66 146.427 1652.19 146.496 Q1652.72 146.543 1653.37 146.658 L1653.4 151.033 Z\" fill=\"#000000\" fill-rule=\"evenodd\" fill-opacity=\"1\" /><path clip-path=\"url(#clip950)\" d=\"M 0 0 M1669.65 159.945 Q1664.48 159.945 1662.49 161.126 Q1660.5 162.306 1660.5 165.154 Q1660.5 167.422 1661.98 168.765 Q1663.49 170.084 1666.06 170.084 Q1669.6 170.084 1671.73 167.584 Q1673.88 165.061 1673.88 160.894 L1673.88 159.945 L1669.65 159.945 M1678.14 158.186 L1678.14 172.978 L1673.88 172.978 L1673.88 169.042 Q1672.42 171.403 1670.25 172.538 Q1668.07 173.649 1664.92 173.649 Q1660.94 173.649 1658.58 171.427 Q1656.24 169.181 1656.24 165.431 Q1656.24 161.056 1659.16 158.834 Q1662.1 156.612 1667.91 156.612 L1673.88 156.612 L1673.88 156.195 Q1673.88 153.255 1671.94 151.658 Q1670.02 150.038 1666.52 150.038 Q1664.3 150.038 1662.19 150.57 Q1660.09 151.103 1658.14 152.167 L1658.14 148.232 Q1660.48 147.33 1662.68 146.89 Q1664.88 146.427 1666.96 146.427 Q1672.59 146.427 1675.36 149.343 Q1678.14 152.26 1678.14 158.186 Z\" fill=\"#000000\" fill-rule=\"evenodd\" fill-opacity=\"1\" /><path clip-path=\"url(#clip950)\" d=\"M 0 0 M1682.61 147.052 L1686.87 147.052 L1686.87 173.441 Q1686.87 178.394 1684.97 180.616 Q1683.09 182.839 1678.91 182.839 L1677.28 182.839 L1677.28 179.228 L1678.42 179.228 Q1680.85 179.228 1681.73 178.093 Q1682.61 176.982 1682.61 173.441 L1682.61 147.052 M1682.61 136.959 L1686.87 136.959 L1686.87 142.353 L1682.61 142.353 L1682.61 136.959 Z\" fill=\"#000000\" fill-rule=\"evenodd\" fill-opacity=\"1\" /><path clip-path=\"url(#clip950)\" d=\"M 0 0 M1713.51 158.95 L1713.51 161.033 L1693.93 161.033 Q1694.21 165.431 1696.57 167.746 Q1698.95 170.038 1703.19 170.038 Q1705.64 170.038 1707.93 169.436 Q1710.25 168.834 1712.52 167.63 L1712.52 171.658 Q1710.22 172.63 1707.82 173.14 Q1705.41 173.649 1702.93 173.649 Q1696.73 173.649 1693.09 170.038 Q1689.48 166.427 1689.48 160.269 Q1689.48 153.904 1692.91 150.177 Q1696.36 146.427 1702.19 146.427 Q1707.42 146.427 1710.46 149.806 Q1713.51 153.163 1713.51 158.95 M1709.25 157.7 Q1709.21 154.205 1707.28 152.121 Q1705.39 150.038 1702.24 150.038 Q1698.67 150.038 1696.52 152.052 Q1694.39 154.066 1694.07 157.723 L1709.25 157.7 Z\" fill=\"#000000\" fill-rule=\"evenodd\" fill-opacity=\"1\" /><path clip-path=\"url(#clip950)\" d=\"M 0 0 M1736.64 148.047 L1736.64 152.029 Q1734.83 151.033 1733 150.547 Q1731.2 150.038 1729.34 150.038 Q1725.2 150.038 1722.91 152.677 Q1720.62 155.292 1720.62 160.038 Q1720.62 164.783 1722.91 167.422 Q1725.2 170.038 1729.34 170.038 Q1731.2 170.038 1733 169.552 Q1734.83 169.042 1736.64 168.047 L1736.64 171.982 Q1734.85 172.816 1732.93 173.232 Q1731.03 173.649 1728.88 173.649 Q1723.03 173.649 1719.58 169.968 Q1716.13 166.288 1716.13 160.038 Q1716.13 153.695 1719.6 150.061 Q1723.09 146.427 1729.16 146.427 Q1731.13 146.427 1733 146.843 Q1734.88 147.237 1736.64 148.047 Z\" fill=\"#000000\" fill-rule=\"evenodd\" fill-opacity=\"1\" /><path clip-path=\"url(#clip950)\" d=\"M 0 0 M1745.32 139.691 L1745.32 147.052 L1754.09 147.052 L1754.09 150.362 L1745.32 150.362 L1745.32 164.436 Q1745.32 167.607 1746.17 168.51 Q1747.05 169.413 1749.71 169.413 L1754.09 169.413 L1754.09 172.978 L1749.71 172.978 Q1744.78 172.978 1742.91 171.149 Q1741.03 169.297 1741.03 164.436 L1741.03 150.362 L1737.91 150.362 L1737.91 147.052 L1741.03 147.052 L1741.03 139.691 L1745.32 139.691 Z\" fill=\"#000000\" fill-rule=\"evenodd\" fill-opacity=\"1\" /><path clip-path=\"url(#clip950)\" d=\"M 0 0 M1768.6 150.038 Q1765.18 150.038 1763.19 152.723 Q1761.2 155.385 1761.2 160.038 Q1761.2 164.691 1763.16 167.376 Q1765.15 170.038 1768.6 170.038 Q1772.01 170.038 1774 167.353 Q1775.99 164.667 1775.99 160.038 Q1775.99 155.431 1774 152.746 Q1772.01 150.038 1768.6 150.038 M1768.6 146.427 Q1774.16 146.427 1777.33 150.038 Q1780.5 153.649 1780.5 160.038 Q1780.5 166.404 1777.33 170.038 Q1774.16 173.649 1768.6 173.649 Q1763.03 173.649 1759.85 170.038 Q1756.71 166.404 1756.71 160.038 Q1756.71 153.649 1759.85 150.038 Q1763.03 146.427 1768.6 146.427 Z\" fill=\"#000000\" fill-rule=\"evenodd\" fill-opacity=\"1\" /><path clip-path=\"url(#clip950)\" d=\"M 0 0 M1799.99 151.033 Q1799.27 150.617 1798.42 150.431 Q1797.59 150.223 1796.57 150.223 Q1792.96 150.223 1791.01 152.584 Q1789.09 154.922 1789.09 159.32 L1789.09 172.978 L1784.81 172.978 L1784.81 147.052 L1789.09 147.052 L1789.09 151.08 Q1790.43 148.718 1792.59 147.584 Q1794.74 146.427 1797.82 146.427 Q1798.26 146.427 1798.79 146.496 Q1799.32 146.543 1799.97 146.658 L1799.99 151.033 Z\" fill=\"#000000\" fill-rule=\"evenodd\" fill-opacity=\"1\" /><path clip-path=\"url(#clip950)\" d=\"M 0 0 M1815.25 175.385 Q1813.44 180.015 1811.73 181.427 Q1810.02 182.839 1807.15 182.839 L1803.74 182.839 L1803.74 179.274 L1806.24 179.274 Q1808 179.274 1808.97 178.44 Q1809.95 177.607 1811.13 174.505 L1811.89 172.561 L1801.4 147.052 L1805.92 147.052 L1814.02 167.329 L1822.12 147.052 L1826.64 147.052 L1815.25 175.385 Z\" fill=\"#000000\" fill-rule=\"evenodd\" fill-opacity=\"1\" /></svg>\n"
               },
               "type": "node"
              }
             ],
             "instanceArgs": {
              "namespace": "html",
              "tag": "div"
             },
             "nodeType": "DOM",
             "props": {
              "className": "interact-flex-row interact-widget"
             },
             "type": "node"
            }
           }
          },
          "systemjs_options": null
         },
         "nodeType": "Scope",
         "props": {},
         "type": "node"
        }
       ],
       "instanceArgs": {
        "namespace": "html",
        "tag": "div"
       },
       "nodeType": "DOM",
       "props": {},
       "type": "node"
      },
      "text/html": [
       "<div\n",
       "    class=\"webio-mountpoint\"\n",
       "    data-webio-mountpoint=\"17075802422558628666\"\n",
       ">\n",
       "    <script>\n",
       "    if (window.require && require.defined && require.defined(\"nbextensions/webio-jupyter-notebook\")) {\n",
       "        console.log(\"Jupyter WebIO extension detected, not mounting.\");\n",
       "    } else if (window.WebIO) {\n",
       "        WebIO.mount(\n",
       "            document.querySelector('[data-webio-mountpoint=\"17075802422558628666\"]'),\n",
       "            {\"props\":{},\"nodeType\":\"DOM\",\"type\":\"node\",\"instanceArgs\":{\"namespace\":\"html\",\"tag\":\"div\"},\"children\":[{\"props\":{\"className\":\"field interact-widget\"},\"nodeType\":\"DOM\",\"type\":\"node\",\"instanceArgs\":{\"namespace\":\"html\",\"tag\":\"div\"},\"children\":[{\"props\":{},\"nodeType\":\"Scope\",\"type\":\"node\",\"instanceArgs\":{\"imports\":{\"data\":[{\"name\":\"knockout\",\"type\":\"js\",\"url\":\"\\/assetserver\\/e5cbfdabe81708ad8b2e387c1b27ccacddcf177b-knockout.js\"},{\"name\":\"knockout_punches\",\"type\":\"js\",\"url\":\"\\/assetserver\\/d08034b97e1cc25d7f0ffedee8f015b6c4911c78-knockout_punches.js\"},{\"name\":null,\"type\":\"js\",\"url\":\"\\/assetserver\\/075162f38ca788de5f955c388702f07b0ce91784-all.js\"},{\"name\":null,\"type\":\"css\",\"url\":\"\\/assetserver\\/1c997bba76a87e4c41821989f6a6cf80fc9408c4-style.css\"},{\"name\":null,\"type\":\"css\",\"url\":\"\\/assetserver\\/4f8cf1a5a1cb4b063b10468ed1dcff422b8db06e-bulma_confined.min.css\"}],\"type\":\"async_block\"},\"id\":\"15898171213732912577\",\"handlers\":{\"changes\":[\"(function (val){return (val!=this.model[\\\"changes\\\"]()) ? (this.valueFromJulia[\\\"changes\\\"]=true, this.model[\\\"changes\\\"](val)) : undefined})\"],\"index\":[\"(function (val){return (val!=this.model[\\\"index\\\"]()) ? (this.valueFromJulia[\\\"index\\\"]=true, this.model[\\\"index\\\"](val)) : undefined})\"]},\"systemjs_options\":null,\"mount_callbacks\":[\"function () {\\n    var handler = (function (ko, koPunches) {\\n    ko.punches.enableAll();\\n    ko.bindingHandlers.numericValue = {\\n        init: function(element, valueAccessor, allBindings, data, context) {\\n            var stringified = ko.observable(ko.unwrap(valueAccessor()));\\n            stringified.subscribe(function(value) {\\n                var val = parseFloat(value);\\n                if (!isNaN(val)) {\\n                    valueAccessor()(val);\\n                }\\n            });\\n            valueAccessor().subscribe(function(value) {\\n                var str = JSON.stringify(value);\\n                if ((str == \\\"0\\\") && ([\\\"-0\\\", \\\"-0.\\\"].indexOf(stringified()) >= 0))\\n                     return;\\n                 if ([\\\"null\\\", \\\"\\\"].indexOf(str) >= 0)\\n                     return;\\n                stringified(str);\\n            });\\n            ko.applyBindingsToNode(\\n                element,\\n                {\\n                    value: stringified,\\n                    valueUpdate: allBindings.get('valueUpdate'),\\n                },\\n                context,\\n            );\\n        }\\n    };\\n    var json_data = {\\\"formatted_vals\\\":[\\\"0.0\\\",\\\"0.1\\\",\\\"0.2\\\",\\\"0.3\\\",\\\"0.4\\\",\\\"0.5\\\",\\\"0.6\\\",\\\"0.7\\\",\\\"0.8\\\",\\\"0.9\\\",\\\"1.0\\\",\\\"1.1\\\",\\\"1.2\\\",\\\"1.3\\\",\\\"1.4\\\",\\\"1.5\\\",\\\"1.6\\\",\\\"1.7\\\",\\\"1.8\\\",\\\"1.9\\\",\\\"2.0\\\",\\\"2.1\\\",\\\"2.2\\\",\\\"2.3\\\",\\\"2.4\\\",\\\"2.5\\\",\\\"2.6\\\",\\\"2.7\\\",\\\"2.8\\\",\\\"2.9\\\",\\\"3.0\\\",\\\"3.1\\\",\\\"3.2\\\",\\\"3.3\\\",\\\"3.4\\\",\\\"3.5\\\",\\\"3.6\\\",\\\"3.7\\\",\\\"3.8\\\",\\\"3.9\\\",\\\"4.0\\\"],\\\"changes\\\":WebIO.getval({\\\"name\\\":\\\"changes\\\",\\\"scope\\\":\\\"15898171213732912577\\\",\\\"id\\\":\\\"12294588450860607717\\\",\\\"type\\\":\\\"observable\\\"}),\\\"index\\\":WebIO.getval({\\\"name\\\":\\\"index\\\",\\\"scope\\\":\\\"15898171213732912577\\\",\\\"id\\\":\\\"10358272928928307373\\\",\\\"type\\\":\\\"observable\\\"})};\\n    var self = this;\\n    function AppViewModel() {\\n        for (var key in json_data) {\\n            var el = json_data[key];\\n            this[key] = Array.isArray(el) ? ko.observableArray(el) : ko.observable(el);\\n        }\\n        \\n        [this[\\\"formatted_val\\\"]=ko.computed(    function(){\\n        return this.formatted_vals()[parseInt(this.index())-(1)];\\n    }\\n,this)]\\n        [this[\\\"changes\\\"].subscribe((function (val){!(this.valueFromJulia[\\\"changes\\\"]) ? (WebIO.setval({\\\"name\\\":\\\"changes\\\",\\\"scope\\\":\\\"15898171213732912577\\\",\\\"id\\\":\\\"12294588450860607717\\\",\\\"type\\\":\\\"observable\\\"},val)) : undefined; return this.valueFromJulia[\\\"changes\\\"]=false}),self),this[\\\"index\\\"].subscribe((function (val){!(this.valueFromJulia[\\\"index\\\"]) ? (WebIO.setval({\\\"name\\\":\\\"index\\\",\\\"scope\\\":\\\"15898171213732912577\\\",\\\"id\\\":\\\"10358272928928307373\\\",\\\"type\\\":\\\"observable\\\"},val)) : undefined; return this.valueFromJulia[\\\"index\\\"]=false}),self)]\\n        \\n    }\\n    self.model = new AppViewModel();\\n    self.valueFromJulia = {};\\n    for (var key in json_data) {\\n        self.valueFromJulia[key] = false;\\n    }\\n    ko.applyBindings(self.model, self.dom);\\n}\\n);\\n    (WebIO.importBlock({\\\"data\\\":[{\\\"name\\\":\\\"knockout\\\",\\\"type\\\":\\\"js\\\",\\\"url\\\":\\\"\\/assetserver\\/e5cbfdabe81708ad8b2e387c1b27ccacddcf177b-knockout.js\\\"},{\\\"name\\\":\\\"knockout_punches\\\",\\\"type\\\":\\\"js\\\",\\\"url\\\":\\\"\\/assetserver\\/d08034b97e1cc25d7f0ffedee8f015b6c4911c78-knockout_punches.js\\\"}],\\\"type\\\":\\\"async_block\\\"})).then((imports) => handler.apply(this, imports));\\n}\\n\"],\"observables\":{\"changes\":{\"sync\":false,\"id\":\"12294588450860607717\",\"value\":0},\"index\":{\"sync\":true,\"id\":\"10358272928928307373\",\"value\":21}}},\"children\":[{\"props\":{\"className\":\"interact-flex-row interact-widget\"},\"nodeType\":\"DOM\",\"type\":\"node\",\"instanceArgs\":{\"namespace\":\"html\",\"tag\":\"div\"},\"children\":[{\"props\":{\"className\":\"interact-flex-row-left\"},\"nodeType\":\"DOM\",\"type\":\"node\",\"instanceArgs\":{\"namespace\":\"html\",\"tag\":\"div\"},\"children\":[{\"props\":{\"className\":\"interact \",\"style\":{\"padding\":\"5px 10px 0px 10px\"}},\"nodeType\":\"DOM\",\"type\":\"node\",\"instanceArgs\":{\"namespace\":\"html\",\"tag\":\"label\"},\"children\":[\"InitialVelocityX\"]}]},{\"props\":{\"className\":\"interact-flex-row-center\"},\"nodeType\":\"DOM\",\"type\":\"node\",\"instanceArgs\":{\"namespace\":\"html\",\"tag\":\"div\"},\"children\":[{\"props\":{\"max\":41,\"min\":1,\"attributes\":{\"type\":\"range\",\"data-bind\":\"numericValue: index, valueUpdate: 'input', event: {change: function (){this.changes(this.changes()+1)}}\",\"orient\":\"horizontal\"},\"step\":1,\"className\":\"slider slider is-fullwidth\",\"style\":{}},\"nodeType\":\"DOM\",\"type\":\"node\",\"instanceArgs\":{\"namespace\":\"html\",\"tag\":\"input\"},\"children\":[]}]},{\"props\":{\"className\":\"interact-flex-row-right\"},\"nodeType\":\"DOM\",\"type\":\"node\",\"instanceArgs\":{\"namespace\":\"html\",\"tag\":\"div\"},\"children\":[{\"props\":{\"attributes\":{\"data-bind\":\"text: formatted_val\"}},\"nodeType\":\"DOM\",\"type\":\"node\",\"instanceArgs\":{\"namespace\":\"html\",\"tag\":\"p\"},\"children\":[]}]}]}]}]},{\"props\":{\"className\":\"field interact-widget\"},\"nodeType\":\"DOM\",\"type\":\"node\",\"instanceArgs\":{\"namespace\":\"html\",\"tag\":\"div\"},\"children\":[{\"props\":{},\"nodeType\":\"Scope\",\"type\":\"node\",\"instanceArgs\":{\"imports\":{\"data\":[{\"name\":\"knockout\",\"type\":\"js\",\"url\":\"\\/assetserver\\/e5cbfdabe81708ad8b2e387c1b27ccacddcf177b-knockout.js\"},{\"name\":\"knockout_punches\",\"type\":\"js\",\"url\":\"\\/assetserver\\/d08034b97e1cc25d7f0ffedee8f015b6c4911c78-knockout_punches.js\"},{\"name\":null,\"type\":\"js\",\"url\":\"\\/assetserver\\/075162f38ca788de5f955c388702f07b0ce91784-all.js\"},{\"name\":null,\"type\":\"css\",\"url\":\"\\/assetserver\\/1c997bba76a87e4c41821989f6a6cf80fc9408c4-style.css\"},{\"name\":null,\"type\":\"css\",\"url\":\"\\/assetserver\\/4f8cf1a5a1cb4b063b10468ed1dcff422b8db06e-bulma_confined.min.css\"}],\"type\":\"async_block\"},\"id\":\"6983575643853999866\",\"handlers\":{\"changes\":[\"(function (val){return (val!=this.model[\\\"changes\\\"]()) ? (this.valueFromJulia[\\\"changes\\\"]=true, this.model[\\\"changes\\\"](val)) : undefined})\"],\"index\":[\"(function (val){return (val!=this.model[\\\"index\\\"]()) ? (this.valueFromJulia[\\\"index\\\"]=true, this.model[\\\"index\\\"](val)) : undefined})\"]},\"systemjs_options\":null,\"mount_callbacks\":[\"function () {\\n    var handler = (function (ko, koPunches) {\\n    ko.punches.enableAll();\\n    ko.bindingHandlers.numericValue = {\\n        init: function(element, valueAccessor, allBindings, data, context) {\\n            var stringified = ko.observable(ko.unwrap(valueAccessor()));\\n            stringified.subscribe(function(value) {\\n                var val = parseFloat(value);\\n                if (!isNaN(val)) {\\n                    valueAccessor()(val);\\n                }\\n            });\\n            valueAccessor().subscribe(function(value) {\\n                var str = JSON.stringify(value);\\n                if ((str == \\\"0\\\") && ([\\\"-0\\\", \\\"-0.\\\"].indexOf(stringified()) >= 0))\\n                     return;\\n                 if ([\\\"null\\\", \\\"\\\"].indexOf(str) >= 0)\\n                     return;\\n                stringified(str);\\n            });\\n            ko.applyBindingsToNode(\\n                element,\\n                {\\n                    value: stringified,\\n                    valueUpdate: allBindings.get('valueUpdate'),\\n                },\\n                context,\\n            );\\n        }\\n    };\\n    var json_data = {\\\"formatted_vals\\\":[\\\"0.0\\\",\\\"0.1\\\",\\\"0.2\\\",\\\"0.3\\\",\\\"0.4\\\",\\\"0.5\\\",\\\"0.6\\\",\\\"0.7\\\",\\\"0.8\\\",\\\"0.9\\\",\\\"1.0\\\",\\\"1.1\\\",\\\"1.2\\\",\\\"1.3\\\",\\\"1.4\\\",\\\"1.5\\\",\\\"1.6\\\",\\\"1.7\\\",\\\"1.8\\\",\\\"1.9\\\",\\\"2.0\\\",\\\"2.1\\\",\\\"2.2\\\",\\\"2.3\\\",\\\"2.4\\\",\\\"2.5\\\",\\\"2.6\\\",\\\"2.7\\\",\\\"2.8\\\",\\\"2.9\\\",\\\"3.0\\\",\\\"3.1\\\",\\\"3.2\\\",\\\"3.3\\\",\\\"3.4\\\",\\\"3.5\\\",\\\"3.6\\\",\\\"3.7\\\",\\\"3.8\\\",\\\"3.9\\\",\\\"4.0\\\"],\\\"changes\\\":WebIO.getval({\\\"name\\\":\\\"changes\\\",\\\"scope\\\":\\\"6983575643853999866\\\",\\\"id\\\":\\\"10654844784942636347\\\",\\\"type\\\":\\\"observable\\\"}),\\\"index\\\":WebIO.getval({\\\"name\\\":\\\"index\\\",\\\"scope\\\":\\\"6983575643853999866\\\",\\\"id\\\":\\\"16528668855840920620\\\",\\\"type\\\":\\\"observable\\\"})};\\n    var self = this;\\n    function AppViewModel() {\\n        for (var key in json_data) {\\n            var el = json_data[key];\\n            this[key] = Array.isArray(el) ? ko.observableArray(el) : ko.observable(el);\\n        }\\n        \\n        [this[\\\"formatted_val\\\"]=ko.computed(    function(){\\n        return this.formatted_vals()[parseInt(this.index())-(1)];\\n    }\\n,this)]\\n        [this[\\\"changes\\\"].subscribe((function (val){!(this.valueFromJulia[\\\"changes\\\"]) ? (WebIO.setval({\\\"name\\\":\\\"changes\\\",\\\"scope\\\":\\\"6983575643853999866\\\",\\\"id\\\":\\\"10654844784942636347\\\",\\\"type\\\":\\\"observable\\\"},val)) : undefined; return this.valueFromJulia[\\\"changes\\\"]=false}),self),this[\\\"index\\\"].subscribe((function (val){!(this.valueFromJulia[\\\"index\\\"]) ? (WebIO.setval({\\\"name\\\":\\\"index\\\",\\\"scope\\\":\\\"6983575643853999866\\\",\\\"id\\\":\\\"16528668855840920620\\\",\\\"type\\\":\\\"observable\\\"},val)) : undefined; return this.valueFromJulia[\\\"index\\\"]=false}),self)]\\n        \\n    }\\n    self.model = new AppViewModel();\\n    self.valueFromJulia = {};\\n    for (var key in json_data) {\\n        self.valueFromJulia[key] = false;\\n    }\\n    ko.applyBindings(self.model, self.dom);\\n}\\n);\\n    (WebIO.importBlock({\\\"data\\\":[{\\\"name\\\":\\\"knockout\\\",\\\"type\\\":\\\"js\\\",\\\"url\\\":\\\"\\/assetserver\\/e5cbfdabe81708ad8b2e387c1b27ccacddcf177b-knockout.js\\\"},{\\\"name\\\":\\\"knockout_punches\\\",\\\"type\\\":\\\"js\\\",\\\"url\\\":\\\"\\/assetserver\\/d08034b97e1cc25d7f0ffedee8f015b6c4911c78-knockout_punches.js\\\"}],\\\"type\\\":\\\"async_block\\\"})).then((imports) => handler.apply(this, imports));\\n}\\n\"],\"observables\":{\"changes\":{\"sync\":false,\"id\":\"10654844784942636347\",\"value\":0},\"index\":{\"sync\":true,\"id\":\"16528668855840920620\",\"value\":21}}},\"children\":[{\"props\":{\"className\":\"interact-flex-row interact-widget\"},\"nodeType\":\"DOM\",\"type\":\"node\",\"instanceArgs\":{\"namespace\":\"html\",\"tag\":\"div\"},\"children\":[{\"props\":{\"className\":\"interact-flex-row-left\"},\"nodeType\":\"DOM\",\"type\":\"node\",\"instanceArgs\":{\"namespace\":\"html\",\"tag\":\"div\"},\"children\":[{\"props\":{\"className\":\"interact \",\"style\":{\"padding\":\"5px 10px 0px 10px\"}},\"nodeType\":\"DOM\",\"type\":\"node\",\"instanceArgs\":{\"namespace\":\"html\",\"tag\":\"label\"},\"children\":[\"InitialVelocityY\"]}]},{\"props\":{\"className\":\"interact-flex-row-center\"},\"nodeType\":\"DOM\",\"type\":\"node\",\"instanceArgs\":{\"namespace\":\"html\",\"tag\":\"div\"},\"children\":[{\"props\":{\"max\":41,\"min\":1,\"attributes\":{\"type\":\"range\",\"data-bind\":\"numericValue: index, valueUpdate: 'input', event: {change: function (){this.changes(this.changes()+1)}}\",\"orient\":\"horizontal\"},\"step\":1,\"className\":\"slider slider is-fullwidth\",\"style\":{}},\"nodeType\":\"DOM\",\"type\":\"node\",\"instanceArgs\":{\"namespace\":\"html\",\"tag\":\"input\"},\"children\":[]}]},{\"props\":{\"className\":\"interact-flex-row-right\"},\"nodeType\":\"DOM\",\"type\":\"node\",\"instanceArgs\":{\"namespace\":\"html\",\"tag\":\"div\"},\"children\":[{\"props\":{\"attributes\":{\"data-bind\":\"text: formatted_val\"}},\"nodeType\":\"DOM\",\"type\":\"node\",\"instanceArgs\":{\"namespace\":\"html\",\"tag\":\"p\"},\"children\":[]}]}]}]}]},{\"props\":{\"className\":\"field interact-widget\"},\"nodeType\":\"DOM\",\"type\":\"node\",\"instanceArgs\":{\"namespace\":\"html\",\"tag\":\"div\"},\"children\":[{\"props\":{},\"nodeType\":\"Scope\",\"type\":\"node\",\"instanceArgs\":{\"imports\":{\"data\":[{\"name\":\"knockout\",\"type\":\"js\",\"url\":\"\\/assetserver\\/e5cbfdabe81708ad8b2e387c1b27ccacddcf177b-knockout.js\"},{\"name\":\"knockout_punches\",\"type\":\"js\",\"url\":\"\\/assetserver\\/d08034b97e1cc25d7f0ffedee8f015b6c4911c78-knockout_punches.js\"},{\"name\":null,\"type\":\"js\",\"url\":\"\\/assetserver\\/075162f38ca788de5f955c388702f07b0ce91784-all.js\"},{\"name\":null,\"type\":\"css\",\"url\":\"\\/assetserver\\/1c997bba76a87e4c41821989f6a6cf80fc9408c4-style.css\"},{\"name\":null,\"type\":\"css\",\"url\":\"\\/assetserver\\/4f8cf1a5a1cb4b063b10468ed1dcff422b8db06e-bulma_confined.min.css\"}],\"type\":\"async_block\"},\"id\":\"6991212308307436217\",\"handlers\":{\"changes\":[\"(function (val){return (val!=this.model[\\\"changes\\\"]()) ? (this.valueFromJulia[\\\"changes\\\"]=true, this.model[\\\"changes\\\"](val)) : undefined})\"],\"index\":[\"(function (val){return (val!=this.model[\\\"index\\\"]()) ? (this.valueFromJulia[\\\"index\\\"]=true, this.model[\\\"index\\\"](val)) : undefined})\"]},\"systemjs_options\":null,\"mount_callbacks\":[\"function () {\\n    var handler = (function (ko, koPunches) {\\n    ko.punches.enableAll();\\n    ko.bindingHandlers.numericValue = {\\n        init: function(element, valueAccessor, allBindings, data, context) {\\n            var stringified = ko.observable(ko.unwrap(valueAccessor()));\\n            stringified.subscribe(function(value) {\\n                var val = parseFloat(value);\\n                if (!isNaN(val)) {\\n                    valueAccessor()(val);\\n                }\\n            });\\n            valueAccessor().subscribe(function(value) {\\n                var str = JSON.stringify(value);\\n                if ((str == \\\"0\\\") && ([\\\"-0\\\", \\\"-0.\\\"].indexOf(stringified()) >= 0))\\n                     return;\\n                 if ([\\\"null\\\", \\\"\\\"].indexOf(str) >= 0)\\n                     return;\\n                stringified(str);\\n            });\\n            ko.applyBindingsToNode(\\n                element,\\n                {\\n                    value: stringified,\\n                    valueUpdate: allBindings.get('valueUpdate'),\\n                },\\n                context,\\n            );\\n        }\\n    };\\n    var json_data = {\\\"formatted_vals\\\":[\\\"0.0\\\",\\\"0.1\\\",\\\"0.2\\\",\\\"0.3\\\",\\\"0.4\\\",\\\"0.5\\\",\\\"0.6\\\",\\\"0.7\\\",\\\"0.8\\\",\\\"0.9\\\",\\\"1.0\\\",\\\"1.1\\\",\\\"1.2\\\",\\\"1.3\\\",\\\"1.4\\\",\\\"1.5\\\",\\\"1.6\\\",\\\"1.7\\\",\\\"1.8\\\",\\\"1.9\\\",\\\"2.0\\\",\\\"2.1\\\",\\\"2.2\\\",\\\"2.3\\\",\\\"2.4\\\",\\\"2.5\\\",\\\"2.6\\\",\\\"2.7\\\",\\\"2.8\\\",\\\"2.9\\\",\\\"3.0\\\",\\\"3.1\\\",\\\"3.2\\\",\\\"3.3\\\",\\\"3.4\\\",\\\"3.5\\\",\\\"3.6\\\",\\\"3.7\\\",\\\"3.8\\\",\\\"3.9\\\",\\\"4.0\\\"],\\\"changes\\\":WebIO.getval({\\\"name\\\":\\\"changes\\\",\\\"scope\\\":\\\"6991212308307436217\\\",\\\"id\\\":\\\"6356794911603041607\\\",\\\"type\\\":\\\"observable\\\"}),\\\"index\\\":WebIO.getval({\\\"name\\\":\\\"index\\\",\\\"scope\\\":\\\"6991212308307436217\\\",\\\"id\\\":\\\"5860970303887339234\\\",\\\"type\\\":\\\"observable\\\"})};\\n    var self = this;\\n    function AppViewModel() {\\n        for (var key in json_data) {\\n            var el = json_data[key];\\n            this[key] = Array.isArray(el) ? ko.observableArray(el) : ko.observable(el);\\n        }\\n        \\n        [this[\\\"formatted_val\\\"]=ko.computed(    function(){\\n        return this.formatted_vals()[parseInt(this.index())-(1)];\\n    }\\n,this)]\\n        [this[\\\"changes\\\"].subscribe((function (val){!(this.valueFromJulia[\\\"changes\\\"]) ? (WebIO.setval({\\\"name\\\":\\\"changes\\\",\\\"scope\\\":\\\"6991212308307436217\\\",\\\"id\\\":\\\"6356794911603041607\\\",\\\"type\\\":\\\"observable\\\"},val)) : undefined; return this.valueFromJulia[\\\"changes\\\"]=false}),self),this[\\\"index\\\"].subscribe((function (val){!(this.valueFromJulia[\\\"index\\\"]) ? (WebIO.setval({\\\"name\\\":\\\"index\\\",\\\"scope\\\":\\\"6991212308307436217\\\",\\\"id\\\":\\\"5860970303887339234\\\",\\\"type\\\":\\\"observable\\\"},val)) : undefined; return this.valueFromJulia[\\\"index\\\"]=false}),self)]\\n        \\n    }\\n    self.model = new AppViewModel();\\n    self.valueFromJulia = {};\\n    for (var key in json_data) {\\n        self.valueFromJulia[key] = false;\\n    }\\n    ko.applyBindings(self.model, self.dom);\\n}\\n);\\n    (WebIO.importBlock({\\\"data\\\":[{\\\"name\\\":\\\"knockout\\\",\\\"type\\\":\\\"js\\\",\\\"url\\\":\\\"\\/assetserver\\/e5cbfdabe81708ad8b2e387c1b27ccacddcf177b-knockout.js\\\"},{\\\"name\\\":\\\"knockout_punches\\\",\\\"type\\\":\\\"js\\\",\\\"url\\\":\\\"\\/assetserver\\/d08034b97e1cc25d7f0ffedee8f015b6c4911c78-knockout_punches.js\\\"}],\\\"type\\\":\\\"async_block\\\"})).then((imports) => handler.apply(this, imports));\\n}\\n\"],\"observables\":{\"changes\":{\"sync\":false,\"id\":\"6356794911603041607\",\"value\":0},\"index\":{\"sync\":true,\"id\":\"5860970303887339234\",\"value\":21}}},\"children\":[{\"props\":{\"className\":\"interact-flex-row interact-widget\"},\"nodeType\":\"DOM\",\"type\":\"node\",\"instanceArgs\":{\"namespace\":\"html\",\"tag\":\"div\"},\"children\":[{\"props\":{\"className\":\"interact-flex-row-left\"},\"nodeType\":\"DOM\",\"type\":\"node\",\"instanceArgs\":{\"namespace\":\"html\",\"tag\":\"div\"},\"children\":[{\"props\":{\"className\":\"interact \",\"style\":{\"padding\":\"5px 10px 0px 10px\"}},\"nodeType\":\"DOM\",\"type\":\"node\",\"instanceArgs\":{\"namespace\":\"html\",\"tag\":\"label\"},\"children\":[\"AirResistanceCoefficient\"]}]},{\"props\":{\"className\":\"interact-flex-row-center\"},\"nodeType\":\"DOM\",\"type\":\"node\",\"instanceArgs\":{\"namespace\":\"html\",\"tag\":\"div\"},\"children\":[{\"props\":{\"max\":41,\"min\":1,\"attributes\":{\"type\":\"range\",\"data-bind\":\"numericValue: index, valueUpdate: 'input', event: {change: function (){this.changes(this.changes()+1)}}\",\"orient\":\"horizontal\"},\"step\":1,\"className\":\"slider slider is-fullwidth\",\"style\":{}},\"nodeType\":\"DOM\",\"type\":\"node\",\"instanceArgs\":{\"namespace\":\"html\",\"tag\":\"input\"},\"children\":[]}]},{\"props\":{\"className\":\"interact-flex-row-right\"},\"nodeType\":\"DOM\",\"type\":\"node\",\"instanceArgs\":{\"namespace\":\"html\",\"tag\":\"div\"},\"children\":[{\"props\":{\"attributes\":{\"data-bind\":\"text: formatted_val\"}},\"nodeType\":\"DOM\",\"type\":\"node\",\"instanceArgs\":{\"namespace\":\"html\",\"tag\":\"p\"},\"children\":[]}]}]}]}]},{\"props\":{},\"nodeType\":\"Scope\",\"type\":\"node\",\"instanceArgs\":{\"imports\":{\"data\":[],\"type\":\"async_block\"},\"id\":\"8718425946858875947\",\"handlers\":{},\"systemjs_options\":null,\"mount_callbacks\":[],\"observables\":{\"obs-node\":{\"sync\":false,\"id\":\"4115128027921537883\",\"value\":{\"props\":{\"className\":\"interact-flex-row interact-widget\"},\"nodeType\":\"DOM\",\"type\":\"node\",\"instanceArgs\":{\"namespace\":\"html\",\"tag\":\"div\"},\"children\":[{\"props\":{\"setInnerHtml\":\"<?xml version=\\\"1.0\\\" encoding=\\\"utf-8\\\"?>\\n<svg xmlns=\\\"http:\\/\\/www.w3.org\\/2000\\/svg\\\" xmlns:xlink=\\\"http:\\/\\/www.w3.org\\/1999\\/xlink\\\" width=\\\"600\\\" height=\\\"400\\\" viewBox=\\\"0 0 2400 1600\\\">\\n<defs>\\n  <clipPath id=\\\"clip910\\\">\\n    <rect x=\\\"0\\\" y=\\\"0\\\" width=\\\"2400\\\" height=\\\"1600\\\"\\/>\\n  <\\/clipPath>\\n<\\/defs>\\n<path clip-path=\\\"url(#clip910)\\\" d=\\\"\\nM0 1600 L2400 1600 L2400 0 L0 0  Z\\n  \\\" fill=\\\"#ffffff\\\" fill-rule=\\\"evenodd\\\" fill-opacity=\\\"1\\\"\\/>\\n<defs>\\n  <clipPath id=\\\"clip911\\\">\\n    <rect x=\\\"480\\\" y=\\\"0\\\" width=\\\"1681\\\" height=\\\"1600\\\"\\/>\\n  <\\/clipPath>\\n<\\/defs>\\n<path clip-path=\\\"url(#clip910)\\\" d=\\\"\\nM637.294 1486.45 L1896.6 1486.45 L1896.6 47.2441 L637.294 47.2441  Z\\n  \\\" fill=\\\"#ffffff\\\" fill-rule=\\\"evenodd\\\" fill-opacity=\\\"1\\\"\\/>\\n<defs>\\n  <clipPath id=\\\"clip912\\\">\\n    <rect x=\\\"637\\\" y=\\\"47\\\" width=\\\"1260\\\" height=\\\"1440\\\"\\/>\\n  <\\/clipPath>\\n<\\/defs>\\n<polyline clip-path=\\\"url(#clip912)\\\" style=\\\"stroke:#000000; stroke-width:2; stroke-opacity:0.1; fill:none\\\" points=\\\"\\n  672.935,1486.45 672.935,47.2441 \\n  \\\"\\/>\\n<polyline clip-path=\\\"url(#clip912)\\\" style=\\\"stroke:#000000; stroke-width:2; stroke-opacity:0.1; fill:none\\\" points=\\\"\\n  1012.37,1486.45 1012.37,47.2441 \\n  \\\"\\/>\\n<polyline clip-path=\\\"url(#clip912)\\\" style=\\\"stroke:#000000; stroke-width:2; stroke-opacity:0.1; fill:none\\\" points=\\\"\\n  1351.8,1486.45 1351.8,47.2441 \\n  \\\"\\/>\\n<polyline clip-path=\\\"url(#clip912)\\\" style=\\\"stroke:#000000; stroke-width:2; stroke-opacity:0.1; fill:none\\\" points=\\\"\\n  1691.24,1486.45 1691.24,47.2441 \\n  \\\"\\/>\\n<polyline clip-path=\\\"url(#clip910)\\\" style=\\\"stroke:#000000; stroke-width:4; stroke-opacity:1; fill:none\\\" points=\\\"\\n  637.294,1486.45 1896.6,1486.45 \\n  \\\"\\/>\\n<polyline clip-path=\\\"url(#clip910)\\\" style=\\\"stroke:#000000; stroke-width:4; stroke-opacity:1; fill:none\\\" points=\\\"\\n  672.935,1486.45 672.935,1469.18 \\n  \\\"\\/>\\n<polyline clip-path=\\\"url(#clip910)\\\" style=\\\"stroke:#000000; stroke-width:4; stroke-opacity:1; fill:none\\\" points=\\\"\\n  1012.37,1486.45 1012.37,1469.18 \\n  \\\"\\/>\\n<polyline clip-path=\\\"url(#clip910)\\\" style=\\\"stroke:#000000; stroke-width:4; stroke-opacity:1; fill:none\\\" points=\\\"\\n  1351.8,1486.45 1351.8,1469.18 \\n  \\\"\\/>\\n<polyline clip-path=\\\"url(#clip910)\\\" style=\\\"stroke:#000000; stroke-width:4; stroke-opacity:1; fill:none\\\" points=\\\"\\n  1691.24,1486.45 1691.24,1469.18 \\n  \\\"\\/>\\n<path clip-path=\\\"url(#clip910)\\\" d=\\\"M 0 0 M654.451 1515.64 Q650.84 1515.64 649.011 1519.2 Q647.206 1522.75 647.206 1529.87 Q647.206 1536.98 649.011 1540.55 Q650.84 1544.09 654.451 1544.09 Q658.085 1544.09 659.891 1540.55 Q661.719 1536.98 661.719 1529.87 Q661.719 1522.75 659.891 1519.2 Q658.085 1515.64 654.451 1515.64 M654.451 1511.93 Q660.261 1511.93 663.317 1516.54 Q666.395 1521.12 666.395 1529.87 Q666.395 1538.6 663.317 1543.21 Q660.261 1547.79 654.451 1547.79 Q648.641 1547.79 645.562 1543.21 Q642.506 1538.6 642.506 1529.87 Q642.506 1521.12 645.562 1516.54 Q648.641 1511.93 654.451 1511.93 Z\\\" fill=\\\"#000000\\\" fill-rule=\\\"evenodd\\\" fill-opacity=\\\"1\\\" \\/><path clip-path=\\\"url(#clip910)\\\" d=\\\"M 0 0 M671.465 1541.24 L676.349 1541.24 L676.349 1547.12 L671.465 1547.12 L671.465 1541.24 Z\\\" fill=\\\"#000000\\\" fill-rule=\\\"evenodd\\\" fill-opacity=\\\"1\\\" \\/><path clip-path=\\\"url(#clip910)\\\" d=\\\"M 0 0 M691.418 1515.64 Q687.807 1515.64 685.978 1519.2 Q684.173 1522.75 684.173 1529.87 Q684.173 1536.98 685.978 1540.55 Q687.807 1544.09 691.418 1544.09 Q695.052 1544.09 696.858 1540.55 Q698.687 1536.98 698.687 1529.87 Q698.687 1522.75 696.858 1519.2 Q695.052 1515.64 691.418 1515.64 M691.418 1511.93 Q697.228 1511.93 700.284 1516.54 Q703.363 1521.12 703.363 1529.87 Q703.363 1538.6 700.284 1543.21 Q697.228 1547.79 691.418 1547.79 Q685.608 1547.79 682.529 1543.21 Q679.474 1538.6 679.474 1529.87 Q679.474 1521.12 682.529 1516.54 Q685.608 1511.93 691.418 1511.93 Z\\\" fill=\\\"#000000\\\" fill-rule=\\\"evenodd\\\" fill-opacity=\\\"1\\\" \\/><path clip-path=\\\"url(#clip910)\\\" d=\\\"M 0 0 M994.684 1515.64 Q991.073 1515.64 989.245 1519.2 Q987.439 1522.75 987.439 1529.87 Q987.439 1536.98 989.245 1540.55 Q991.073 1544.09 994.684 1544.09 Q998.319 1544.09 1000.12 1540.55 Q1001.95 1536.98 1001.95 1529.87 Q1001.95 1522.75 1000.12 1519.2 Q998.319 1515.64 994.684 1515.64 M994.684 1511.93 Q1000.49 1511.93 1003.55 1516.54 Q1006.63 1521.12 1006.63 1529.87 Q1006.63 1538.6 1003.55 1543.21 Q1000.49 1547.79 994.684 1547.79 Q988.874 1547.79 985.795 1543.21 Q982.74 1538.6 982.74 1529.87 Q982.74 1521.12 985.795 1516.54 Q988.874 1511.93 994.684 1511.93 Z\\\" fill=\\\"#000000\\\" fill-rule=\\\"evenodd\\\" fill-opacity=\\\"1\\\" \\/><path clip-path=\\\"url(#clip910)\\\" d=\\\"M 0 0 M1011.7 1541.24 L1016.58 1541.24 L1016.58 1547.12 L1011.7 1547.12 L1011.7 1541.24 Z\\\" fill=\\\"#000000\\\" fill-rule=\\\"evenodd\\\" fill-opacity=\\\"1\\\" \\/><path clip-path=\\\"url(#clip910)\\\" d=\\\"M 0 0 M1025.68 1543.18 L1042 1543.18 L1042 1547.12 L1020.05 1547.12 L1020.05 1543.18 Q1022.72 1540.43 1027.3 1535.8 Q1031.91 1531.15 1033.09 1529.81 Q1035.33 1527.28 1036.21 1525.55 Q1037.11 1523.79 1037.11 1522.1 Q1037.11 1519.34 1035.17 1517.61 Q1033.25 1515.87 1030.15 1515.87 Q1027.95 1515.87 1025.49 1516.63 Q1023.06 1517.4 1020.29 1518.95 L1020.29 1514.23 Q1023.11 1513.09 1025.56 1512.51 Q1028.02 1511.93 1030.05 1511.93 Q1035.42 1511.93 1038.62 1514.62 Q1041.81 1517.31 1041.81 1521.8 Q1041.81 1523.93 1041 1525.85 Q1040.22 1527.74 1038.11 1530.34 Q1037.53 1531.01 1034.43 1534.23 Q1031.33 1537.42 1025.68 1543.18 Z\\\" fill=\\\"#000000\\\" fill-rule=\\\"evenodd\\\" fill-opacity=\\\"1\\\" \\/><path clip-path=\\\"url(#clip910)\\\" d=\\\"M 0 0 M1333.08 1515.64 Q1329.47 1515.64 1327.64 1519.2 Q1325.83 1522.75 1325.83 1529.87 Q1325.83 1536.98 1327.64 1540.55 Q1329.47 1544.09 1333.08 1544.09 Q1336.71 1544.09 1338.52 1540.55 Q1340.35 1536.98 1340.35 1529.87 Q1340.35 1522.75 1338.52 1519.2 Q1336.71 1515.64 1333.08 1515.64 M1333.08 1511.93 Q1338.89 1511.93 1341.94 1516.54 Q1345.02 1521.12 1345.02 1529.87 Q1345.02 1538.6 1341.94 1543.21 Q1338.89 1547.79 1333.08 1547.79 Q1327.27 1547.79 1324.19 1543.21 Q1321.13 1538.6 1321.13 1529.87 Q1321.13 1521.12 1324.19 1516.54 Q1327.27 1511.93 1333.08 1511.93 Z\\\" fill=\\\"#000000\\\" fill-rule=\\\"evenodd\\\" fill-opacity=\\\"1\\\" \\/><path clip-path=\\\"url(#clip910)\\\" d=\\\"M 0 0 M1350.09 1541.24 L1354.98 1541.24 L1354.98 1547.12 L1350.09 1547.12 L1350.09 1541.24 Z\\\" fill=\\\"#000000\\\" fill-rule=\\\"evenodd\\\" fill-opacity=\\\"1\\\" \\/><path clip-path=\\\"url(#clip910)\\\" d=\\\"M 0 0 M1372.89 1516.63 L1361.09 1535.08 L1372.89 1535.08 L1372.89 1516.63 M1371.67 1512.56 L1377.54 1512.56 L1377.54 1535.08 L1382.48 1535.08 L1382.48 1538.97 L1377.54 1538.97 L1377.54 1547.12 L1372.89 1547.12 L1372.89 1538.97 L1357.29 1538.97 L1357.29 1534.46 L1371.67 1512.56 Z\\\" fill=\\\"#000000\\\" fill-rule=\\\"evenodd\\\" fill-opacity=\\\"1\\\" \\/><path clip-path=\\\"url(#clip910)\\\" d=\\\"M 0 0 M1672.67 1515.64 Q1669.06 1515.64 1667.23 1519.2 Q1665.43 1522.75 1665.43 1529.87 Q1665.43 1536.98 1667.23 1540.55 Q1669.06 1544.09 1672.67 1544.09 Q1676.31 1544.09 1678.11 1540.55 Q1679.94 1536.98 1679.94 1529.87 Q1679.94 1522.75 1678.11 1519.2 Q1676.31 1515.64 1672.67 1515.64 M1672.67 1511.93 Q1678.48 1511.93 1681.54 1516.54 Q1684.62 1521.12 1684.62 1529.87 Q1684.62 1538.6 1681.54 1543.21 Q1678.48 1547.79 1672.67 1547.79 Q1666.86 1547.79 1663.79 1543.21 Q1660.73 1538.6 1660.73 1529.87 Q1660.73 1521.12 1663.79 1516.54 Q1666.86 1511.93 1672.67 1511.93 Z\\\" fill=\\\"#000000\\\" fill-rule=\\\"evenodd\\\" fill-opacity=\\\"1\\\" \\/><path clip-path=\\\"url(#clip910)\\\" d=\\\"M 0 0 M1689.69 1541.24 L1694.57 1541.24 L1694.57 1547.12 L1689.69 1547.12 L1689.69 1541.24 Z\\\" fill=\\\"#000000\\\" fill-rule=\\\"evenodd\\\" fill-opacity=\\\"1\\\" \\/><path clip-path=\\\"url(#clip910)\\\" d=\\\"M 0 0 M1710.22 1527.98 Q1707.07 1527.98 1705.22 1530.13 Q1703.39 1532.28 1703.39 1536.03 Q1703.39 1539.76 1705.22 1541.93 Q1707.07 1544.09 1710.22 1544.09 Q1713.37 1544.09 1715.2 1541.93 Q1717.05 1539.76 1717.05 1536.03 Q1717.05 1532.28 1715.2 1530.13 Q1713.37 1527.98 1710.22 1527.98 M1719.5 1513.32 L1719.5 1517.58 Q1717.74 1516.75 1715.94 1516.31 Q1714.16 1515.87 1712.4 1515.87 Q1707.77 1515.87 1705.31 1519 Q1702.88 1522.12 1702.54 1528.44 Q1703.9 1526.43 1705.96 1525.36 Q1708.02 1524.27 1710.5 1524.27 Q1715.71 1524.27 1718.72 1527.44 Q1721.75 1530.59 1721.75 1536.03 Q1721.75 1541.36 1718.6 1544.57 Q1715.45 1547.79 1710.22 1547.79 Q1704.23 1547.79 1701.05 1543.21 Q1697.88 1538.6 1697.88 1529.87 Q1697.88 1521.68 1701.77 1516.82 Q1705.66 1511.93 1712.21 1511.93 Q1713.97 1511.93 1715.75 1512.28 Q1717.56 1512.63 1719.5 1513.32 Z\\\" fill=\\\"#000000\\\" fill-rule=\\\"evenodd\\\" fill-opacity=\\\"1\\\" \\/><polyline clip-path=\\\"url(#clip912)\\\" style=\\\"stroke:#000000; stroke-width:2; stroke-opacity:0.1; fill:none\\\" points=\\\"\\n  637.294,1445.72 1896.6,1445.72 \\n  \\\"\\/>\\n<polyline clip-path=\\\"url(#clip912)\\\" style=\\\"stroke:#000000; stroke-width:2; stroke-opacity:0.1; fill:none\\\" points=\\\"\\n  637.294,1106.28 1896.6,1106.28 \\n  \\\"\\/>\\n<polyline clip-path=\\\"url(#clip912)\\\" style=\\\"stroke:#000000; stroke-width:2; stroke-opacity:0.1; fill:none\\\" points=\\\"\\n  637.294,766.846 1896.6,766.846 \\n  \\\"\\/>\\n<polyline clip-path=\\\"url(#clip912)\\\" style=\\\"stroke:#000000; stroke-width:2; stroke-opacity:0.1; fill:none\\\" points=\\\"\\n  637.294,427.411 1896.6,427.411 \\n  \\\"\\/>\\n<polyline clip-path=\\\"url(#clip912)\\\" style=\\\"stroke:#000000; stroke-width:2; stroke-opacity:0.1; fill:none\\\" points=\\\"\\n  637.294,87.9763 1896.6,87.9763 \\n  \\\"\\/>\\n<polyline clip-path=\\\"url(#clip910)\\\" style=\\\"stroke:#000000; stroke-width:4; stroke-opacity:1; fill:none\\\" points=\\\"\\n  637.294,1486.45 637.294,47.2441 \\n  \\\"\\/>\\n<polyline clip-path=\\\"url(#clip910)\\\" style=\\\"stroke:#000000; stroke-width:4; stroke-opacity:1; fill:none\\\" points=\\\"\\n  637.294,1445.72 652.406,1445.72 \\n  \\\"\\/>\\n<polyline clip-path=\\\"url(#clip910)\\\" style=\\\"stroke:#000000; stroke-width:4; stroke-opacity:1; fill:none\\\" points=\\\"\\n  637.294,1106.28 652.406,1106.28 \\n  \\\"\\/>\\n<polyline clip-path=\\\"url(#clip910)\\\" style=\\\"stroke:#000000; stroke-width:4; stroke-opacity:1; fill:none\\\" points=\\\"\\n  637.294,766.846 652.406,766.846 \\n  \\\"\\/>\\n<polyline clip-path=\\\"url(#clip910)\\\" style=\\\"stroke:#000000; stroke-width:4; stroke-opacity:1; fill:none\\\" points=\\\"\\n  637.294,427.411 652.406,427.411 \\n  \\\"\\/>\\n<polyline clip-path=\\\"url(#clip910)\\\" style=\\\"stroke:#000000; stroke-width:4; stroke-opacity:1; fill:none\\\" points=\\\"\\n  637.294,87.9763 652.406,87.9763 \\n  \\\"\\/>\\n<path clip-path=\\\"url(#clip910)\\\" d=\\\"M 0 0 M507.151 1446.17 L536.827 1446.17 L536.827 1450.1 L507.151 1450.1 L507.151 1446.17 Z\\\" fill=\\\"#000000\\\" fill-rule=\\\"evenodd\\\" fill-opacity=\\\"1\\\" \\/><path clip-path=\\\"url(#clip910)\\\" d=\\\"M 0 0 M551.896 1431.51 Q548.285 1431.51 546.456 1435.08 Q544.651 1438.62 544.651 1445.75 Q544.651 1452.86 546.456 1456.42 Q548.285 1459.96 551.896 1459.96 Q555.53 1459.96 557.336 1456.42 Q559.164 1452.86 559.164 1445.75 Q559.164 1438.62 557.336 1435.08 Q555.53 1431.51 551.896 1431.51 M551.896 1427.81 Q557.706 1427.81 560.762 1432.42 Q563.84 1437 563.84 1445.75 Q563.84 1454.48 560.762 1459.08 Q557.706 1463.67 551.896 1463.67 Q546.086 1463.67 543.007 1459.08 Q539.952 1454.48 539.952 1445.75 Q539.952 1437 543.007 1432.42 Q546.086 1427.81 551.896 1427.81 Z\\\" fill=\\\"#000000\\\" fill-rule=\\\"evenodd\\\" fill-opacity=\\\"1\\\" \\/><path clip-path=\\\"url(#clip910)\\\" d=\\\"M 0 0 M568.91 1457.12 L573.794 1457.12 L573.794 1463 L568.91 1463 L568.91 1457.12 Z\\\" fill=\\\"#000000\\\" fill-rule=\\\"evenodd\\\" fill-opacity=\\\"1\\\" \\/><path clip-path=\\\"url(#clip910)\\\" d=\\\"M 0 0 M591.711 1432.51 L579.905 1450.96 L591.711 1450.96 L591.711 1432.51 M590.484 1428.44 L596.363 1428.44 L596.363 1450.96 L601.294 1450.96 L601.294 1454.85 L596.363 1454.85 L596.363 1463 L591.711 1463 L591.711 1454.85 L576.109 1454.85 L576.109 1450.33 L590.484 1428.44 Z\\\" fill=\\\"#000000\\\" fill-rule=\\\"evenodd\\\" fill-opacity=\\\"1\\\" \\/><path clip-path=\\\"url(#clip910)\\\" d=\\\"M 0 0 M509.234 1106.73 L538.91 1106.73 L538.91 1110.67 L509.234 1110.67 L509.234 1106.73 Z\\\" fill=\\\"#000000\\\" fill-rule=\\\"evenodd\\\" fill-opacity=\\\"1\\\" \\/><path clip-path=\\\"url(#clip910)\\\" d=\\\"M 0 0 M553.979 1092.08 Q550.368 1092.08 548.54 1095.64 Q546.734 1099.19 546.734 1106.32 Q546.734 1113.42 548.54 1116.99 Q550.368 1120.53 553.979 1120.53 Q557.614 1120.53 559.419 1116.99 Q561.248 1113.42 561.248 1106.32 Q561.248 1099.19 559.419 1095.64 Q557.614 1092.08 553.979 1092.08 M553.979 1088.38 Q559.789 1088.38 562.845 1092.98 Q565.924 1097.57 565.924 1106.32 Q565.924 1115.04 562.845 1119.65 Q559.789 1124.23 553.979 1124.23 Q548.169 1124.23 545.09 1119.65 Q542.035 1115.04 542.035 1106.32 Q542.035 1097.57 545.09 1092.98 Q548.169 1088.38 553.979 1088.38 Z\\\" fill=\\\"#000000\\\" fill-rule=\\\"evenodd\\\" fill-opacity=\\\"1\\\" \\/><path clip-path=\\\"url(#clip910)\\\" d=\\\"M 0 0 M570.993 1117.68 L575.877 1117.68 L575.877 1123.56 L570.993 1123.56 L570.993 1117.68 Z\\\" fill=\\\"#000000\\\" fill-rule=\\\"evenodd\\\" fill-opacity=\\\"1\\\" \\/><path clip-path=\\\"url(#clip910)\\\" d=\\\"M 0 0 M584.975 1119.63 L601.294 1119.63 L601.294 1123.56 L579.35 1123.56 L579.35 1119.63 Q582.012 1116.87 586.595 1112.24 Q591.201 1107.59 592.382 1106.25 Q594.627 1103.72 595.507 1101.99 Q596.41 1100.23 596.41 1098.54 Q596.41 1095.78 594.465 1094.05 Q592.544 1092.31 589.442 1092.31 Q587.243 1092.31 584.789 1093.07 Q582.359 1093.84 579.581 1095.39 L579.581 1090.67 Q582.405 1089.53 584.859 1088.95 Q587.312 1088.38 589.349 1088.38 Q594.72 1088.38 597.914 1091.06 Q601.109 1093.75 601.109 1098.24 Q601.109 1100.37 600.299 1102.29 Q599.511 1104.19 597.405 1106.78 Q596.826 1107.45 593.724 1110.67 Q590.623 1113.86 584.975 1119.63 Z\\\" fill=\\\"#000000\\\" fill-rule=\\\"evenodd\\\" fill-opacity=\\\"1\\\" \\/><path clip-path=\\\"url(#clip910)\\\" d=\\\"M 0 0 M552.382 752.645 Q548.771 752.645 546.942 756.209 Q545.137 759.751 545.137 766.881 Q545.137 773.987 546.942 777.552 Q548.771 781.094 552.382 781.094 Q556.016 781.094 557.822 777.552 Q559.651 773.987 559.651 766.881 Q559.651 759.751 557.822 756.209 Q556.016 752.645 552.382 752.645 M552.382 748.941 Q558.192 748.941 561.248 753.547 Q564.326 758.131 564.326 766.881 Q564.326 775.608 561.248 780.214 Q558.192 784.797 552.382 784.797 Q546.572 784.797 543.493 780.214 Q540.438 775.608 540.438 766.881 Q540.438 758.131 543.493 753.547 Q546.572 748.941 552.382 748.941 Z\\\" fill=\\\"#000000\\\" fill-rule=\\\"evenodd\\\" fill-opacity=\\\"1\\\" \\/><path clip-path=\\\"url(#clip910)\\\" d=\\\"M 0 0 M569.396 778.246 L574.28 778.246 L574.28 784.126 L569.396 784.126 L569.396 778.246 Z\\\" fill=\\\"#000000\\\" fill-rule=\\\"evenodd\\\" fill-opacity=\\\"1\\\" \\/><path clip-path=\\\"url(#clip910)\\\" d=\\\"M 0 0 M589.349 752.645 Q585.738 752.645 583.91 756.209 Q582.104 759.751 582.104 766.881 Q582.104 773.987 583.91 777.552 Q585.738 781.094 589.349 781.094 Q592.984 781.094 594.789 777.552 Q596.618 773.987 596.618 766.881 Q596.618 759.751 594.789 756.209 Q592.984 752.645 589.349 752.645 M589.349 748.941 Q595.16 748.941 598.215 753.547 Q601.294 758.131 601.294 766.881 Q601.294 775.608 598.215 780.214 Q595.16 784.797 589.349 784.797 Q583.539 784.797 580.461 780.214 Q577.405 775.608 577.405 766.881 Q577.405 758.131 580.461 753.547 Q583.539 748.941 589.349 748.941 Z\\\" fill=\\\"#000000\\\" fill-rule=\\\"evenodd\\\" fill-opacity=\\\"1\\\" \\/><path clip-path=\\\"url(#clip910)\\\" d=\\\"M 0 0 M553.979 413.21 Q550.368 413.21 548.54 416.775 Q546.734 420.316 546.734 427.446 Q546.734 434.552 548.54 438.117 Q550.368 441.659 553.979 441.659 Q557.614 441.659 559.419 438.117 Q561.248 434.552 561.248 427.446 Q561.248 420.316 559.419 416.775 Q557.614 413.21 553.979 413.21 M553.979 409.506 Q559.789 409.506 562.845 414.113 Q565.924 418.696 565.924 427.446 Q565.924 436.173 562.845 440.779 Q559.789 445.362 553.979 445.362 Q548.169 445.362 545.09 440.779 Q542.035 436.173 542.035 427.446 Q542.035 418.696 545.09 414.113 Q548.169 409.506 553.979 409.506 Z\\\" fill=\\\"#000000\\\" fill-rule=\\\"evenodd\\\" fill-opacity=\\\"1\\\" \\/><path clip-path=\\\"url(#clip910)\\\" d=\\\"M 0 0 M570.993 438.812 L575.877 438.812 L575.877 444.691 L570.993 444.691 L570.993 438.812 Z\\\" fill=\\\"#000000\\\" fill-rule=\\\"evenodd\\\" fill-opacity=\\\"1\\\" \\/><path clip-path=\\\"url(#clip910)\\\" d=\\\"M 0 0 M584.975 440.756 L601.294 440.756 L601.294 444.691 L579.35 444.691 L579.35 440.756 Q582.012 438.001 586.595 433.372 Q591.201 428.719 592.382 427.376 Q594.627 424.853 595.507 423.117 Q596.41 421.358 596.41 419.668 Q596.41 416.914 594.465 415.177 Q592.544 413.441 589.442 413.441 Q587.243 413.441 584.789 414.205 Q582.359 414.969 579.581 416.52 L579.581 411.798 Q582.405 410.664 584.859 410.085 Q587.312 409.506 589.349 409.506 Q594.72 409.506 597.914 412.191 Q601.109 414.876 601.109 419.367 Q601.109 421.497 600.299 423.418 Q599.511 425.316 597.405 427.909 Q596.826 428.58 593.724 431.798 Q590.623 434.992 584.975 440.756 Z\\\" fill=\\\"#000000\\\" fill-rule=\\\"evenodd\\\" fill-opacity=\\\"1\\\" \\/><path clip-path=\\\"url(#clip910)\\\" d=\\\"M 0 0 M551.896 73.775 Q548.285 73.775 546.456 77.3398 Q544.651 80.8814 544.651 88.011 Q544.651 95.1174 546.456 98.6822 Q548.285 102.224 551.896 102.224 Q555.53 102.224 557.336 98.6822 Q559.164 95.1174 559.164 88.011 Q559.164 80.8814 557.336 77.3398 Q555.53 73.775 551.896 73.775 M551.896 70.0713 Q557.706 70.0713 560.762 74.6777 Q563.84 79.261 563.84 88.011 Q563.84 96.7378 560.762 101.344 Q557.706 105.928 551.896 105.928 Q546.086 105.928 543.007 101.344 Q539.952 96.7378 539.952 88.011 Q539.952 79.261 543.007 74.6777 Q546.086 70.0713 551.896 70.0713 Z\\\" fill=\\\"#000000\\\" fill-rule=\\\"evenodd\\\" fill-opacity=\\\"1\\\" \\/><path clip-path=\\\"url(#clip910)\\\" d=\\\"M 0 0 M568.91 99.3767 L573.794 99.3767 L573.794 105.256 L568.91 105.256 L568.91 99.3767 Z\\\" fill=\\\"#000000\\\" fill-rule=\\\"evenodd\\\" fill-opacity=\\\"1\\\" \\/><path clip-path=\\\"url(#clip910)\\\" d=\\\"M 0 0 M591.711 74.7703 L579.905 93.2193 L591.711 93.2193 L591.711 74.7703 M590.484 70.6963 L596.363 70.6963 L596.363 93.2193 L601.294 93.2193 L601.294 97.1082 L596.363 97.1082 L596.363 105.256 L591.711 105.256 L591.711 97.1082 L576.109 97.1082 L576.109 92.5943 L590.484 70.6963 Z\\\" fill=\\\"#000000\\\" fill-rule=\\\"evenodd\\\" fill-opacity=\\\"1\\\" \\/><polyline clip-path=\\\"url(#clip912)\\\" style=\\\"stroke:#009af9; stroke-width:4; stroke-opacity:1; fill:none\\\" points=\\\"\\n  672.935,766.846 713.945,727.108 752.407,692.361 788.689,662.113 823.09,635.969 855.851,613.611 887.175,594.78 917.227,579.264 946.145,566.885 974.045,557.499 \\n  1001.02,550.984 1027.15,547.233 1052.49,546.158 1077.1,547.678 1101.01,551.719 1124.25,558.213 1146.84,567.087 1168.78,578.274 1190.09,591.701 1210.77,607.293 \\n  1230.82,624.969 1250.23,644.648 1269.01,666.243 1287.16,689.667 1304.68,714.828 1321.56,741.634 1337.81,769.992 1353.44,799.813 1368.46,831.009 1382.87,863.492 \\n  1396.68,897.178 1409.9,931.981 1422.55,967.819 1434.64,1004.61 1446.19,1042.29 1457.2,1080.78 1467.71,1120.03 1477.72,1159.97 1487.26,1200.55 1496.33,1241.71 \\n  1504.97,1283.41 \\n  \\\"\\/>\\n<path clip-path=\\\"url(#clip910)\\\" d=\\\"\\nM1505.79 216.178 L1854.62 216.178 L1854.62 95.2176 L1505.79 95.2176  Z\\n  \\\" fill=\\\"#ffffff\\\" fill-rule=\\\"evenodd\\\" fill-opacity=\\\"1\\\"\\/>\\n<polyline clip-path=\\\"url(#clip910)\\\" style=\\\"stroke:#000000; stroke-width:4; stroke-opacity:1; fill:none\\\" points=\\\"\\n  1505.79,216.178 1854.62,216.178 1854.62,95.2176 1505.79,95.2176 1505.79,216.178 \\n  \\\"\\/>\\n<polyline clip-path=\\\"url(#clip910)\\\" style=\\\"stroke:#009af9; stroke-width:4; stroke-opacity:1; fill:none\\\" points=\\\"\\n  1519.78,155.698 1603.73,155.698 \\n  \\\"\\/>\\n<path clip-path=\\\"url(#clip910)\\\" d=\\\"M 0 0 M1625.13 139.691 L1625.13 147.052 L1633.91 147.052 L1633.91 150.362 L1625.13 150.362 L1625.13 164.436 Q1625.13 167.607 1625.99 168.51 Q1626.87 169.413 1629.53 169.413 L1633.91 169.413 L1633.91 172.978 L1629.53 172.978 Q1624.6 172.978 1622.72 171.149 Q1620.85 169.297 1620.85 164.436 L1620.85 150.362 L1617.72 150.362 L1617.72 147.052 L1620.85 147.052 L1620.85 139.691 L1625.13 139.691 Z\\\" fill=\\\"#000000\\\" fill-rule=\\\"evenodd\\\" fill-opacity=\\\"1\\\" \\/><path clip-path=\\\"url(#clip910)\\\" d=\\\"M 0 0 M1653.4 151.033 Q1652.68 150.617 1651.82 150.431 Q1650.99 150.223 1649.97 150.223 Q1646.36 150.223 1644.41 152.584 Q1642.49 154.922 1642.49 159.32 L1642.49 172.978 L1638.21 172.978 L1638.21 147.052 L1642.49 147.052 L1642.49 151.08 Q1643.84 148.718 1645.99 147.584 Q1648.14 146.427 1651.22 146.427 Q1651.66 146.427 1652.19 146.496 Q1652.72 146.543 1653.37 146.658 L1653.4 151.033 Z\\\" fill=\\\"#000000\\\" fill-rule=\\\"evenodd\\\" fill-opacity=\\\"1\\\" \\/><path clip-path=\\\"url(#clip910)\\\" d=\\\"M 0 0 M1669.65 159.945 Q1664.48 159.945 1662.49 161.126 Q1660.5 162.306 1660.5 165.154 Q1660.5 167.422 1661.98 168.765 Q1663.49 170.084 1666.06 170.084 Q1669.6 170.084 1671.73 167.584 Q1673.88 165.061 1673.88 160.894 L1673.88 159.945 L1669.65 159.945 M1678.14 158.186 L1678.14 172.978 L1673.88 172.978 L1673.88 169.042 Q1672.42 171.403 1670.25 172.538 Q1668.07 173.649 1664.92 173.649 Q1660.94 173.649 1658.58 171.427 Q1656.24 169.181 1656.24 165.431 Q1656.24 161.056 1659.16 158.834 Q1662.1 156.612 1667.91 156.612 L1673.88 156.612 L1673.88 156.195 Q1673.88 153.255 1671.94 151.658 Q1670.02 150.038 1666.52 150.038 Q1664.3 150.038 1662.19 150.57 Q1660.09 151.103 1658.14 152.167 L1658.14 148.232 Q1660.48 147.33 1662.68 146.89 Q1664.88 146.427 1666.96 146.427 Q1672.59 146.427 1675.36 149.343 Q1678.14 152.26 1678.14 158.186 Z\\\" fill=\\\"#000000\\\" fill-rule=\\\"evenodd\\\" fill-opacity=\\\"1\\\" \\/><path clip-path=\\\"url(#clip910)\\\" d=\\\"M 0 0 M1682.61 147.052 L1686.87 147.052 L1686.87 173.441 Q1686.87 178.394 1684.97 180.616 Q1683.09 182.839 1678.91 182.839 L1677.28 182.839 L1677.28 179.228 L1678.42 179.228 Q1680.85 179.228 1681.73 178.093 Q1682.61 176.982 1682.61 173.441 L1682.61 147.052 M1682.61 136.959 L1686.87 136.959 L1686.87 142.353 L1682.61 142.353 L1682.61 136.959 Z\\\" fill=\\\"#000000\\\" fill-rule=\\\"evenodd\\\" fill-opacity=\\\"1\\\" \\/><path clip-path=\\\"url(#clip910)\\\" d=\\\"M 0 0 M1713.51 158.95 L1713.51 161.033 L1693.93 161.033 Q1694.21 165.431 1696.57 167.746 Q1698.95 170.038 1703.19 170.038 Q1705.64 170.038 1707.93 169.436 Q1710.25 168.834 1712.52 167.63 L1712.52 171.658 Q1710.22 172.63 1707.82 173.14 Q1705.41 173.649 1702.93 173.649 Q1696.73 173.649 1693.09 170.038 Q1689.48 166.427 1689.48 160.269 Q1689.48 153.904 1692.91 150.177 Q1696.36 146.427 1702.19 146.427 Q1707.42 146.427 1710.46 149.806 Q1713.51 153.163 1713.51 158.95 M1709.25 157.7 Q1709.21 154.205 1707.28 152.121 Q1705.39 150.038 1702.24 150.038 Q1698.67 150.038 1696.52 152.052 Q1694.39 154.066 1694.07 157.723 L1709.25 157.7 Z\\\" fill=\\\"#000000\\\" fill-rule=\\\"evenodd\\\" fill-opacity=\\\"1\\\" \\/><path clip-path=\\\"url(#clip910)\\\" d=\\\"M 0 0 M1736.64 148.047 L1736.64 152.029 Q1734.83 151.033 1733 150.547 Q1731.2 150.038 1729.34 150.038 Q1725.2 150.038 1722.91 152.677 Q1720.62 155.292 1720.62 160.038 Q1720.62 164.783 1722.91 167.422 Q1725.2 170.038 1729.34 170.038 Q1731.2 170.038 1733 169.552 Q1734.83 169.042 1736.64 168.047 L1736.64 171.982 Q1734.85 172.816 1732.93 173.232 Q1731.03 173.649 1728.88 173.649 Q1723.03 173.649 1719.58 169.968 Q1716.13 166.288 1716.13 160.038 Q1716.13 153.695 1719.6 150.061 Q1723.09 146.427 1729.16 146.427 Q1731.13 146.427 1733 146.843 Q1734.88 147.237 1736.64 148.047 Z\\\" fill=\\\"#000000\\\" fill-rule=\\\"evenodd\\\" fill-opacity=\\\"1\\\" \\/><path clip-path=\\\"url(#clip910)\\\" d=\\\"M 0 0 M1745.32 139.691 L1745.32 147.052 L1754.09 147.052 L1754.09 150.362 L1745.32 150.362 L1745.32 164.436 Q1745.32 167.607 1746.17 168.51 Q1747.05 169.413 1749.71 169.413 L1754.09 169.413 L1754.09 172.978 L1749.71 172.978 Q1744.78 172.978 1742.91 171.149 Q1741.03 169.297 1741.03 164.436 L1741.03 150.362 L1737.91 150.362 L1737.91 147.052 L1741.03 147.052 L1741.03 139.691 L1745.32 139.691 Z\\\" fill=\\\"#000000\\\" fill-rule=\\\"evenodd\\\" fill-opacity=\\\"1\\\" \\/><path clip-path=\\\"url(#clip910)\\\" d=\\\"M 0 0 M1768.6 150.038 Q1765.18 150.038 1763.19 152.723 Q1761.2 155.385 1761.2 160.038 Q1761.2 164.691 1763.16 167.376 Q1765.15 170.038 1768.6 170.038 Q1772.01 170.038 1774 167.353 Q1775.99 164.667 1775.99 160.038 Q1775.99 155.431 1774 152.746 Q1772.01 150.038 1768.6 150.038 M1768.6 146.427 Q1774.16 146.427 1777.33 150.038 Q1780.5 153.649 1780.5 160.038 Q1780.5 166.404 1777.33 170.038 Q1774.16 173.649 1768.6 173.649 Q1763.03 173.649 1759.85 170.038 Q1756.71 166.404 1756.71 160.038 Q1756.71 153.649 1759.85 150.038 Q1763.03 146.427 1768.6 146.427 Z\\\" fill=\\\"#000000\\\" fill-rule=\\\"evenodd\\\" fill-opacity=\\\"1\\\" \\/><path clip-path=\\\"url(#clip910)\\\" d=\\\"M 0 0 M1799.99 151.033 Q1799.27 150.617 1798.42 150.431 Q1797.59 150.223 1796.57 150.223 Q1792.96 150.223 1791.01 152.584 Q1789.09 154.922 1789.09 159.32 L1789.09 172.978 L1784.81 172.978 L1784.81 147.052 L1789.09 147.052 L1789.09 151.08 Q1790.43 148.718 1792.59 147.584 Q1794.74 146.427 1797.82 146.427 Q1798.26 146.427 1798.79 146.496 Q1799.32 146.543 1799.97 146.658 L1799.99 151.033 Z\\\" fill=\\\"#000000\\\" fill-rule=\\\"evenodd\\\" fill-opacity=\\\"1\\\" \\/><path clip-path=\\\"url(#clip910)\\\" d=\\\"M 0 0 M1815.25 175.385 Q1813.44 180.015 1811.73 181.427 Q1810.02 182.839 1807.15 182.839 L1803.74 182.839 L1803.74 179.274 L1806.24 179.274 Q1808 179.274 1808.97 178.44 Q1809.95 177.607 1811.13 174.505 L1811.89 172.561 L1801.4 147.052 L1805.92 147.052 L1814.02 167.329 L1822.12 147.052 L1826.64 147.052 L1815.25 175.385 Z\\\" fill=\\\"#000000\\\" fill-rule=\\\"evenodd\\\" fill-opacity=\\\"1\\\" \\/><\\/svg>\\n\"},\"nodeType\":\"DOM\",\"type\":\"node\",\"instanceArgs\":{\"namespace\":\"html\",\"tag\":\"div\"},\"children\":[]}]}}}},\"children\":[{\"props\":{},\"nodeType\":\"ObservableNode\",\"type\":\"node\",\"instanceArgs\":{\"id\":\"4115128027921537883\",\"name\":\"obs-node\"},\"children\":[]}]}]},\n",
       "            window,\n",
       "        );\n",
       "    } else {\n",
       "        document\n",
       "            .querySelector('[data-webio-mountpoint=\"17075802422558628666\"]')\n",
       "            .innerHTML = (\n",
       "                '<div style=\"padding: 1em; background-color: #f8d6da; border: 1px solid #f5c6cb\">' +\n",
       "                '<p><strong>WebIO not detected.</strong></p>' +\n",
       "                '<p>Please read ' +\n",
       "                '<a href=\"https://juliagizmos.github.io/WebIO.jl/latest/troubleshooting/not-detected/\" target=\"_blank\">the troubleshooting guide</a> ' +\n",
       "                'for more information on how to resolve this issue.</p>' +\n",
       "                '<p><a href=\"https://juliagizmos.github.io/WebIO.jl/latest/troubleshooting/not-detected/\" target=\"_blank\">https://juliagizmos.github.io/WebIO.jl/latest/troubleshooting/not-detected/</a></p>' +\n",
       "                '</div>'\n",
       "            );\n",
       "    }\n",
       "    </script>\n",
       "</div>\n"
      ],
      "text/plain": [
       "Node{WebIO.DOM}(WebIO.DOM(:html, :div), Any[Node{WebIO.DOM}(WebIO.DOM(:html, :div), Any[Scope(Node{WebIO.DOM}(WebIO.DOM(:html, :div), Any[Node{WebIO.DOM}(WebIO.DOM(:html, :div), Any[Node{WebIO.DOM}(WebIO.DOM(:html, :label), Any[\"InitialVelocityX\"], Dict{Symbol,Any}(:className => \"interact \",:style => Dict{Any,Any}(:padding => \"5px 10px 0px 10px\")))], Dict{Symbol,Any}(:className => \"interact-flex-row-left\")), Node{WebIO.DOM}(WebIO.DOM(:html, :div), Any[Node{WebIO.DOM}(WebIO.DOM(:html, :input), Any[], Dict{Symbol,Any}(:max => 41,:min => 1,:attributes => Dict{Any,Any}(:type => \"range\",Symbol(\"data-bind\") => \"numericValue: index, valueUpdate: 'input', event: {change: function (){this.changes(this.changes()+1)}}\",\"orient\" => \"horizontal\"),:step => 1,:className => \"slider slider is-fullwidth\",:style => Dict{Any,Any}()))], Dict{Symbol,Any}(:className => \"interact-flex-row-center\")), Node{WebIO.DOM}(WebIO.DOM(:html, :div), Any[Node{WebIO.DOM}(WebIO.DOM(:html, :p), Any[], Dict{Symbol,Any}(:attributes => Dict(\"data-bind\" => \"text: formatted_val\")))], Dict{Symbol,Any}(:className => \"interact-flex-row-right\"))], Dict{Symbol,Any}(:className => \"interact-flex-row interact-widget\")), Dict{String,Tuple{Observables.AbstractObservable,Union{Nothing, Bool}}}(\"changes\" => (Observable{Int64} with 1 listeners. Value:\n",
       "0, nothing),\"index\" => (Observable{Any} with 2 listeners. Value:\n",
       "21, nothing)), Set{String}(), nothing, Asset[Asset(\"js\", \"knockout\", \"C:\\\\Users\\\\ranyi\\\\.julia\\\\packages\\\\Knockout\\\\IP1uR\\\\src\\\\..\\\\assets\\\\knockout.js\"), Asset(\"js\", \"knockout_punches\", \"C:\\\\Users\\\\ranyi\\\\.julia\\\\packages\\\\Knockout\\\\IP1uR\\\\src\\\\..\\\\assets\\\\knockout_punches.js\"), Asset(\"js\", nothing, \"C:\\\\Users\\\\ranyi\\\\.julia\\\\packages\\\\InteractBase\\\\sOe2Z\\\\src\\\\..\\\\assets\\\\all.js\"), Asset(\"css\", nothing, \"C:\\\\Users\\\\ranyi\\\\.julia\\\\packages\\\\InteractBase\\\\sOe2Z\\\\src\\\\..\\\\assets\\\\style.css\"), Asset(\"css\", nothing, \"C:\\\\Users\\\\ranyi\\\\.julia\\\\packages\\\\Interact\\\\SbgIk\\\\src\\\\..\\\\assets\\\\bulma_confined.min.css\")], Dict{Any,Any}(\"changes\" => Any[WebIO.JSString(\"(function (val){return (val!=this.model[\\\"changes\\\"]()) ? (this.valueFromJulia[\\\"changes\\\"]=true, this.model[\\\"changes\\\"](val)) : undefined})\")],\"index\" => Any[WebIO.JSString(\"(function (val){return (val!=this.model[\\\"index\\\"]()) ? (this.valueFromJulia[\\\"index\\\"]=true, this.model[\\\"index\\\"](val)) : undefined})\")]), WebIO.ConnectionPool(Channel{Any}(sz_max:32,sz_curr:0), Set{AbstractConnection}(), Base.GenericCondition{Base.AlwaysLockedST}(Base.InvasiveLinkedList{Task}(Task (runnable) @0x0000000040d7e570, Task (runnable) @0x0000000040d7e570), Base.AlwaysLockedST(1))), WebIO.JSString[WebIO.JSString(\"function () {\\n    var handler = (function (ko, koPunches) {\\n    ko.punches.enableAll();\\n    ko.bindingHandlers.numericValue = {\\n        init: function(element, valueAccessor, allBindings, data, context) {\\n            var stringified = ko.observable(ko.unwrap(valueAccessor()));\\n            stringified.subscribe(function(value) {\\n                var val = parseFloat(value);\\n                if (!isNaN(val)) {\\n                    valueAccessor()(val);\\n                }\\n            });\\n            valueAccessor().subscribe(function(value) {\\n                var str = JSON.stringify(value);\\n                if ((str == \\\"0\\\") && ([\\\"-0\\\", \\\"-0.\\\"].indexOf(stringified()) >= 0))\\n                     return;\\n                 if ([\\\"null\\\", \\\"\\\"].indexOf(str) >= 0)\\n                     return;\\n                stringified(str);\\n            });\\n            ko.applyBindingsToNode(\\n                element,\\n                {\\n                    value: stringified,\\n                    valueUpdate: allBindings.get('valueUpdate'),\\n                },\\n                context,\\n            );\\n        }\\n    };\\n    var json_data = {\\\"formatted_vals\\\":[\\\"0.0\\\",\\\"0.1\\\",\\\"0.2\\\",\\\"0.3\\\",\\\"0.4\\\",\\\"0.5\\\",\\\"0.6\\\",\\\"0.7\\\",\\\"0.8\\\",\\\"0.9\\\",\\\"1.0\\\",\\\"1.1\\\",\\\"1.2\\\",\\\"1.3\\\",\\\"1.4\\\",\\\"1.5\\\",\\\"1.6\\\",\\\"1.7\\\",\\\"1.8\\\",\\\"1.9\\\",\\\"2.0\\\",\\\"2.1\\\",\\\"2.2\\\",\\\"2.3\\\",\\\"2.4\\\",\\\"2.5\\\",\\\"2.6\\\",\\\"2.7\\\",\\\"2.8\\\",\\\"2.9\\\",\\\"3.0\\\",\\\"3.1\\\",\\\"3.2\\\",\\\"3.3\\\",\\\"3.4\\\",\\\"3.5\\\",\\\"3.6\\\",\\\"3.7\\\",\\\"3.8\\\",\\\"3.9\\\",\\\"4.0\\\"],\\\"changes\\\":WebIO.getval({\\\"name\\\":\\\"changes\\\",\\\"scope\\\":\\\"15898171213732912577\\\",\\\"id\\\":\\\"12294588450860607717\\\",\\\"type\\\":\\\"observable\\\"}),\\\"index\\\":WebIO.getval({\\\"name\\\":\\\"index\\\",\\\"scope\\\":\\\"15898171213732912577\\\",\\\"id\\\":\\\"10358272928928307373\\\",\\\"type\\\":\\\"observable\\\"})};\\n    var self = this;\\n    function AppViewModel() {\\n        for (var key in json_data) {\\n            var el = json_data[key];\\n            this[key] = Array.isArray(el) ? ko.observableArray(el) : ko.observable(el);\\n        }\\n        \\n        [this[\\\"formatted_val\\\"]=ko.computed(    function(){\\n        return this.formatted_vals()[parseInt(this.index())-(1)];\\n    }\\n,this)]\\n        [this[\\\"changes\\\"].subscribe((function (val){!(this.valueFromJulia[\\\"changes\\\"]) ? (WebIO.setval({\\\"name\\\":\\\"changes\\\",\\\"scope\\\":\\\"15898171213732912577\\\",\\\"id\\\":\\\"12294588450860607717\\\",\\\"type\\\":\\\"observable\\\"},val)) : undefined; return this.valueFromJulia[\\\"changes\\\"]=false}),self),this[\\\"index\\\"].subscribe((function (val){!(this.valueFromJulia[\\\"index\\\"]) ? (WebIO.setval({\\\"name\\\":\\\"index\\\",\\\"scope\\\":\\\"15898171213732912577\\\",\\\"id\\\":\\\"10358272928928307373\\\",\\\"type\\\":\\\"observable\\\"},val)) : undefined; return this.valueFromJulia[\\\"index\\\"]=false}),self)]\\n        \\n    }\\n    self.model = new AppViewModel();\\n    self.valueFromJulia = {};\\n    for (var key in json_data) {\\n        self.valueFromJulia[key] = false;\\n    }\\n    ko.applyBindings(self.model, self.dom);\\n}\\n);\\n    (WebIO.importBlock({\\\"data\\\":[{\\\"name\\\":\\\"knockout\\\",\\\"type\\\":\\\"js\\\",\\\"url\\\":\\\"/assetserver/e5cbfdabe81708ad8b2e387c1b27ccacddcf177b-knockout.js\\\"},{\\\"name\\\":\\\"knockout_punches\\\",\\\"type\\\":\\\"js\\\",\\\"url\\\":\\\"/assetserver/d08034b97e1cc25d7f0ffedee8f015b6c4911c78-knockout_punches.js\\\"}],\\\"type\\\":\\\"async_block\\\"})).then((imports) => handler.apply(this, imports));\\n}\\n\")])], Dict{Symbol,Any}(:className => \"field interact-widget\")), Node{WebIO.DOM}(WebIO.DOM(:html, :div), Any[Scope(Node{WebIO.DOM}(WebIO.DOM(:html, :div), Any[Node{WebIO.DOM}(WebIO.DOM(:html, :div), Any[Node{WebIO.DOM}(WebIO.DOM(:html, :label), Any[\"InitialVelocityY\"], Dict{Symbol,Any}(:className => \"interact \",:style => Dict{Any,Any}(:padding => \"5px 10px 0px 10px\")))], Dict{Symbol,Any}(:className => \"interact-flex-row-left\")), Node{WebIO.DOM}(WebIO.DOM(:html, :div), Any[Node{WebIO.DOM}(WebIO.DOM(:html, :input), Any[], Dict{Symbol,Any}(:max => 41,:min => 1,:attributes => Dict{Any,Any}(:type => \"range\",Symbol(\"data-bind\") => \"numericValue: index, valueUpdate: 'input', event: {change: function (){this.changes(this.changes()+1)}}\",\"orient\" => \"horizontal\"),:step => 1,:className => \"slider slider is-fullwidth\",:style => Dict{Any,Any}()))], Dict{Symbol,Any}(:className => \"interact-flex-row-center\")), Node{WebIO.DOM}(WebIO.DOM(:html, :div), Any[Node{WebIO.DOM}(WebIO.DOM(:html, :p), Any[], Dict{Symbol,Any}(:attributes => Dict(\"data-bind\" => \"text: formatted_val\")))], Dict{Symbol,Any}(:className => \"interact-flex-row-right\"))], Dict{Symbol,Any}(:className => \"interact-flex-row interact-widget\")), Dict{String,Tuple{Observables.AbstractObservable,Union{Nothing, Bool}}}(\"changes\" => (Observable{Int64} with 1 listeners. Value:\n",
       "0, nothing),\"index\" => (Observable{Any} with 2 listeners. Value:\n",
       "21, nothing)), Set{String}(), nothing, Asset[Asset(\"js\", \"knockout\", \"C:\\\\Users\\\\ranyi\\\\.julia\\\\packages\\\\Knockout\\\\IP1uR\\\\src\\\\..\\\\assets\\\\knockout.js\"), Asset(\"js\", \"knockout_punches\", \"C:\\\\Users\\\\ranyi\\\\.julia\\\\packages\\\\Knockout\\\\IP1uR\\\\src\\\\..\\\\assets\\\\knockout_punches.js\"), Asset(\"js\", nothing, \"C:\\\\Users\\\\ranyi\\\\.julia\\\\packages\\\\InteractBase\\\\sOe2Z\\\\src\\\\..\\\\assets\\\\all.js\"), Asset(\"css\", nothing, \"C:\\\\Users\\\\ranyi\\\\.julia\\\\packages\\\\InteractBase\\\\sOe2Z\\\\src\\\\..\\\\assets\\\\style.css\"), Asset(\"css\", nothing, \"C:\\\\Users\\\\ranyi\\\\.julia\\\\packages\\\\Interact\\\\SbgIk\\\\src\\\\..\\\\assets\\\\bulma_confined.min.css\")], Dict{Any,Any}(\"changes\" => Any[WebIO.JSString(\"(function (val){return (val!=this.model[\\\"changes\\\"]()) ? (this.valueFromJulia[\\\"changes\\\"]=true, this.model[\\\"changes\\\"](val)) : undefined})\")],\"index\" => Any[WebIO.JSString(\"(function (val){return (val!=this.model[\\\"index\\\"]()) ? (this.valueFromJulia[\\\"index\\\"]=true, this.model[\\\"index\\\"](val)) : undefined})\")]), WebIO.ConnectionPool(Channel{Any}(sz_max:32,sz_curr:0), Set{AbstractConnection}(), Base.GenericCondition{Base.AlwaysLockedST}(Base.InvasiveLinkedList{Task}(Task (runnable) @0x0000000040d8d430, Task (runnable) @0x0000000040d8d430), Base.AlwaysLockedST(1))), WebIO.JSString[WebIO.JSString(\"function () {\\n    var handler = (function (ko, koPunches) {\\n    ko.punches.enableAll();\\n    ko.bindingHandlers.numericValue = {\\n        init: function(element, valueAccessor, allBindings, data, context) {\\n            var stringified = ko.observable(ko.unwrap(valueAccessor()));\\n            stringified.subscribe(function(value) {\\n                var val = parseFloat(value);\\n                if (!isNaN(val)) {\\n                    valueAccessor()(val);\\n                }\\n            });\\n            valueAccessor().subscribe(function(value) {\\n                var str = JSON.stringify(value);\\n                if ((str == \\\"0\\\") && ([\\\"-0\\\", \\\"-0.\\\"].indexOf(stringified()) >= 0))\\n                     return;\\n                 if ([\\\"null\\\", \\\"\\\"].indexOf(str) >= 0)\\n                     return;\\n                stringified(str);\\n            });\\n            ko.applyBindingsToNode(\\n                element,\\n                {\\n                    value: stringified,\\n                    valueUpdate: allBindings.get('valueUpdate'),\\n                },\\n                context,\\n            );\\n        }\\n    };\\n    var json_data = {\\\"formatted_vals\\\":[\\\"0.0\\\",\\\"0.1\\\",\\\"0.2\\\",\\\"0.3\\\",\\\"0.4\\\",\\\"0.5\\\",\\\"0.6\\\",\\\"0.7\\\",\\\"0.8\\\",\\\"0.9\\\",\\\"1.0\\\",\\\"1.1\\\",\\\"1.2\\\",\\\"1.3\\\",\\\"1.4\\\",\\\"1.5\\\",\\\"1.6\\\",\\\"1.7\\\",\\\"1.8\\\",\\\"1.9\\\",\\\"2.0\\\",\\\"2.1\\\",\\\"2.2\\\",\\\"2.3\\\",\\\"2.4\\\",\\\"2.5\\\",\\\"2.6\\\",\\\"2.7\\\",\\\"2.8\\\",\\\"2.9\\\",\\\"3.0\\\",\\\"3.1\\\",\\\"3.2\\\",\\\"3.3\\\",\\\"3.4\\\",\\\"3.5\\\",\\\"3.6\\\",\\\"3.7\\\",\\\"3.8\\\",\\\"3.9\\\",\\\"4.0\\\"],\\\"changes\\\":WebIO.getval({\\\"name\\\":\\\"changes\\\",\\\"scope\\\":\\\"6983575643853999866\\\",\\\"id\\\":\\\"10654844784942636347\\\",\\\"type\\\":\\\"observable\\\"}),\\\"index\\\":WebIO.getval({\\\"name\\\":\\\"index\\\",\\\"scope\\\":\\\"6983575643853999866\\\",\\\"id\\\":\\\"16528668855840920620\\\",\\\"type\\\":\\\"observable\\\"})};\\n    var self = this;\\n    function AppViewModel() {\\n        for (var key in json_data) {\\n            var el = json_data[key];\\n            this[key] = Array.isArray(el) ? ko.observableArray(el) : ko.observable(el);\\n        }\\n        \\n        [this[\\\"formatted_val\\\"]=ko.computed(    function(){\\n        return this.formatted_vals()[parseInt(this.index())-(1)];\\n    }\\n,this)]\\n        [this[\\\"changes\\\"].subscribe((function (val){!(this.valueFromJulia[\\\"changes\\\"]) ? (WebIO.setval({\\\"name\\\":\\\"changes\\\",\\\"scope\\\":\\\"6983575643853999866\\\",\\\"id\\\":\\\"10654844784942636347\\\",\\\"type\\\":\\\"observable\\\"},val)) : undefined; return this.valueFromJulia[\\\"changes\\\"]=false}),self),this[\\\"index\\\"].subscribe((function (val){!(this.valueFromJulia[\\\"index\\\"]) ? (WebIO.setval({\\\"name\\\":\\\"index\\\",\\\"scope\\\":\\\"6983575643853999866\\\",\\\"id\\\":\\\"16528668855840920620\\\",\\\"type\\\":\\\"observable\\\"},val)) : undefined; return this.valueFromJulia[\\\"index\\\"]=false}),self)]\\n        \\n    }\\n    self.model = new AppViewModel();\\n    self.valueFromJulia = {};\\n    for (var key in json_data) {\\n        self.valueFromJulia[key] = false;\\n    }\\n    ko.applyBindings(self.model, self.dom);\\n}\\n);\\n    (WebIO.importBlock({\\\"data\\\":[{\\\"name\\\":\\\"knockout\\\",\\\"type\\\":\\\"js\\\",\\\"url\\\":\\\"/assetserver/e5cbfdabe81708ad8b2e387c1b27ccacddcf177b-knockout.js\\\"},{\\\"name\\\":\\\"knockout_punches\\\",\\\"type\\\":\\\"js\\\",\\\"url\\\":\\\"/assetserver/d08034b97e1cc25d7f0ffedee8f015b6c4911c78-knockout_punches.js\\\"}],\\\"type\\\":\\\"async_block\\\"})).then((imports) => handler.apply(this, imports));\\n}\\n\")])], Dict{Symbol,Any}(:className => \"field interact-widget\")), Node{WebIO.DOM}(WebIO.DOM(:html, :div), Any[Scope(Node{WebIO.DOM}(WebIO.DOM(:html, :div), Any[Node{WebIO.DOM}(WebIO.DOM(:html, :div), Any[Node{WebIO.DOM}(WebIO.DOM(:html, :label), Any[\"AirResistanceCoefficient\"], Dict{Symbol,Any}(:className => \"interact \",:style => Dict{Any,Any}(:padding => \"5px 10px 0px 10px\")))], Dict{Symbol,Any}(:className => \"interact-flex-row-left\")), Node{WebIO.DOM}(WebIO.DOM(:html, :div), Any[Node{WebIO.DOM}(WebIO.DOM(:html, :input), Any[], Dict{Symbol,Any}(:max => 41,:min => 1,:attributes => Dict{Any,Any}(:type => \"range\",Symbol(\"data-bind\") => \"numericValue: index, valueUpdate: 'input', event: {change: function (){this.changes(this.changes()+1)}}\",\"orient\" => \"horizontal\"),:step => 1,:className => \"slider slider is-fullwidth\",:style => Dict{Any,Any}()))], Dict{Symbol,Any}(:className => \"interact-flex-row-center\")), Node{WebIO.DOM}(WebIO.DOM(:html, :div), Any[Node{WebIO.DOM}(WebIO.DOM(:html, :p), Any[], Dict{Symbol,Any}(:attributes => Dict(\"data-bind\" => \"text: formatted_val\")))], Dict{Symbol,Any}(:className => \"interact-flex-row-right\"))], Dict{Symbol,Any}(:className => \"interact-flex-row interact-widget\")), Dict{String,Tuple{Observables.AbstractObservable,Union{Nothing, Bool}}}(\"changes\" => (Observable{Int64} with 1 listeners. Value:\n",
       "0, nothing),\"index\" => (Observable{Any} with 2 listeners. Value:\n",
       "21, nothing)), Set{String}(), nothing, Asset[Asset(\"js\", \"knockout\", \"C:\\\\Users\\\\ranyi\\\\.julia\\\\packages\\\\Knockout\\\\IP1uR\\\\src\\\\..\\\\assets\\\\knockout.js\"), Asset(\"js\", \"knockout_punches\", \"C:\\\\Users\\\\ranyi\\\\.julia\\\\packages\\\\Knockout\\\\IP1uR\\\\src\\\\..\\\\assets\\\\knockout_punches.js\"), Asset(\"js\", nothing, \"C:\\\\Users\\\\ranyi\\\\.julia\\\\packages\\\\InteractBase\\\\sOe2Z\\\\src\\\\..\\\\assets\\\\all.js\"), Asset(\"css\", nothing, \"C:\\\\Users\\\\ranyi\\\\.julia\\\\packages\\\\InteractBase\\\\sOe2Z\\\\src\\\\..\\\\assets\\\\style.css\"), Asset(\"css\", nothing, \"C:\\\\Users\\\\ranyi\\\\.julia\\\\packages\\\\Interact\\\\SbgIk\\\\src\\\\..\\\\assets\\\\bulma_confined.min.css\")], Dict{Any,Any}(\"changes\" => Any[WebIO.JSString(\"(function (val){return (val!=this.model[\\\"changes\\\"]()) ? (this.valueFromJulia[\\\"changes\\\"]=true, this.model[\\\"changes\\\"](val)) : undefined})\")],\"index\" => Any[WebIO.JSString(\"(function (val){return (val!=this.model[\\\"index\\\"]()) ? (this.valueFromJulia[\\\"index\\\"]=true, this.model[\\\"index\\\"](val)) : undefined})\")]), WebIO.ConnectionPool(Channel{Any}(sz_max:32,sz_curr:0), Set{AbstractConnection}(), Base.GenericCondition{Base.AlwaysLockedST}(Base.InvasiveLinkedList{Task}(Task (runnable) @0x0000000040d8dcd0, Task (runnable) @0x0000000040d8dcd0), Base.AlwaysLockedST(1))), WebIO.JSString[WebIO.JSString(\"function () {\\n    var handler = (function (ko, koPunches) {\\n    ko.punches.enableAll();\\n    ko.bindingHandlers.numericValue = {\\n        init: function(element, valueAccessor, allBindings, data, context) {\\n            var stringified = ko.observable(ko.unwrap(valueAccessor()));\\n            stringified.subscribe(function(value) {\\n                var val = parseFloat(value);\\n                if (!isNaN(val)) {\\n                    valueAccessor()(val);\\n                }\\n            });\\n            valueAccessor().subscribe(function(value) {\\n                var str = JSON.stringify(value);\\n                if ((str == \\\"0\\\") && ([\\\"-0\\\", \\\"-0.\\\"].indexOf(stringified()) >= 0))\\n                     return;\\n                 if ([\\\"null\\\", \\\"\\\"].indexOf(str) >= 0)\\n                     return;\\n                stringified(str);\\n            });\\n            ko.applyBindingsToNode(\\n                element,\\n                {\\n                    value: stringified,\\n                    valueUpdate: allBindings.get('valueUpdate'),\\n                },\\n                context,\\n            );\\n        }\\n    };\\n    var json_data = {\\\"formatted_vals\\\":[\\\"0.0\\\",\\\"0.1\\\",\\\"0.2\\\",\\\"0.3\\\",\\\"0.4\\\",\\\"0.5\\\",\\\"0.6\\\",\\\"0.7\\\",\\\"0.8\\\",\\\"0.9\\\",\\\"1.0\\\",\\\"1.1\\\",\\\"1.2\\\",\\\"1.3\\\",\\\"1.4\\\",\\\"1.5\\\",\\\"1.6\\\",\\\"1.7\\\",\\\"1.8\\\",\\\"1.9\\\",\\\"2.0\\\",\\\"2.1\\\",\\\"2.2\\\",\\\"2.3\\\",\\\"2.4\\\",\\\"2.5\\\",\\\"2.6\\\",\\\"2.7\\\",\\\"2.8\\\",\\\"2.9\\\",\\\"3.0\\\",\\\"3.1\\\",\\\"3.2\\\",\\\"3.3\\\",\\\"3.4\\\",\\\"3.5\\\",\\\"3.6\\\",\\\"3.7\\\",\\\"3.8\\\",\\\"3.9\\\",\\\"4.0\\\"],\\\"changes\\\":WebIO.getval({\\\"name\\\":\\\"changes\\\",\\\"scope\\\":\\\"6991212308307436217\\\",\\\"id\\\":\\\"6356794911603041607\\\",\\\"type\\\":\\\"observable\\\"}),\\\"index\\\":WebIO.getval({\\\"name\\\":\\\"index\\\",\\\"scope\\\":\\\"6991212308307436217\\\",\\\"id\\\":\\\"5860970303887339234\\\",\\\"type\\\":\\\"observable\\\"})};\\n    var self = this;\\n    function AppViewModel() {\\n        for (var key in json_data) {\\n            var el = json_data[key];\\n            this[key] = Array.isArray(el) ? ko.observableArray(el) : ko.observable(el);\\n        }\\n        \\n        [this[\\\"formatted_val\\\"]=ko.computed(    function(){\\n        return this.formatted_vals()[parseInt(this.index())-(1)];\\n    }\\n,this)]\\n        [this[\\\"changes\\\"].subscribe((function (val){!(this.valueFromJulia[\\\"changes\\\"]) ? (WebIO.setval({\\\"name\\\":\\\"changes\\\",\\\"scope\\\":\\\"6991212308307436217\\\",\\\"id\\\":\\\"6356794911603041607\\\",\\\"type\\\":\\\"observable\\\"},val)) : undefined; return this.valueFromJulia[\\\"changes\\\"]=false}),self),this[\\\"index\\\"].subscribe((function (val){!(this.valueFromJulia[\\\"index\\\"]) ? (WebIO.setval({\\\"name\\\":\\\"index\\\",\\\"scope\\\":\\\"6991212308307436217\\\",\\\"id\\\":\\\"5860970303887339234\\\",\\\"type\\\":\\\"observable\\\"},val)) : undefined; return this.valueFromJulia[\\\"index\\\"]=false}),self)]\\n        \\n    }\\n    self.model = new AppViewModel();\\n    self.valueFromJulia = {};\\n    for (var key in json_data) {\\n        self.valueFromJulia[key] = false;\\n    }\\n    ko.applyBindings(self.model, self.dom);\\n}\\n);\\n    (WebIO.importBlock({\\\"data\\\":[{\\\"name\\\":\\\"knockout\\\",\\\"type\\\":\\\"js\\\",\\\"url\\\":\\\"/assetserver/e5cbfdabe81708ad8b2e387c1b27ccacddcf177b-knockout.js\\\"},{\\\"name\\\":\\\"knockout_punches\\\",\\\"type\\\":\\\"js\\\",\\\"url\\\":\\\"/assetserver/d08034b97e1cc25d7f0ffedee8f015b6c4911c78-knockout_punches.js\\\"}],\\\"type\\\":\\\"async_block\\\"})).then((imports) => handler.apply(this, imports));\\n}\\n\")])], Dict{Symbol,Any}(:className => \"field interact-widget\")), Observable{Any} with 0 listeners. Value:\n",
       "Node{WebIO.DOM}(WebIO.DOM(:html, :div), Any[Plot{Plots.GRBackend() n=1}], Dict{Symbol,Any}(:className => \"interact-flex-row interact-widget\"))], Dict{Symbol,Any}())"
      ]
     },
     "execution_count": 1,
     "metadata": {
      "application/vnd.webio.node+json": {
       "kernelId": "26fa172b-4de0-4249-a24f-5f96c92a5311"
      }
     },
     "output_type": "execute_result"
    }
   ],
   "source": [
    "using DifferentialEquations;\n",
    "using Plots;\n",
    "\n",
    "#Quadratic Air Resistance \\vec{f}= -c*|v|*\\vec{v}\n",
    "function QuadAirResistance!(du,u,p,t)\n",
    "                                   #u[1]=x(t),u[2]=y[t],u[3]=x'(t),u[4]=y'(t)\n",
    "        m = 1.;                    # mass[kg]\n",
    "        g = 9.81;                  # gravitational acceleration [m/s²]\n",
    "    coeff = p;                     # friction coefficient c\n",
    "    du[1] = u[3];                              # x'(t)\n",
    "    du[2] = u[4];                              # y'(t)\n",
    "    du[3] = -coeff/m * sqrt(u[3]^2+u[4]^2) * u[3];    # x''(t) = -c/m * sqrt(x'^2+y'^2) * x'\n",
    "    du[4] = -g-coeff/m * sqrt(u[3]^2+u[4]^2) * u[4];   # x''(t) = g-c/m * sqrt(x'^2+y'^2) * y'\n",
    "end;\n",
    "\n",
    "#plot the numerical solution of the trajectory of the quadratic air-resistance problem.\n",
    "function PlotQuadAirResistanceTraj(vx0,vy0,c) #input: initial velocity [vx0,vy0], quadratic air-resistance coeff. c.\n",
    "x0 = [0.,0.];                           # initial position\n",
    "v0 = [vx0,vy0] ;                        # initial velocity [m/s]\n",
    "u0 = vcat(x0,v0);                       # initial state vector\n",
    "tfinal= 0.5;                            # final time[s]\n",
    "tspan = (0.0,tfinal);                   # time interval\n",
    "\n",
    "prob = ODEProblem(QuadAirResistance!,u0,tspan,c) # air resistance coefficient c: friction force=-c*|v|*\\vec{v}\n",
    "\n",
    "sol = solve(prob);\n",
    "\n",
    "t = 0:(tfinal/40):tfinal\n",
    "res = sol(t);\n",
    "x=res[1,:];\n",
    "y=res[2,:];\n",
    "plot(x, y, aspect_ratio=:equal,xlims=[0,0.7],ylims=[-0.4,0.4],label=\"trajectory\")\n",
    "end;\n",
    "\n",
    "using Interact;\n",
    "@manipulate for InitialVelocityX in 0:0.1:4, InitialVelocityY in 0:0.1:4, AirResistanceCoefficient in 0:0.1:4\n",
    "        PlotQuadAirResistanceTraj(InitialVelocityX,InitialVelocityY,AirResistanceCoefficient)\n",
    "    end #plot trajactory for different parameters"
   ]
  },
  {
   "cell_type": "code",
   "execution_count": null,
   "metadata": {},
   "outputs": [],
   "source": []
  }
 ],
 "metadata": {
  "@webio": {
   "lastCommId": "0a235511e4d4488b96e508fe61d9f3e5",
   "lastKernelId": "b7fcb4a7-6277-4958-9ba6-6eab9cdf0e0b"
  },
  "kernelspec": {
   "display_name": "Julia 1.5.2",
   "language": "julia",
   "name": "julia-1.5"
  },
  "language_info": {
   "file_extension": ".jl",
   "mimetype": "application/julia",
   "name": "julia",
   "version": "1.5.2"
  }
 },
 "nbformat": 4,
 "nbformat_minor": 4
}
