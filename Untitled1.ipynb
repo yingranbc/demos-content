{
 "cells": [
  {
   "cell_type": "code",
   "execution_count": 2,
   "metadata": {},
   "outputs": [
    {
     "ename": "LoadError",
     "evalue": "PyError ($(Expr(:escape, :(ccall(#= C:\\Users\\ranyi\\.julia\\packages\\PyCall\\zqDXB\\src\\pyfncall.jl:43 =# @pysym(:PyObject_Call), PyPtr, (PyPtr, PyPtr, PyPtr), o, pyargsptr, kw))))) <class 'sympy.core.sympify.SympifyError'>\nSympifyError(<PyCall.jlwrap x>)\n  File \"C:\\Users\\ranyi\\.julia\\conda\\3\\lib\\site-packages\\sympy\\tensor\\indexed.py\", line 446, in __new__\n    return _sympify(label)\n  File \"C:\\Users\\ranyi\\.julia\\conda\\3\\lib\\site-packages\\sympy\\core\\sympify.py\", line 439, in _sympify\n    return sympify(a, strict=True)\n  File \"C:\\Users\\ranyi\\.julia\\conda\\3\\lib\\site-packages\\sympy\\core\\sympify.py\", line 360, in sympify\n    raise SympifyError(a)\n",
     "output_type": "error",
     "traceback": [
      "PyError ($(Expr(:escape, :(ccall(#= C:\\Users\\ranyi\\.julia\\packages\\PyCall\\zqDXB\\src\\pyfncall.jl:43 =# @pysym(:PyObject_Call), PyPtr, (PyPtr, PyPtr, PyPtr), o, pyargsptr, kw))))) <class 'sympy.core.sympify.SympifyError'>\nSympifyError(<PyCall.jlwrap x>)\n  File \"C:\\Users\\ranyi\\.julia\\conda\\3\\lib\\site-packages\\sympy\\tensor\\indexed.py\", line 446, in __new__\n    return _sympify(label)\n  File \"C:\\Users\\ranyi\\.julia\\conda\\3\\lib\\site-packages\\sympy\\core\\sympify.py\", line 439, in _sympify\n    return sympify(a, strict=True)\n  File \"C:\\Users\\ranyi\\.julia\\conda\\3\\lib\\site-packages\\sympy\\core\\sympify.py\", line 360, in sympify\n    raise SympifyError(a)\n",
      "",
      "Stacktrace:",
      " [1] pyerr_check at C:\\Users\\ranyi\\.julia\\packages\\PyCall\\zqDXB\\src\\exception.jl:60 [inlined]",
      " [2] pyerr_check at C:\\Users\\ranyi\\.julia\\packages\\PyCall\\zqDXB\\src\\exception.jl:64 [inlined]",
      " [3] _handle_error(::String) at C:\\Users\\ranyi\\.julia\\packages\\PyCall\\zqDXB\\src\\exception.jl:81"
     ]
    }
   ],
   "source": [
    "using SymPy;\n",
    "x = sympy.IndexedBase('x')"
   ]
  },
  {
   "cell_type": "code",
   "execution_count": null,
   "metadata": {},
   "outputs": [],
   "source": []
  }
 ],
 "metadata": {
  "kernelspec": {
   "display_name": "Julia 1.5.2",
   "language": "julia",
   "name": "julia-1.5"
  },
  "language_info": {
   "file_extension": ".jl",
   "mimetype": "application/julia",
   "name": "julia",
   "version": "1.5.2"
  }
 },
 "nbformat": 4,
 "nbformat_minor": 4
}
