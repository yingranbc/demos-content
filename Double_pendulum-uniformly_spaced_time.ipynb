{
 "cells": [
  {
   "cell_type": "code",
   "execution_count": null,
   "metadata": {},
   "outputs": [],
   "source": [
    "# Mohammad Asif Zaman\n",
    "# June, 2018\n",
    "# Animation of the motion a double-pendulum using Julia.\n",
    "\n",
    "# ---revised Oct, 2020, Ying Ran\n",
    "\n",
    "# Package requirements: 1. Plots, 2. Differential Equations, 3. Direckx\n",
    "using Plots\n",
    "using DifferentialEquations\n",
    "using Dierckx\n",
    "\n",
    "# Differential equations describing the system\n",
    "function double_pendulum(du,u,p,t)\n",
    "    # du = derivatives\n",
    "    # u = variables\n",
    "    # p = parameters\n",
    "    # t = time variable\n",
    "    \n",
    "    m1 = p[1];\n",
    "    m2 = p[2];\n",
    "    L1 = p[3];\n",
    "    L2 = p[4];\n",
    "    g = p[5];\n",
    "  \n",
    "    \n",
    "    c = cos(u[1]-u[3]);  # intermediate variables\n",
    "    s = sin(u[1]-u[3]);  # intermediate variables\n",
    "\n",
    "# u[1] = angle of the first pendulum\n",
    "# u[2] = angular velocity of the first pendulum\n",
    "# u[3] = angle of the second pendulum\n",
    "# u[4] = angular velocity of the second pendulum\n",
    "    \n",
    "    du[1] = u[2];   # d(theta 1)\n",
    "    du[2] = ( m2*g*sin(u[3])*c - m2*s*(L1*c*u[2]^2 + L2*u[4]^2) - (m1+m2)*g*sin(u[1]) ) /( L1 *(m1+m2*s^2) );\n",
    "    du[3] = u[4];   # d(theta 2)   \n",
    "    du[4] = ((m1+m2)*(L1*u[2]^2*s - g*sin(u[3]) + g*sin(u[1])*c) + m2*L2*u[4]^2*s*c) / (L2 * (m1 + m2*s^2));\n",
    "    \n",
    "end\n",
    "\n",
    "m1 = 1.5;                 # mass of pendulum 1 (in kg)\n",
    "m2 = 1.;                 # mass of pendulum 2 (in kg)\n",
    "L1 = 2.;                 # length of pendulum 1 (in meter)\n",
    "L2 = 1.;                 # length of pendulum 2 (in meter)\n",
    "g = 9.8;                # gravitatioanl acceleration constant (m/s^2)"
   ]
  },
  {
   "cell_type": "markdown",
   "metadata": {},
   "source": [
    "Let us firstly consider the case of a **SMALL** motion. Namely the system is only slightly perturbed from the equilibrium position."
   ]
  },
  {
   "cell_type": "code",
   "execution_count": null,
   "metadata": {},
   "outputs": [],
   "source": [
    "u0 = [pi/16; 0; pi/18; 0];    # initial conditions for a small perturbation. \n",
    "# u[1] = angle of the first pendulum\n",
    "# u[2] = angular velocity of the first pendulum\n",
    "# u[3] = angle of the second pendulum\n",
    "# u[4] = angular velocity of the second pendulum\n",
    "\n",
    "tfinal = 60.0;       # Final time. Simulation time = 0 to tfinal.\n",
    "\n",
    "# Solving the system\n",
    "\n",
    "p = [m1;  m2;  L1;  L2;  g];\n",
    "tspan = (0.0,tfinal);  # Time span (limits). The actual time variable is automatically set by solve().\n",
    "prob = ODEProblem(double_pendulum,u0,tspan,p);\n",
    "\n",
    "# we choose three accuracy levels for the numerical solution of the ordinary differential equation(ODE).\n",
    "sol_low_accuracy = solve(prob,Vern7(),reltol=1e-6); \n",
    "sol_med_accuracy = solve(prob,Vern7(),reltol=1e-11);\n",
    "sol_high_accuracy = solve(prob,Vern7(),reltol=1e-16);\n",
    "\n",
    "#sol[1,:] = u1 = Θ_1\n",
    "#sol[2,:] = u2 = ω_1\n",
    "#sol[3,:] = u3 = Θ_2\n",
    "#sol[4,:] = u4 = ω_2\n",
    "#sol.t = t = time variable. The ODE solver automatically chooses the time steps. Note that t is not uniformly spaced.\n",
    "\n"
   ]
  },
  {
   "cell_type": "markdown",
   "metadata": {},
   "source": [
    "You can see that the tiny difference in the accuracy levels in numerical solutions leads to no visible discrepancy at late times (the three curves plotted below are right on top of one another): the motion is **regular**."
   ]
  },
  {
   "cell_type": "code",
   "execution_count": null,
   "metadata": {},
   "outputs": [],
   "source": [
    "plot(sol_low_accuracy.t,sol_low_accuracy[3,:],xlabel=\"Time (sec.)\",ylabel=\"Θ_2\",label=\"low accuracy\")\n",
    "plot!(sol_med_accuracy.t,sol_med_accuracy[3,:],label=\"med accuracy\")\n",
    "plot!(sol_high_accuracy.t,sol_high_accuracy[3,:],label=\"high accuracy\")"
   ]
  },
  {
   "cell_type": "markdown",
   "metadata": {},
   "source": [
    "Next, let us consider the case of a **LARGE** motion. Namely the system strongly deviates from the equilibrium position."
   ]
  },
  {
   "cell_type": "code",
   "execution_count": null,
   "metadata": {},
   "outputs": [],
   "source": [
    "u0 = [pi/1.6; 0; pi/1.8; 0];    # initial conditions for a large deviation. \n",
    "# u[1] = angle of the first pendulum\n",
    "# u[2] = angular velocity of the first pendulum\n",
    "# u[3] = angle of the second pendulum\n",
    "# u[4] = angular velocity of the second pendulum\n",
    "\n",
    "tfinal = 60.0;       # Final time. Simulation time = 0 to tfinal.\n",
    "\n",
    "# Solving the system\n",
    "\n",
    "p = [m1;  m2;  L1;  L2;  g];\n",
    "tspan = (0.0,tfinal);  # Time span (limits). The actual time variable is automatically set by solve().\n",
    "prob = ODEProblem(double_pendulum,u0,tspan,p);\n",
    "\n",
    "# we choose three accuracy levels for the numerical solution of the ordinary differential equation(ODE).\n",
    "sol_low_accuracy = solve(prob,Vern7(),reltol=1e-6); \n",
    "sol_med_accuracy = solve(prob,Vern7(),reltol=1e-11);\n",
    "sol_high_accuracy = solve(prob,Vern7(),reltol=1e-16);"
   ]
  },
  {
   "cell_type": "markdown",
   "metadata": {},
   "source": [
    "Now you can see that the tiny difference in the accuracy levels in numerical solutions leads to vast discrepancy at late times: a hallmark of **chaotic** dynamics! In fact there is no hope to solve the motion accurately since the solution at late times is exponentially sensitive to the initial condition."
   ]
  },
  {
   "cell_type": "code",
   "execution_count": null,
   "metadata": {},
   "outputs": [],
   "source": [
    "plot(sol_low_accuracy.t,sol_low_accuracy[3,:],xlabel=\"Time (sec.)\",ylabel=\"Θ_2\",label=\"low accuracy\")\n",
    "plot!(sol_med_accuracy.t,sol_med_accuracy[3,:],label=\"med accuracy\")\n",
    "plot!(sol_high_accuracy.t,sol_high_accuracy[3,:],label=\"high accuracy\")"
   ]
  },
  {
   "cell_type": "markdown",
   "metadata": {},
   "source": [
    "Finally, we can illustrate the chaotic motion in an animation."
   ]
  },
  {
   "cell_type": "code",
   "execution_count": null,
   "metadata": {},
   "outputs": [],
   "source": [
    "# Here we plot the motion in a gif animation.\n",
    "\n",
    "# Extract the variables from the solution \n",
    "sol=sol_high_accuracy;\n",
    "tm = sol.t;\n",
    "\n",
    "# Mapping from polar to Cartesian\n",
    "x1 = L1*sin.(sol[1,:]);          # First Pendulum\n",
    "y1 = -L1*cos.(sol[1,:]);\n",
    "\n",
    "x2 = x1 + L2*sin.(sol[3,:]);     # Second Pendulum\n",
    "y2 = y1 - L2*cos.(sol[3,:]);\n",
    "\n",
    "# Interpolation\n",
    "# https://github.com/kbarbary/Dierckx.jl\n",
    "\n",
    "# Making the variables uniformly spaced. This is necessary to make the animation video valid. As the video is played at\n",
    "# constant fps, it is important to make sure that the time interval between frames is constant. Without this, the apparant \n",
    "# velocities of the pendulums would not be properly scaled in the video.\n",
    "\n",
    "\n",
    "\n",
    "dt = 0.05;\n",
    "t_u = 0:dt:tfinal;      # uniformly spaced time variable\n",
    "\n",
    "sp_x1 = Spline1D(tm, x1);\n",
    "sp_y1 = Spline1D(tm, y1);\n",
    "sp_x2 = Spline1D(tm, x2);\n",
    "sp_y2 = Spline1D(tm, y2);\n",
    "\n",
    "\n",
    "# Interpolated variables\n",
    "x1_u = sp_x1(t_u);\n",
    "y1_u = sp_y1(t_u);\n",
    "x2_u = sp_x2(t_u);\n",
    "y2_u = sp_y2(t_u);\n",
    "\n",
    "# Animation setup\n",
    "# Refs.\n",
    "# 1. http://docs.juliaplots.org/latest/attributes/\n",
    "# 2. http://docs.juliaplots.org/latest/animations/\n",
    "\n",
    "\n",
    "L = L1 + L2;\n",
    "axis_lim = L*1.2;   # defining the limits of the axes\n",
    "\n",
    "gr();  # using GR plotting backend.\n",
    "\n",
    "anim = @animate for i =1:(length(t_u))\n",
    "    str = string(\"Time = \", round(t_u[i],digits=1), \" sec\");\n",
    "    plot([0,x1_u[i]], [0,y1_u[i]],size=(400,400),xlim=[-axis_lim,axis_lim],ylim=[-axis_lim,axis_lim],title=str, markersize = 10, markershape = :circle, markercolor=[:black,:blue], legend=false,aspect_ratio=:equal);\n",
    "    plot!([x1_u[i],x2_u[i]], [y1_u[i],y2_u[i]],markersize = 10, markershape = :circle, markercolor=[:blue,:red]);\n",
    "    if i > 9\n",
    "        plot!([x2_u[i-3:i]], [y2_u[i-3:i]],alpha = 0.15,linewidth = 2, color = :red);\n",
    "        plot!([x2_u[i-5:i-3]], [y2_u[i-5:i-3]],alpha = 0.08,linewidth = 2, color = :red);\n",
    "        plot!([x2_u[i-7:i-5]], [y2_u[i-7:i-5]],alpha = 0.04,linewidth = 2, color = :red);\n",
    "        plot!([x2_u[i-9:i-7]], [y2_u[i-9:i-7]],alpha = 0.01,linewidth = 2, color = :red);\n",
    "    end\n",
    "end\n",
    "\n",
    "gif(anim, \"anim.gif\", fps =round(1. / dt))"
   ]
  }
 ],
 "metadata": {
  "@webio": {
   "lastCommId": null,
   "lastKernelId": null
  },
  "kernelspec": {
   "display_name": "Julia 1.5.2",
   "language": "julia",
   "name": "julia-1.5"
  },
  "language_info": {
   "file_extension": ".jl",
   "mimetype": "application/julia",
   "name": "julia",
   "version": "1.5.2"
  }
 },
 "nbformat": 4,
 "nbformat_minor": 2
}
