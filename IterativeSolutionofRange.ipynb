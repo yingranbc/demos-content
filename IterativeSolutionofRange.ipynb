{
 "cells": [
  {
   "cell_type": "markdown",
   "metadata": {},
   "source": [
    "As discussed in our lecture, we can compute the range of the projectile using the iterative method. The trajectory is given by the function $y(x)$, and we will consider $\\delta\\equiv 1/\\tau$ as our expansion parameter (the time-scale $\\tau\\rightarrow\\infty$ corresponds to the absence of air friction):"
   ]
  },
  {
   "cell_type": "code",
   "execution_count": 1,
   "metadata": {},
   "outputs": [
    {
     "data": {
      "text/latex": [
       "\\begin{equation*}\\frac{g \\log{\\left(1 - \\frac{x δ}{v_{x0}} \\right)}}{δ^{2}} + \\frac{x \\left(\\frac{g}{δ} + v_{y0}\\right)}{v_{x0}}\\end{equation*}"
      ],
      "text/plain": [
       "     /     x*δ  \\     /g         \\\n",
       "g*log|1 - ------|   x*|- + v_{y0}|\n",
       "     \\    v_{x0}/     \\δ         /\n",
       "----------------- + --------------\n",
       "         2              v_{x0}    \n",
       "        δ                         "
      ]
     },
     "execution_count": 1,
     "metadata": {},
     "output_type": "execute_result"
    }
   ],
   "source": [
    "using SymPy;\n",
    "x,tau,delta,g,vx0,vy0,R = symbols(\"x, τ, δ, g,v_{x0},v_{y0},R\", real=true);\n",
    "tau=1/delta;  #δ is the small parameter\n",
    "y=(vy0+g*tau)/vx0*x+g*tau^2*log(1-x/(vx0*tau))  # the trajectory"
   ]
  },
  {
   "cell_type": "markdown",
   "metadata": {},
   "source": [
    "The solution $y(R)=0$ will determine the range $R$. One can firstly Taylor expand this function (I do the expansion up to the 4th order as an illustration). Note that throughout our discussion, the phrase \"expansion to #th order\" is referring to the order of **the power series of $\\delta$**!"
   ]
  },
  {
   "cell_type": "code",
   "execution_count": 2,
   "metadata": {},
   "outputs": [
    {
     "data": {
      "text/latex": [
       "\\begin{equation*}\\frac{R v_{y0}}{v_{x0}} - \\frac{R^{2} g}{2 v_{x0}^{2}} - \\frac{R^{3} g δ}{3 v_{x0}^{3}} - \\frac{R^{4} g δ^{2}}{4 v_{x0}^{4}} - \\frac{R^{5} g δ^{3}}{5 v_{x0}^{5}} - \\frac{R^{6} g δ^{4}}{6 v_{x0}^{6}} + O\\left(δ^{5}\\right)\\end{equation*}"
      ],
      "text/plain": [
       "               2          3          4    2      5    3      6    4         \n",
       "R*v_{y0}      R *g       R *g*δ     R *g*δ      R *g*δ      R *g*δ      / 5\\\n",
       "-------- - --------- - --------- - --------- - --------- - --------- + O\\δ /\n",
       " v_{x0}            2           3           4           5           6        \n",
       "           2*v_{x0}    3*v_{x0}    4*v_{x0}    5*v_{x0}    6*v_{x0}         "
      ]
     },
     "execution_count": 2,
     "metadata": {},
     "output_type": "execute_result"
    }
   ],
   "source": [
    "series(y,delta,n=5).subs(x,R)"
   ]
  },
  {
   "cell_type": "code",
   "execution_count": 3,
   "metadata": {},
   "outputs": [
    {
     "data": {
      "text/latex": [
       "\\begin{equation*}\\frac{2 v_{x0} v_{y0}}{g} - R - \\frac{2 R^{2} δ}{3 v_{x0}} - \\frac{R^{3} δ^{2}}{2 v_{x0}^{2}} - \\frac{2 R^{4} δ^{3}}{5 v_{x0}^{3}} - \\frac{R^{5} δ^{4}}{3 v_{x0}^{4}} + O\\left(δ^{5}\\right)\\end{equation*}"
      ],
      "text/plain": [
       "                          2         3  2         4  3       5  4          \n",
       "2*v_{x0}*v_{y0}        2*R *δ      R *δ       2*R *δ       R *δ       / 5\\\n",
       "--------------- - R - -------- - --------- - --------- - --------- + O\\δ /\n",
       "       g              3*v_{x0}           2           3           4        \n",
       "                                 2*v_{x0}    5*v_{x0}    3*v_{x0}         "
      ]
     },
     "execution_count": 3,
     "metadata": {},
     "output_type": "execute_result"
    }
   ],
   "source": [
    "simplify(ans/R/g*2*vx0^2)"
   ]
  },
  {
   "cell_type": "markdown",
   "metadata": {},
   "source": [
    "After some massaging, the equation $y(R)=0$ can be rewritten as:\n",
    "\\begin{equation*}R=\\frac{2 v_{x0} v_{y0}}{g} - \\frac{2 R^{2} δ}{3 v_{x0}} - \\frac{R^{3} δ^{2}}{2 v_{x0}^{2}} - \\frac{2 R^{4} δ^{3}}{5 v_{x0}^{3}} - \\frac{R^{5} δ^{4}}{3 v_{x0}^{4}} + O\\left(δ^{5}\\right).\\end{equation*}\n",
    "Namely, we moved the leading order term $R$ to the LHS, and everything else to the RHS. "
   ]
  },
  {
   "cell_type": "code",
   "execution_count": 4,
   "metadata": {},
   "outputs": [
    {
     "data": {
      "text/latex": [
       "\\begin{equation*}\\frac{2 v_{x0} v_{y0}}{g} - \\frac{2 R^{2} δ}{3 v_{x0}} - \\frac{R^{3} δ^{2}}{2 v_{x0}^{2}} - \\frac{2 R^{4} δ^{3}}{5 v_{x0}^{3}} - \\frac{R^{5} δ^{4}}{3 v_{x0}^{4}} + O\\left(δ^{5}\\right)\\end{equation*}"
      ],
      "text/plain": [
       "                      2         3  2         4  3       5  4          \n",
       "2*v_{x0}*v_{y0}    2*R *δ      R *δ       2*R *δ       R *δ       / 5\\\n",
       "--------------- - -------- - --------- - --------- - --------- + O\\δ /\n",
       "       g          3*v_{x0}           2           3           4        \n",
       "                             2*v_{x0}    5*v_{x0}    3*v_{x0}         "
      ]
     },
     "execution_count": 4,
     "metadata": {},
     "output_type": "execute_result"
    }
   ],
   "source": [
    "rhs=ans+R"
   ]
  },
  {
   "cell_type": "code",
   "execution_count": 5,
   "metadata": {},
   "outputs": [
    {
     "data": {
      "text/latex": [
       "\\begin{equation*}R\\end{equation*}"
      ],
      "text/plain": [
       "R"
      ]
     },
     "execution_count": 5,
     "metadata": {},
     "output_type": "execute_result"
    }
   ],
   "source": [
    "lhs=R"
   ]
  },
  {
   "cell_type": "markdown",
   "metadata": {},
   "source": [
    "The strategy is to plug in a lower order solution to the RHS to get a higher order solution from the LHS. As the first step, we can find the 0th order solution by ignoring all higher order terms on the RHS:"
   ]
  },
  {
   "cell_type": "code",
   "execution_count": 6,
   "metadata": {},
   "outputs": [
    {
     "data": {
      "text/latex": [
       "\\begin{equation*}\\frac{2 v_{x0} v_{y0}}{g} + O\\left(δ\\right)\\end{equation*}"
      ],
      "text/plain": [
       "2*v_{x0}*v_{y0}       \n",
       "--------------- + O(δ)\n",
       "       g              "
      ]
     },
     "execution_count": 6,
     "metadata": {},
     "output_type": "execute_result"
    }
   ],
   "source": [
    "R0=series(rhs,delta,n=1)"
   ]
  },
  {
   "cell_type": "markdown",
   "metadata": {},
   "source": [
    "As advertised, we now plug in the 0th order solution to the RHS to read out the 1st order solution from the LHS. For this purpose we only need to the RHS up to the 1st order: "
   ]
  },
  {
   "cell_type": "code",
   "execution_count": 7,
   "metadata": {},
   "outputs": [
    {
     "data": {
      "text/latex": [
       "\\begin{equation*}\\frac{2 v_{x0} v_{y0}}{g} - \\frac{2 R^{2} δ}{3 v_{x0}} + O\\left(δ^{2}\\right)\\end{equation*}"
      ],
      "text/plain": [
       "                      2           \n",
       "2*v_{x0}*v_{y0}    2*R *δ     / 2\\\n",
       "--------------- - -------- + O\\δ /\n",
       "       g          3*v_{x0}        "
      ]
     },
     "execution_count": 7,
     "metadata": {},
     "output_type": "execute_result"
    }
   ],
   "source": [
    "R1=series(rhs,delta,n=2)"
   ]
  },
  {
   "cell_type": "markdown",
   "metadata": {},
   "source": [
    "Plugging in the 0th order solution:"
   ]
  },
  {
   "cell_type": "code",
   "execution_count": 8,
   "metadata": {},
   "outputs": [
    {
     "data": {
      "text/latex": [
       "\\begin{equation*}\\frac{2 v_{x0} v_{y0}}{g} - \\frac{2 δ \\left(\\frac{2 v_{x0} v_{y0}}{g} + O\\left(δ\\right)\\right)^{2}}{3 v_{x0}} + O\\left(δ^{2}\\right)\\end{equation*}"
      ],
      "text/plain": [
       "                                              2        \n",
       "                      /2*v_{x0}*v_{y0}       \\         \n",
       "                  2*δ*|--------------- + O(δ)|         \n",
       "2*v_{x0}*v_{y0}       \\       g              /     / 2\\\n",
       "--------------- - ----------------------------- + O\\δ /\n",
       "       g                     3*v_{x0}                  "
      ]
     },
     "execution_count": 8,
     "metadata": {},
     "output_type": "execute_result"
    }
   ],
   "source": [
    "R1=R1.subs(R,R0)"
   ]
  },
  {
   "cell_type": "markdown",
   "metadata": {},
   "source": [
    "Then the first order solution can be read out:"
   ]
  },
  {
   "cell_type": "code",
   "execution_count": 9,
   "metadata": {},
   "outputs": [
    {
     "data": {
      "text/latex": [
       "\\begin{equation*}- \\frac{8 v_{x0} v_{y0}^{2} δ}{3 g^{2}} + \\frac{2 v_{x0} v_{y0}}{g} + O\\left(δ^{2}\\right)\\end{equation*}"
      ],
      "text/plain": [
       "                 2                            \n",
       "  8*v_{x0}*v_{y0} *δ   2*v_{x0}*v_{y0}    / 2\\\n",
       "- ------------------ + --------------- + O\\δ /\n",
       "            2                 g               \n",
       "         3*g                                  "
      ]
     },
     "execution_count": 9,
     "metadata": {},
     "output_type": "execute_result"
    }
   ],
   "source": [
    "R1=simplify(R1)"
   ]
  },
  {
   "cell_type": "markdown",
   "metadata": {},
   "source": [
    "Next, one can plug in the 1st order solution to the RHS in order to find the 2nd order solution. For this purpose we only need the RHS up to the second order:"
   ]
  },
  {
   "cell_type": "code",
   "execution_count": 10,
   "metadata": {},
   "outputs": [
    {
     "data": {
      "text/latex": [
       "\\begin{equation*}\\frac{2 v_{x0} v_{y0}}{g} - \\frac{2 R^{2} δ}{3 v_{x0}} - \\frac{R^{3} δ^{2}}{2 v_{x0}^{2}} + O\\left(δ^{3}\\right)\\end{equation*}"
      ],
      "text/plain": [
       "                      2         3  2          \n",
       "2*v_{x0}*v_{y0}    2*R *δ      R *δ       / 3\\\n",
       "--------------- - -------- - --------- + O\\δ /\n",
       "       g          3*v_{x0}           2        \n",
       "                             2*v_{x0}         "
      ]
     },
     "execution_count": 10,
     "metadata": {},
     "output_type": "execute_result"
    }
   ],
   "source": [
    "R2=series(rhs,delta,n=3)"
   ]
  },
  {
   "cell_type": "markdown",
   "metadata": {},
   "source": [
    "Plugging in 1st order solution to the RHS:"
   ]
  },
  {
   "cell_type": "code",
   "execution_count": 11,
   "metadata": {},
   "outputs": [
    {
     "data": {
      "text/latex": [
       "\\begin{equation*}\\frac{2 v_{x0} v_{y0}}{g} - \\frac{δ^{2} \\left(- \\frac{8 v_{x0} v_{y0}^{2} δ}{3 g^{2}} + \\frac{2 v_{x0} v_{y0}}{g} + O\\left(δ^{2}\\right)\\right)^{3}}{2 v_{x0}^{2}} - \\frac{2 δ \\left(- \\frac{8 v_{x0} v_{y0}^{2} δ}{3 g^{2}} + \\frac{2 v_{x0} v_{y0}}{g} + O\\left(δ^{2}\\right)\\right)^{2}}{3 v_{x0}} + O\\left(δ^{3}\\right)\\end{equation*}"
      ],
      "text/plain": [
       "                                                                     3        \n",
       "                     /                 2                            \\        /\n",
       "                   2 |  8*v_{x0}*v_{y0} *δ   2*v_{x0}*v_{y0}    / 2\\|        |\n",
       "                  δ *|- ------------------ + --------------- + O\\δ /|    2*δ*|\n",
       "                     |            2                 g               |        |\n",
       "2*v_{x0}*v_{y0}      \\         3*g                                  /        \\\n",
       "--------------- - ---------------------------------------------------- - -----\n",
       "       g                                       2                              \n",
       "                                       2*v_{x0}                               \n",
       "\n",
       "                                               2        \n",
       "                 2                            \\         \n",
       "  8*v_{x0}*v_{y0} *δ   2*v_{x0}*v_{y0}    / 2\\|         \n",
       "- ------------------ + --------------- + O\\δ /|         \n",
       "            2                 g               |         \n",
       "         3*g                                  /     / 3\\\n",
       "------------------------------------------------ + O\\δ /\n",
       "                  3*v_{x0}                              \n",
       "                                                        "
      ]
     },
     "execution_count": 11,
     "metadata": {},
     "output_type": "execute_result"
    }
   ],
   "source": [
    "R2=R2.subs(R,R1)"
   ]
  },
  {
   "cell_type": "markdown",
   "metadata": {},
   "source": [
    "We find the second order solution:"
   ]
  },
  {
   "cell_type": "code",
   "execution_count": 12,
   "metadata": {},
   "outputs": [
    {
     "data": {
      "text/latex": [
       "\\begin{equation*}\\frac{28 v_{x0} v_{y0}^{3} δ^{2}}{9 g^{3}} - \\frac{8 v_{x0} v_{y0}^{2} δ}{3 g^{2}} + \\frac{2 v_{x0} v_{y0}}{g} + O\\left(δ^{3}\\right)\\end{equation*}"
      ],
      "text/plain": [
       "                3  2                  2                            \n",
       "28*v_{x0}*v_{y0} *δ    8*v_{x0}*v_{y0} *δ   2*v_{x0}*v_{y0}    / 3\\\n",
       "-------------------- - ------------------ + --------------- + O\\δ /\n",
       "           3                     2                 g               \n",
       "        9*g                   3*g                                  "
      ]
     },
     "execution_count": 12,
     "metadata": {},
     "output_type": "execute_result"
    }
   ],
   "source": [
    "R2=simplify(R2)"
   ]
  },
  {
   "cell_type": "markdown",
   "metadata": {},
   "source": [
    "One can keep doing this order by order, but we will stop at the 3rd order as below:"
   ]
  },
  {
   "cell_type": "code",
   "execution_count": 13,
   "metadata": {},
   "outputs": [
    {
     "data": {
      "text/latex": [
       "\\begin{equation*}\\frac{2 v_{x0} v_{y0}}{g} - \\frac{2 R^{2} δ}{3 v_{x0}} - \\frac{R^{3} δ^{2}}{2 v_{x0}^{2}} - \\frac{2 R^{4} δ^{3}}{5 v_{x0}^{3}} + O\\left(δ^{4}\\right)\\end{equation*}"
      ],
      "text/plain": [
       "                      2         3  2         4  3         \n",
       "2*v_{x0}*v_{y0}    2*R *δ      R *δ       2*R *δ      / 4\\\n",
       "--------------- - -------- - --------- - --------- + O\\δ /\n",
       "       g          3*v_{x0}           2           3        \n",
       "                             2*v_{x0}    5*v_{x0}         "
      ]
     },
     "execution_count": 13,
     "metadata": {},
     "output_type": "execute_result"
    }
   ],
   "source": [
    "R3=series(rhs,delta,n=4)"
   ]
  },
  {
   "cell_type": "code",
   "execution_count": 14,
   "metadata": {},
   "outputs": [
    {
     "data": {
      "text/latex": [
       "\\begin{equation*}\\frac{2 v_{x0} v_{y0}}{g} - \\frac{2 δ^{3} \\left(\\frac{28 v_{x0} v_{y0}^{3} δ^{2}}{9 g^{3}} - \\frac{8 v_{x0} v_{y0}^{2} δ}{3 g^{2}} + \\frac{2 v_{x0} v_{y0}}{g} + O\\left(δ^{3}\\right)\\right)^{4}}{5 v_{x0}^{3}} - \\frac{δ^{2} \\left(\\frac{28 v_{x0} v_{y0}^{3} δ^{2}}{9 g^{3}} - \\frac{8 v_{x0} v_{y0}^{2} δ}{3 g^{2}} + \\frac{2 v_{x0} v_{y0}}{g} + O\\left(δ^{3}\\right)\\right)^{3}}{2 v_{x0}^{2}} - \\frac{2 δ \\left(\\frac{28 v_{x0} v_{y0}^{3} δ^{2}}{9 g^{3}} - \\frac{8 v_{x0} v_{y0}^{2} δ}{3 g^{2}} + \\frac{2 v_{x0} v_{y0}}{g} + O\\left(δ^{3}\\right)\\right)^{2}}{3 v_{x0}} + O\\left(δ^{4}\\right)\\end{equation*}"
      ],
      "text/plain": [
       "                                                                              \n",
       "                       /                3  2                  2               \n",
       "                     3 |28*v_{x0}*v_{y0} *δ    8*v_{x0}*v_{y0} *δ   2*v_{x0}*v\n",
       "                  2*δ *|-------------------- - ------------------ + ----------\n",
       "                       |           3                     2                 g  \n",
       "2*v_{x0}*v_{y0}        \\        9*g                   3*g                     \n",
       "--------------- - ------------------------------------------------------------\n",
       "       g                                                   3                  \n",
       "                                                   5*v_{x0}                   \n",
       "\n",
       "              4                                                               \n",
       "             \\       /                3  2                  2                 \n",
       "_{y0}    / 3\\|     2 |28*v_{x0}*v_{y0} *δ    8*v_{x0}*v_{y0} *δ   2*v_{x0}*v_{\n",
       "----- + O\\δ /|    δ *|-------------------- - ------------------ + ------------\n",
       "             |       |           3                     2                 g    \n",
       "             /       \\        9*g                   3*g                       \n",
       "--------------- - ------------------------------------------------------------\n",
       "                                                          2                   \n",
       "                                                  2*v_{x0}                    \n",
       "\n",
       "            3                                                                 \n",
       "           \\        /                3  2                  2                  \n",
       "y0}    / 3\\|        |28*v_{x0}*v_{y0} *δ    8*v_{x0}*v_{y0} *δ   2*v_{x0}*v_{y\n",
       "--- + O\\δ /|    2*δ*|-------------------- - ------------------ + -------------\n",
       "           |        |           3                     2                 g     \n",
       "           /        \\        9*g                   3*g                        \n",
       "------------- - --------------------------------------------------------------\n",
       "                                                 3*v_{x0}                     \n",
       "                                                                              \n",
       "\n",
       "           2        \n",
       "          \\         \n",
       "0}    / 3\\|         \n",
       "-- + O\\δ /|         \n",
       "          |         \n",
       "          /     / 4\\\n",
       "------------ + O\\δ /\n",
       "                    \n",
       "                    "
      ]
     },
     "execution_count": 14,
     "metadata": {},
     "output_type": "execute_result"
    }
   ],
   "source": [
    "R3=R3.subs(R,R2)"
   ]
  },
  {
   "cell_type": "code",
   "execution_count": 15,
   "metadata": {},
   "outputs": [
    {
     "data": {
      "text/latex": [
       "\\begin{equation*}- \\frac{464 v_{x0} v_{y0}^{4} δ^{3}}{135 g^{4}} + \\frac{28 v_{x0} v_{y0}^{3} δ^{2}}{9 g^{3}} - \\frac{8 v_{x0} v_{y0}^{2} δ}{3 g^{2}} + \\frac{2 v_{x0} v_{y0}}{g} + O\\left(δ^{4}\\right)\\end{equation*}"
      ],
      "text/plain": [
       "                   4  3                   3  2                  2             \n",
       "  464*v_{x0}*v_{y0} *δ    28*v_{x0}*v_{y0} *δ    8*v_{x0}*v_{y0} *δ   2*v_{x0}\n",
       "- --------------------- + -------------------- - ------------------ + --------\n",
       "               4                     3                     2                 g\n",
       "          135*g                   9*g                   3*g                   \n",
       "\n",
       "               \n",
       "*v_{y0}    / 4\\\n",
       "------- + O\\δ /\n",
       "               \n",
       "               "
      ]
     },
     "execution_count": 15,
     "metadata": {},
     "output_type": "execute_result"
    }
   ],
   "source": [
    "R3=simplify(R3)"
   ]
  },
  {
   "cell_type": "markdown",
   "metadata": {},
   "source": [
    "Now it is time to benchmark our approximated solution $R3$ with the exact solution $Rexact$ found below:"
   ]
  },
  {
   "cell_type": "code",
   "execution_count": 16,
   "metadata": {},
   "outputs": [
    {
     "data": {
      "text/latex": [
       "\\begin{equation*}\\frac{v_{x0} \\left(g W\\left(\\frac{\\left(- g - v_{y0} δ\\right) e^{-1 - \\frac{v_{y0} δ}{g}}}{g}\\right) + g + v_{y0} δ\\right)}{δ \\left(g + v_{y0} δ\\right)}\\end{equation*}"
      ],
      "text/plain": [
       "       /   /                      v_{y0}*δ\\               \\\n",
       "       |   |                 -1 - --------|               |\n",
       "       |   |                         g    |               |\n",
       "       |   |(-g - v_{y0}*δ)*e             |               |\n",
       "v_{x0}*|g*W|------------------------------| + g + v_{y0}*δ|\n",
       "       \\   \\              g               /               /\n",
       "-----------------------------------------------------------\n",
       "                      δ*(g + v_{y0}*δ)                     "
      ]
     },
     "execution_count": 16,
     "metadata": {},
     "output_type": "execute_result"
    }
   ],
   "source": [
    "Rexact=solve(y,x)[1]"
   ]
  },
  {
   "cell_type": "markdown",
   "metadata": {},
   "source": [
    "As expected, the exact solution involves a special function LambertW."
   ]
  },
  {
   "cell_type": "code",
   "execution_count": 17,
   "metadata": {},
   "outputs": [
    {
     "name": "stdout",
     "output_type": "stream",
     "text": [
      "5*(5*δ + 9.8*LambertW(0.102040816326531*(-5*δ - 9.8)*exp(-0.510204081632653*δ - 1)) + 9.8)/(δ*(5*δ + 9.8))"
     ]
    }
   ],
   "source": [
    "print(Rexact.subs([(vx0,5),(vy0,5),(g,9.8)]))"
   ]
  },
  {
   "cell_type": "code",
   "execution_count": 18,
   "metadata": {},
   "outputs": [
    {
     "data": {
      "text/plain": [
       "Rexactfunc (generic function with 1 method)"
      ]
     },
     "execution_count": 18,
     "metadata": {},
     "output_type": "execute_result"
    }
   ],
   "source": [
    "using LambertW\n",
    "Rexactfunc(δ)=5*(5*δ + 9.8*lambertw(0.102040816326531*(-5*δ - 9.8)*exp(-0.510204081632653*δ - 1)) + 9.8)/(δ*(5*δ + 9.8))"
   ]
  },
  {
   "cell_type": "code",
   "execution_count": 19,
   "metadata": {},
   "outputs": [
    {
     "data": {
      "text/latex": [
       "\\begin{equation*}- 1.1644743613809 δ^{3} + 2.06593813424301 δ^{2} - 3.47077606552825 δ + 5.10204081632653\\end{equation*}"
      ],
      "text/plain": [
       "                   3                     2                                    \n",
       "- 1.1644743613809*δ  + 2.06593813424301*δ  - 3.47077606552825*δ + 5.1020408163\n",
       "\n",
       "    \n",
       "2653"
      ]
     },
     "execution_count": 19,
     "metadata": {},
     "output_type": "execute_result"
    }
   ],
   "source": [
    "R3func=(R3.removeO().subs([(vx0,5),(vy0,5),(g,9.8)]))"
   ]
  },
  {
   "cell_type": "markdown",
   "metadata": {},
   "source": [
    "We plot the range as a function of $1/τ$ below, for the initial velocity $\\vec v_{0}=(5,5)$m/s. You can see that the exact solution is well approximated by the third order polynomial $R3$, at least when $1/τ$ is small."
   ]
  },
  {
   "cell_type": "code",
   "execution_count": 20,
   "metadata": {},
   "outputs": [
    {
     "data": {
      "image/svg+xml": [
       "<?xml version=\"1.0\" encoding=\"utf-8\"?>\n",
       "<svg xmlns=\"http://www.w3.org/2000/svg\" xmlns:xlink=\"http://www.w3.org/1999/xlink\" width=\"600\" height=\"400\" viewBox=\"0 0 2400 1600\">\n",
       "<defs>\n",
       "  <clipPath id=\"clip560\">\n",
       "    <rect x=\"0\" y=\"0\" width=\"2400\" height=\"1600\"/>\n",
       "  </clipPath>\n",
       "</defs>\n",
       "<path clip-path=\"url(#clip560)\" d=\"\n",
       "M0 1600 L2400 1600 L2400 0 L0 0  Z\n",
       "  \" fill=\"#ffffff\" fill-rule=\"evenodd\" fill-opacity=\"1\"/>\n",
       "<defs>\n",
       "  <clipPath id=\"clip561\">\n",
       "    <rect x=\"480\" y=\"0\" width=\"1681\" height=\"1600\"/>\n",
       "  </clipPath>\n",
       "</defs>\n",
       "<path clip-path=\"url(#clip560)\" d=\"\n",
       "M212.413 1423.18 L2352.76 1423.18 L2352.76 47.2441 L212.413 47.2441  Z\n",
       "  \" fill=\"#ffffff\" fill-rule=\"evenodd\" fill-opacity=\"1\"/>\n",
       "<defs>\n",
       "  <clipPath id=\"clip562\">\n",
       "    <rect x=\"212\" y=\"47\" width=\"2141\" height=\"1377\"/>\n",
       "  </clipPath>\n",
       "</defs>\n",
       "<polyline clip-path=\"url(#clip562)\" style=\"stroke:#000000; stroke-width:2; stroke-opacity:0.1; fill:none\" points=\"\n",
       "  272.988,1423.18 272.988,47.2441 \n",
       "  \"/>\n",
       "<polyline clip-path=\"url(#clip562)\" style=\"stroke:#000000; stroke-width:2; stroke-opacity:0.1; fill:none\" points=\"\n",
       "  777.786,1423.18 777.786,47.2441 \n",
       "  \"/>\n",
       "<polyline clip-path=\"url(#clip562)\" style=\"stroke:#000000; stroke-width:2; stroke-opacity:0.1; fill:none\" points=\"\n",
       "  1282.58,1423.18 1282.58,47.2441 \n",
       "  \"/>\n",
       "<polyline clip-path=\"url(#clip562)\" style=\"stroke:#000000; stroke-width:2; stroke-opacity:0.1; fill:none\" points=\"\n",
       "  1787.38,1423.18 1787.38,47.2441 \n",
       "  \"/>\n",
       "<polyline clip-path=\"url(#clip562)\" style=\"stroke:#000000; stroke-width:2; stroke-opacity:0.1; fill:none\" points=\"\n",
       "  2292.18,1423.18 2292.18,47.2441 \n",
       "  \"/>\n",
       "<polyline clip-path=\"url(#clip560)\" style=\"stroke:#000000; stroke-width:4; stroke-opacity:1; fill:none\" points=\"\n",
       "  212.413,1423.18 2352.76,1423.18 \n",
       "  \"/>\n",
       "<polyline clip-path=\"url(#clip560)\" style=\"stroke:#000000; stroke-width:4; stroke-opacity:1; fill:none\" points=\"\n",
       "  272.988,1423.18 272.988,1406.67 \n",
       "  \"/>\n",
       "<polyline clip-path=\"url(#clip560)\" style=\"stroke:#000000; stroke-width:4; stroke-opacity:1; fill:none\" points=\"\n",
       "  777.786,1423.18 777.786,1406.67 \n",
       "  \"/>\n",
       "<polyline clip-path=\"url(#clip560)\" style=\"stroke:#000000; stroke-width:4; stroke-opacity:1; fill:none\" points=\"\n",
       "  1282.58,1423.18 1282.58,1406.67 \n",
       "  \"/>\n",
       "<polyline clip-path=\"url(#clip560)\" style=\"stroke:#000000; stroke-width:4; stroke-opacity:1; fill:none\" points=\"\n",
       "  1787.38,1423.18 1787.38,1406.67 \n",
       "  \"/>\n",
       "<polyline clip-path=\"url(#clip560)\" style=\"stroke:#000000; stroke-width:4; stroke-opacity:1; fill:none\" points=\"\n",
       "  2292.18,1423.18 2292.18,1406.67 \n",
       "  \"/>\n",
       "<path clip-path=\"url(#clip560)\" d=\"M 0 0 M240.998 1452.37 Q237.387 1452.37 235.558 1455.94 Q233.752 1459.48 233.752 1466.61 Q233.752 1473.71 235.558 1477.28 Q237.387 1480.82 240.998 1480.82 Q244.632 1480.82 246.438 1477.28 Q248.266 1473.71 248.266 1466.61 Q248.266 1459.48 246.438 1455.94 Q244.632 1452.37 240.998 1452.37 M240.998 1448.67 Q246.808 1448.67 249.863 1453.27 Q252.942 1457.86 252.942 1466.61 Q252.942 1475.33 249.863 1479.94 Q246.808 1484.52 240.998 1484.52 Q235.188 1484.52 232.109 1479.94 Q229.053 1475.33 229.053 1466.61 Q229.053 1457.86 232.109 1453.27 Q235.188 1448.67 240.998 1448.67 Z\" fill=\"#000000\" fill-rule=\"evenodd\" fill-opacity=\"1\" /><path clip-path=\"url(#clip560)\" d=\"M 0 0 M258.012 1477.97 L262.896 1477.97 L262.896 1483.85 L258.012 1483.85 L258.012 1477.97 Z\" fill=\"#000000\" fill-rule=\"evenodd\" fill-opacity=\"1\" /><path clip-path=\"url(#clip560)\" d=\"M 0 0 M277.965 1452.37 Q274.354 1452.37 272.525 1455.94 Q270.72 1459.48 270.72 1466.61 Q270.72 1473.71 272.525 1477.28 Q274.354 1480.82 277.965 1480.82 Q281.599 1480.82 283.405 1477.28 Q285.234 1473.71 285.234 1466.61 Q285.234 1459.48 283.405 1455.94 Q281.599 1452.37 277.965 1452.37 M277.965 1448.67 Q283.775 1448.67 286.831 1453.27 Q289.91 1457.86 289.91 1466.61 Q289.91 1475.33 286.831 1479.94 Q283.775 1484.52 277.965 1484.52 Q272.155 1484.52 269.076 1479.94 Q266.021 1475.33 266.021 1466.61 Q266.021 1457.86 269.076 1453.27 Q272.155 1448.67 277.965 1448.67 Z\" fill=\"#000000\" fill-rule=\"evenodd\" fill-opacity=\"1\" /><path clip-path=\"url(#clip560)\" d=\"M 0 0 M304.979 1452.37 Q301.368 1452.37 299.539 1455.94 Q297.734 1459.48 297.734 1466.61 Q297.734 1473.71 299.539 1477.28 Q301.368 1480.82 304.979 1480.82 Q308.613 1480.82 310.419 1477.28 Q312.247 1473.71 312.247 1466.61 Q312.247 1459.48 310.419 1455.94 Q308.613 1452.37 304.979 1452.37 M304.979 1448.67 Q310.789 1448.67 313.845 1453.27 Q316.923 1457.86 316.923 1466.61 Q316.923 1475.33 313.845 1479.94 Q310.789 1484.52 304.979 1484.52 Q299.169 1484.52 296.09 1479.94 Q293.035 1475.33 293.035 1466.61 Q293.035 1457.86 296.09 1453.27 Q299.169 1448.67 304.979 1448.67 Z\" fill=\"#000000\" fill-rule=\"evenodd\" fill-opacity=\"1\" /><path clip-path=\"url(#clip560)\" d=\"M 0 0 M747.092 1452.37 Q743.481 1452.37 741.652 1455.94 Q739.847 1459.48 739.847 1466.61 Q739.847 1473.71 741.652 1477.28 Q743.481 1480.82 747.092 1480.82 Q750.726 1480.82 752.532 1477.28 Q754.361 1473.71 754.361 1466.61 Q754.361 1459.48 752.532 1455.94 Q750.726 1452.37 747.092 1452.37 M747.092 1448.67 Q752.902 1448.67 755.958 1453.27 Q759.036 1457.86 759.036 1466.61 Q759.036 1475.33 755.958 1479.94 Q752.902 1484.52 747.092 1484.52 Q741.282 1484.52 738.203 1479.94 Q735.148 1475.33 735.148 1466.61 Q735.148 1457.86 738.203 1453.27 Q741.282 1448.67 747.092 1448.67 Z\" fill=\"#000000\" fill-rule=\"evenodd\" fill-opacity=\"1\" /><path clip-path=\"url(#clip560)\" d=\"M 0 0 M764.106 1477.97 L768.99 1477.97 L768.99 1483.85 L764.106 1483.85 L764.106 1477.97 Z\" fill=\"#000000\" fill-rule=\"evenodd\" fill-opacity=\"1\" /><path clip-path=\"url(#clip560)\" d=\"M 0 0 M778.087 1479.92 L794.407 1479.92 L794.407 1483.85 L772.462 1483.85 L772.462 1479.92 Q775.124 1477.16 779.708 1472.53 Q784.314 1467.88 785.495 1466.54 Q787.74 1464.01 788.62 1462.28 Q789.522 1460.52 789.522 1458.83 Q789.522 1456.07 787.578 1454.34 Q785.657 1452.6 782.555 1452.6 Q780.356 1452.6 777.902 1453.37 Q775.472 1454.13 772.694 1455.68 L772.694 1450.96 Q775.518 1449.82 777.971 1449.25 Q780.425 1448.67 782.462 1448.67 Q787.833 1448.67 791.027 1451.35 Q794.221 1454.04 794.221 1458.53 Q794.221 1460.66 793.411 1462.58 Q792.624 1464.48 790.518 1467.07 Q789.939 1467.74 786.837 1470.96 Q783.735 1474.15 778.087 1479.92 Z\" fill=\"#000000\" fill-rule=\"evenodd\" fill-opacity=\"1\" /><path clip-path=\"url(#clip560)\" d=\"M 0 0 M799.522 1449.29 L817.879 1449.29 L817.879 1453.23 L803.805 1453.23 L803.805 1461.7 Q804.823 1461.35 805.842 1461.19 Q806.86 1461 807.879 1461 Q813.666 1461 817.045 1464.18 Q820.425 1467.35 820.425 1472.76 Q820.425 1478.34 816.953 1481.44 Q813.481 1484.52 807.161 1484.52 Q804.985 1484.52 802.717 1484.15 Q800.471 1483.78 798.064 1483.04 L798.064 1478.34 Q800.147 1479.48 802.37 1480.03 Q804.592 1480.59 807.069 1480.59 Q811.073 1480.59 813.411 1478.48 Q815.749 1476.38 815.749 1472.76 Q815.749 1469.15 813.411 1467.05 Q811.073 1464.94 807.069 1464.94 Q805.194 1464.94 803.319 1465.36 Q801.467 1465.77 799.522 1466.65 L799.522 1449.29 Z\" fill=\"#000000\" fill-rule=\"evenodd\" fill-opacity=\"1\" /><path clip-path=\"url(#clip560)\" d=\"M 0 0 M1251.09 1452.37 Q1247.48 1452.37 1245.65 1455.94 Q1243.85 1459.48 1243.85 1466.61 Q1243.85 1473.71 1245.65 1477.28 Q1247.48 1480.82 1251.09 1480.82 Q1254.73 1480.82 1256.53 1477.28 Q1258.36 1473.71 1258.36 1466.61 Q1258.36 1459.48 1256.53 1455.94 Q1254.73 1452.37 1251.09 1452.37 M1251.09 1448.67 Q1256.9 1448.67 1259.96 1453.27 Q1263.04 1457.86 1263.04 1466.61 Q1263.04 1475.33 1259.96 1479.94 Q1256.9 1484.52 1251.09 1484.52 Q1245.28 1484.52 1242.2 1479.94 Q1239.15 1475.33 1239.15 1466.61 Q1239.15 1457.86 1242.2 1453.27 Q1245.28 1448.67 1251.09 1448.67 Z\" fill=\"#000000\" fill-rule=\"evenodd\" fill-opacity=\"1\" /><path clip-path=\"url(#clip560)\" d=\"M 0 0 M1268.11 1477.97 L1272.99 1477.97 L1272.99 1483.85 L1268.11 1483.85 L1268.11 1477.97 Z\" fill=\"#000000\" fill-rule=\"evenodd\" fill-opacity=\"1\" /><path clip-path=\"url(#clip560)\" d=\"M 0 0 M1278.11 1449.29 L1296.46 1449.29 L1296.46 1453.23 L1282.39 1453.23 L1282.39 1461.7 Q1283.41 1461.35 1284.42 1461.19 Q1285.44 1461 1286.46 1461 Q1292.25 1461 1295.63 1464.18 Q1299.01 1467.35 1299.01 1472.76 Q1299.01 1478.34 1295.54 1481.44 Q1292.06 1484.52 1285.74 1484.52 Q1283.57 1484.52 1281.3 1484.15 Q1279.05 1483.78 1276.65 1483.04 L1276.65 1478.34 Q1278.73 1479.48 1280.95 1480.03 Q1283.17 1480.59 1285.65 1480.59 Q1289.66 1480.59 1291.99 1478.48 Q1294.33 1476.38 1294.33 1472.76 Q1294.33 1469.15 1291.99 1467.05 Q1289.66 1464.94 1285.65 1464.94 Q1283.78 1464.94 1281.9 1465.36 Q1280.05 1465.77 1278.11 1466.65 L1278.11 1449.29 Z\" fill=\"#000000\" fill-rule=\"evenodd\" fill-opacity=\"1\" /><path clip-path=\"url(#clip560)\" d=\"M 0 0 M1314.08 1452.37 Q1310.47 1452.37 1308.64 1455.94 Q1306.83 1459.48 1306.83 1466.61 Q1306.83 1473.71 1308.64 1477.28 Q1310.47 1480.82 1314.08 1480.82 Q1317.71 1480.82 1319.52 1477.28 Q1321.35 1473.71 1321.35 1466.61 Q1321.35 1459.48 1319.52 1455.94 Q1317.71 1452.37 1314.08 1452.37 M1314.08 1448.67 Q1319.89 1448.67 1322.94 1453.27 Q1326.02 1457.86 1326.02 1466.61 Q1326.02 1475.33 1322.94 1479.94 Q1319.89 1484.52 1314.08 1484.52 Q1308.27 1484.52 1305.19 1479.94 Q1302.13 1475.33 1302.13 1466.61 Q1302.13 1457.86 1305.19 1453.27 Q1308.27 1448.67 1314.08 1448.67 Z\" fill=\"#000000\" fill-rule=\"evenodd\" fill-opacity=\"1\" /><path clip-path=\"url(#clip560)\" d=\"M 0 0 M1756.34 1452.37 Q1752.73 1452.37 1750.9 1455.94 Q1749.1 1459.48 1749.1 1466.61 Q1749.1 1473.71 1750.9 1477.28 Q1752.73 1480.82 1756.34 1480.82 Q1759.97 1480.82 1761.78 1477.28 Q1763.61 1473.71 1763.61 1466.61 Q1763.61 1459.48 1761.78 1455.94 Q1759.97 1452.37 1756.34 1452.37 M1756.34 1448.67 Q1762.15 1448.67 1765.21 1453.27 Q1768.29 1457.86 1768.29 1466.61 Q1768.29 1475.33 1765.21 1479.94 Q1762.15 1484.52 1756.34 1484.52 Q1750.53 1484.52 1747.45 1479.94 Q1744.4 1475.33 1744.4 1466.61 Q1744.4 1457.86 1747.45 1453.27 Q1750.53 1448.67 1756.34 1448.67 Z\" fill=\"#000000\" fill-rule=\"evenodd\" fill-opacity=\"1\" /><path clip-path=\"url(#clip560)\" d=\"M 0 0 M1773.35 1477.97 L1778.24 1477.97 L1778.24 1483.85 L1773.35 1483.85 L1773.35 1477.97 Z\" fill=\"#000000\" fill-rule=\"evenodd\" fill-opacity=\"1\" /><path clip-path=\"url(#clip560)\" d=\"M 0 0 M1782.13 1449.29 L1804.35 1449.29 L1804.35 1451.28 L1791.8 1483.85 L1786.92 1483.85 L1798.72 1453.23 L1782.13 1453.23 L1782.13 1449.29 Z\" fill=\"#000000\" fill-rule=\"evenodd\" fill-opacity=\"1\" /><path clip-path=\"url(#clip560)\" d=\"M 0 0 M1809.47 1449.29 L1827.82 1449.29 L1827.82 1453.23 L1813.75 1453.23 L1813.75 1461.7 Q1814.77 1461.35 1815.78 1461.19 Q1816.8 1461 1817.82 1461 Q1823.61 1461 1826.99 1464.18 Q1830.37 1467.35 1830.37 1472.76 Q1830.37 1478.34 1826.9 1481.44 Q1823.42 1484.52 1817.1 1484.52 Q1814.93 1484.52 1812.66 1484.15 Q1810.41 1483.78 1808.01 1483.04 L1808.01 1478.34 Q1810.09 1479.48 1812.31 1480.03 Q1814.53 1480.59 1817.01 1480.59 Q1821.02 1480.59 1823.35 1478.48 Q1825.69 1476.38 1825.69 1472.76 Q1825.69 1469.15 1823.35 1467.05 Q1821.02 1464.94 1817.01 1464.94 Q1815.14 1464.94 1813.26 1465.36 Q1811.41 1465.77 1809.47 1466.65 L1809.47 1449.29 Z\" fill=\"#000000\" fill-rule=\"evenodd\" fill-opacity=\"1\" /><path clip-path=\"url(#clip560)\" d=\"M 0 0 M2250.57 1479.92 L2258.21 1479.92 L2258.21 1453.55 L2249.9 1455.22 L2249.9 1450.96 L2258.16 1449.29 L2262.84 1449.29 L2262.84 1479.92 L2270.48 1479.92 L2270.48 1483.85 L2250.57 1483.85 L2250.57 1479.92 Z\" fill=\"#000000\" fill-rule=\"evenodd\" fill-opacity=\"1\" /><path clip-path=\"url(#clip560)\" d=\"M 0 0 M2275.55 1477.97 L2280.43 1477.97 L2280.43 1483.85 L2275.55 1483.85 L2275.55 1477.97 Z\" fill=\"#000000\" fill-rule=\"evenodd\" fill-opacity=\"1\" /><path clip-path=\"url(#clip560)\" d=\"M 0 0 M2295.5 1452.37 Q2291.89 1452.37 2290.06 1455.94 Q2288.26 1459.48 2288.26 1466.61 Q2288.26 1473.71 2290.06 1477.28 Q2291.89 1480.82 2295.5 1480.82 Q2299.14 1480.82 2300.94 1477.28 Q2302.77 1473.71 2302.77 1466.61 Q2302.77 1459.48 2300.94 1455.94 Q2299.14 1452.37 2295.5 1452.37 M2295.5 1448.67 Q2301.31 1448.67 2304.37 1453.27 Q2307.45 1457.86 2307.45 1466.61 Q2307.45 1475.33 2304.37 1479.94 Q2301.31 1484.52 2295.5 1484.52 Q2289.69 1484.52 2286.61 1479.94 Q2283.56 1475.33 2283.56 1466.61 Q2283.56 1457.86 2286.61 1453.27 Q2289.69 1448.67 2295.5 1448.67 Z\" fill=\"#000000\" fill-rule=\"evenodd\" fill-opacity=\"1\" /><path clip-path=\"url(#clip560)\" d=\"M 0 0 M2322.52 1452.37 Q2318.9 1452.37 2317.08 1455.94 Q2315.27 1459.48 2315.27 1466.61 Q2315.27 1473.71 2317.08 1477.28 Q2318.9 1480.82 2322.52 1480.82 Q2326.15 1480.82 2327.96 1477.28 Q2329.78 1473.71 2329.78 1466.61 Q2329.78 1459.48 2327.96 1455.94 Q2326.15 1452.37 2322.52 1452.37 M2322.52 1448.67 Q2328.33 1448.67 2331.38 1453.27 Q2334.46 1457.86 2334.46 1466.61 Q2334.46 1475.33 2331.38 1479.94 Q2328.33 1484.52 2322.52 1484.52 Q2316.71 1484.52 2313.63 1479.94 Q2310.57 1475.33 2310.57 1466.61 Q2310.57 1457.86 2313.63 1453.27 Q2316.71 1448.67 2322.52 1448.67 Z\" fill=\"#000000\" fill-rule=\"evenodd\" fill-opacity=\"1\" /><path clip-path=\"url(#clip560)\" d=\"M 0 0 M1132.21 1550.63 L1142.71 1550.63 L1142.71 1514.38 L1131.29 1516.67 L1131.29 1510.82 L1142.65 1508.52 L1149.08 1508.52 L1149.08 1550.63 L1159.58 1550.63 L1159.58 1556.04 L1132.21 1556.04 L1132.21 1550.63 Z\" fill=\"#000000\" fill-rule=\"evenodd\" fill-opacity=\"1\" /><path clip-path=\"url(#clip560)\" d=\"M 0 0 M1176.13 1508.52 L1181.54 1508.52 L1164.99 1562.09 L1159.58 1562.09 L1176.13 1508.52 Z\" fill=\"#000000\" fill-rule=\"evenodd\" fill-opacity=\"1\" /><path clip-path=\"url(#clip560)\" d=\"M 0 0 M1205.16 1549.55 Q1206.31 1551.08 1209.74 1551.08 L1212.58 1551.08 L1212.58 1556.04 L1209.04 1556.04 Q1203.32 1556.04 1200.71 1552.99 Q1198.1 1549.87 1198.1 1543.12 L1198.1 1526.25 L1184.73 1526.25 L1184.73 1520.4 L1217.61 1520.4 L1217.61 1526.25 L1204.08 1526.25 L1204.08 1543.47 Q1204.08 1548.09 1205.16 1549.55 Z\" fill=\"#000000\" fill-rule=\"evenodd\" fill-opacity=\"1\" /><path clip-path=\"url(#clip560)\" d=\"M 0 0 M1243.93 1506.52 L1257.42 1506.52 L1257.42 1511.07 L1249.78 1511.07 L1249.78 1560.09 L1257.42 1560.09 L1257.42 1564.64 L1243.93 1564.64 L1243.93 1506.52 Z\" fill=\"#000000\" fill-rule=\"evenodd\" fill-opacity=\"1\" /><path clip-path=\"url(#clip560)\" d=\"M 0 0 M1265.51 1550.63 L1276.01 1550.63 L1276.01 1514.38 L1264.59 1516.67 L1264.59 1510.82 L1275.95 1508.52 L1282.38 1508.52 L1282.38 1550.63 L1292.88 1550.63 L1292.88 1556.04 L1265.51 1556.04 L1265.51 1550.63 Z\" fill=\"#000000\" fill-rule=\"evenodd\" fill-opacity=\"1\" /><path clip-path=\"url(#clip560)\" d=\"M 0 0 M1309.43 1508.52 L1314.84 1508.52 L1298.29 1562.09 L1292.88 1562.09 L1309.43 1508.52 Z\" fill=\"#000000\" fill-rule=\"evenodd\" fill-opacity=\"1\" /><path clip-path=\"url(#clip560)\" d=\"M 0 0 M1343.71 1521.45 L1343.71 1526.98 Q1341.23 1525.71 1338.55 1525.07 Q1335.88 1524.44 1333.02 1524.44 Q1328.66 1524.44 1326.46 1525.77 Q1324.3 1527.11 1324.3 1529.79 Q1324.3 1531.82 1325.86 1533 Q1327.41 1534.15 1332.13 1535.2 L1334.13 1535.64 Q1340.37 1536.98 1342.98 1539.43 Q1345.62 1541.85 1345.62 1546.21 Q1345.62 1551.17 1341.67 1554.07 Q1337.76 1556.97 1330.88 1556.97 Q1328.02 1556.97 1324.9 1556.39 Q1321.81 1555.85 1318.38 1554.74 L1318.38 1548.69 Q1321.62 1550.38 1324.77 1551.24 Q1327.92 1552.07 1331.01 1552.07 Q1335.15 1552.07 1337.38 1550.66 Q1339.61 1549.23 1339.61 1546.65 Q1339.61 1544.27 1337.98 1542.99 Q1336.39 1541.72 1330.95 1540.54 L1328.91 1540.07 Q1323.47 1538.92 1321.05 1536.56 Q1318.63 1534.18 1318.63 1530.04 Q1318.63 1525.01 1322.19 1522.27 Q1325.76 1519.54 1332.32 1519.54 Q1335.56 1519.54 1338.43 1520.01 Q1341.29 1520.49 1343.71 1521.45 Z\" fill=\"#000000\" fill-rule=\"evenodd\" fill-opacity=\"1\" /><path clip-path=\"url(#clip560)\" d=\"M 0 0 M1382.26 1536.76 L1382.26 1539.62 L1355.33 1539.62 Q1355.71 1545.67 1358.96 1548.85 Q1362.24 1552 1368.06 1552 Q1371.43 1552 1374.58 1551.17 Q1377.77 1550.35 1380.89 1548.69 L1380.89 1554.23 Q1377.74 1555.57 1374.43 1556.27 Q1371.12 1556.97 1367.71 1556.97 Q1359.18 1556.97 1354.18 1552 Q1349.22 1547.04 1349.22 1538.57 Q1349.22 1529.82 1353.93 1524.69 Q1358.67 1519.54 1366.69 1519.54 Q1373.88 1519.54 1378.05 1524.18 Q1382.26 1528.8 1382.26 1536.76 M1376.4 1535.04 Q1376.34 1530.23 1373.69 1527.37 Q1371.08 1524.5 1366.75 1524.5 Q1361.85 1524.5 1358.89 1527.27 Q1355.96 1530.04 1355.52 1535.07 L1376.4 1535.04 Z\" fill=\"#000000\" fill-rule=\"evenodd\" fill-opacity=\"1\" /><path clip-path=\"url(#clip560)\" d=\"M 0 0 M1414.05 1521.76 L1414.05 1527.24 Q1411.57 1525.87 1409.05 1525.2 Q1406.57 1524.5 1404.03 1524.5 Q1398.33 1524.5 1395.18 1528.13 Q1392.03 1531.73 1392.03 1538.25 Q1392.03 1544.78 1395.18 1548.4 Q1398.33 1552 1404.03 1552 Q1406.57 1552 1409.05 1551.33 Q1411.57 1550.63 1414.05 1549.26 L1414.05 1554.68 Q1411.6 1555.82 1408.96 1556.39 Q1406.35 1556.97 1403.39 1556.97 Q1395.34 1556.97 1390.59 1551.91 Q1385.85 1546.85 1385.85 1538.25 Q1385.85 1529.53 1390.63 1524.53 Q1395.43 1519.54 1403.77 1519.54 Q1406.48 1519.54 1409.05 1520.11 Q1411.63 1520.65 1414.05 1521.76 Z\" fill=\"#000000\" fill-rule=\"evenodd\" fill-opacity=\"1\" /><path clip-path=\"url(#clip560)\" d=\"M 0 0 M1433.88 1506.52 L1433.88 1564.64 L1420.39 1564.64 L1420.39 1560.09 L1427.99 1560.09 L1427.99 1511.07 L1420.39 1511.07 L1420.39 1506.52 L1433.88 1506.52 Z\" fill=\"#000000\" fill-rule=\"evenodd\" fill-opacity=\"1\" /><polyline clip-path=\"url(#clip562)\" style=\"stroke:#000000; stroke-width:2; stroke-opacity:0.1; fill:none\" points=\"\n",
       "  212.413,1400.77 2352.76,1400.77 \n",
       "  \"/>\n",
       "<polyline clip-path=\"url(#clip562)\" style=\"stroke:#000000; stroke-width:2; stroke-opacity:0.1; fill:none\" points=\"\n",
       "  212.413,1148.17 2352.76,1148.17 \n",
       "  \"/>\n",
       "<polyline clip-path=\"url(#clip562)\" style=\"stroke:#000000; stroke-width:2; stroke-opacity:0.1; fill:none\" points=\"\n",
       "  212.413,895.559 2352.76,895.559 \n",
       "  \"/>\n",
       "<polyline clip-path=\"url(#clip562)\" style=\"stroke:#000000; stroke-width:2; stroke-opacity:0.1; fill:none\" points=\"\n",
       "  212.413,642.952 2352.76,642.952 \n",
       "  \"/>\n",
       "<polyline clip-path=\"url(#clip562)\" style=\"stroke:#000000; stroke-width:2; stroke-opacity:0.1; fill:none\" points=\"\n",
       "  212.413,390.345 2352.76,390.345 \n",
       "  \"/>\n",
       "<polyline clip-path=\"url(#clip562)\" style=\"stroke:#000000; stroke-width:2; stroke-opacity:0.1; fill:none\" points=\"\n",
       "  212.413,137.738 2352.76,137.738 \n",
       "  \"/>\n",
       "<polyline clip-path=\"url(#clip560)\" style=\"stroke:#000000; stroke-width:4; stroke-opacity:1; fill:none\" points=\"\n",
       "  212.413,1423.18 212.413,47.2441 \n",
       "  \"/>\n",
       "<polyline clip-path=\"url(#clip560)\" style=\"stroke:#000000; stroke-width:4; stroke-opacity:1; fill:none\" points=\"\n",
       "  212.413,1400.77 238.097,1400.77 \n",
       "  \"/>\n",
       "<polyline clip-path=\"url(#clip560)\" style=\"stroke:#000000; stroke-width:4; stroke-opacity:1; fill:none\" points=\"\n",
       "  212.413,1148.17 238.097,1148.17 \n",
       "  \"/>\n",
       "<polyline clip-path=\"url(#clip560)\" style=\"stroke:#000000; stroke-width:4; stroke-opacity:1; fill:none\" points=\"\n",
       "  212.413,895.559 238.097,895.559 \n",
       "  \"/>\n",
       "<polyline clip-path=\"url(#clip560)\" style=\"stroke:#000000; stroke-width:4; stroke-opacity:1; fill:none\" points=\"\n",
       "  212.413,642.952 238.097,642.952 \n",
       "  \"/>\n",
       "<polyline clip-path=\"url(#clip560)\" style=\"stroke:#000000; stroke-width:4; stroke-opacity:1; fill:none\" points=\"\n",
       "  212.413,390.345 238.097,390.345 \n",
       "  \"/>\n",
       "<polyline clip-path=\"url(#clip560)\" style=\"stroke:#000000; stroke-width:4; stroke-opacity:1; fill:none\" points=\"\n",
       "  212.413,137.738 238.097,137.738 \n",
       "  \"/>\n",
       "<path clip-path=\"url(#clip560)\" d=\"M 0 0 M124.121 1414.12 L140.441 1414.12 L140.441 1418.05 L118.496 1418.05 L118.496 1414.12 Q121.158 1411.36 125.742 1406.73 Q130.348 1402.08 131.529 1400.74 Q133.774 1398.22 134.654 1396.48 Q135.556 1394.72 135.556 1393.03 Q135.556 1390.28 133.612 1388.54 Q131.691 1386.8 128.589 1386.8 Q126.39 1386.8 123.936 1387.57 Q121.505 1388.33 118.728 1389.88 L118.728 1385.16 Q121.552 1384.03 124.005 1383.45 Q126.459 1382.87 128.496 1382.87 Q133.867 1382.87 137.061 1385.55 Q140.255 1388.24 140.255 1392.73 Q140.255 1394.86 139.445 1396.78 Q138.658 1398.68 136.552 1401.27 Q135.973 1401.94 132.871 1405.16 Q129.769 1408.35 124.121 1414.12 Z\" fill=\"#000000\" fill-rule=\"evenodd\" fill-opacity=\"1\" /><path clip-path=\"url(#clip560)\" d=\"M 0 0 M145.51 1412.17 L150.394 1412.17 L150.394 1418.05 L145.51 1418.05 L145.51 1412.17 Z\" fill=\"#000000\" fill-rule=\"evenodd\" fill-opacity=\"1\" /><path clip-path=\"url(#clip560)\" d=\"M 0 0 M155.51 1383.49 L173.866 1383.49 L173.866 1387.43 L159.792 1387.43 L159.792 1395.9 Q160.811 1395.55 161.829 1395.39 Q162.848 1395.21 163.866 1395.21 Q169.653 1395.21 173.033 1398.38 Q176.413 1401.55 176.413 1406.97 Q176.413 1412.54 172.94 1415.65 Q169.468 1418.72 163.149 1418.72 Q160.973 1418.72 158.704 1418.35 Q156.459 1417.98 154.052 1417.24 L154.052 1412.54 Q156.135 1413.68 158.357 1414.23 Q160.579 1414.79 163.056 1414.79 Q167.061 1414.79 169.399 1412.68 Q171.737 1410.58 171.737 1406.97 Q171.737 1403.35 169.399 1401.25 Q167.061 1399.14 163.056 1399.14 Q161.181 1399.14 159.306 1399.56 Q157.454 1399.97 155.51 1400.85 L155.51 1383.49 Z\" fill=\"#000000\" fill-rule=\"evenodd\" fill-opacity=\"1\" /><path clip-path=\"url(#clip560)\" d=\"M 0 0 M132.316 1146.81 Q135.672 1147.53 137.547 1149.8 Q139.445 1152.07 139.445 1155.4 Q139.445 1160.52 135.927 1163.32 Q132.408 1166.12 125.927 1166.12 Q123.751 1166.12 121.436 1165.68 Q119.144 1165.26 116.691 1164.4 L116.691 1159.89 Q118.635 1161.02 120.95 1161.6 Q123.265 1162.18 125.788 1162.18 Q130.186 1162.18 132.478 1160.45 Q134.792 1158.71 134.792 1155.4 Q134.792 1152.34 132.64 1150.63 Q130.51 1148.9 126.691 1148.9 L122.663 1148.9 L122.663 1145.05 L126.876 1145.05 Q130.325 1145.05 132.154 1143.69 Q133.982 1142.3 133.982 1139.71 Q133.982 1137.04 132.084 1135.63 Q130.209 1134.2 126.691 1134.2 Q124.769 1134.2 122.57 1134.61 Q120.371 1135.03 117.732 1135.91 L117.732 1131.74 Q120.394 1131 122.709 1130.63 Q125.047 1130.26 127.107 1130.26 Q132.431 1130.26 135.533 1132.69 Q138.635 1135.1 138.635 1139.22 Q138.635 1142.09 136.992 1144.08 Q135.348 1146.05 132.316 1146.81 Z\" fill=\"#000000\" fill-rule=\"evenodd\" fill-opacity=\"1\" /><path clip-path=\"url(#clip560)\" d=\"M 0 0 M144.515 1159.57 L149.399 1159.57 L149.399 1165.45 L144.515 1165.45 L144.515 1159.57 Z\" fill=\"#000000\" fill-rule=\"evenodd\" fill-opacity=\"1\" /><path clip-path=\"url(#clip560)\" d=\"M 0 0 M164.468 1133.96 Q160.857 1133.96 159.028 1137.53 Q157.223 1141.07 157.223 1148.2 Q157.223 1155.31 159.028 1158.87 Q160.857 1162.41 164.468 1162.41 Q168.102 1162.41 169.908 1158.87 Q171.737 1155.31 171.737 1148.2 Q171.737 1141.07 169.908 1137.53 Q168.102 1133.96 164.468 1133.96 M164.468 1130.26 Q170.278 1130.26 173.334 1134.87 Q176.413 1139.45 176.413 1148.2 Q176.413 1156.93 173.334 1161.53 Q170.278 1166.12 164.468 1166.12 Q158.658 1166.12 155.579 1161.53 Q152.524 1156.93 152.524 1148.2 Q152.524 1139.45 155.579 1134.87 Q158.658 1130.26 164.468 1130.26 Z\" fill=\"#000000\" fill-rule=\"evenodd\" fill-opacity=\"1\" /><path clip-path=\"url(#clip560)\" d=\"M 0 0 M133.311 894.205 Q136.667 894.923 138.542 897.191 Q140.441 899.46 140.441 902.793 Q140.441 907.909 136.922 910.71 Q133.404 913.51 126.922 913.51 Q124.746 913.51 122.431 913.071 Q120.14 912.654 117.686 911.797 L117.686 907.284 Q119.63 908.418 121.945 908.997 Q124.26 909.575 126.783 909.575 Q131.181 909.575 133.473 907.839 Q135.788 906.103 135.788 902.793 Q135.788 899.737 133.635 898.024 Q131.505 896.288 127.686 896.288 L123.658 896.288 L123.658 892.446 L127.871 892.446 Q131.32 892.446 133.149 891.08 Q134.978 889.691 134.978 887.099 Q134.978 884.437 133.08 883.024 Q131.205 881.589 127.686 881.589 Q125.765 881.589 123.566 882.006 Q121.367 882.423 118.728 883.302 L118.728 879.136 Q121.39 878.395 123.705 878.025 Q126.043 877.654 128.103 877.654 Q133.427 877.654 136.529 880.085 Q139.63 882.492 139.63 886.612 Q139.63 889.483 137.987 891.474 Q136.343 893.441 133.311 894.205 Z\" fill=\"#000000\" fill-rule=\"evenodd\" fill-opacity=\"1\" /><path clip-path=\"url(#clip560)\" d=\"M 0 0 M145.51 906.96 L150.394 906.96 L150.394 912.839 L145.51 912.839 L145.51 906.96 Z\" fill=\"#000000\" fill-rule=\"evenodd\" fill-opacity=\"1\" /><path clip-path=\"url(#clip560)\" d=\"M 0 0 M155.51 878.279 L173.866 878.279 L173.866 882.214 L159.792 882.214 L159.792 890.686 Q160.811 890.339 161.829 890.177 Q162.848 889.992 163.866 889.992 Q169.653 889.992 173.033 893.163 Q176.413 896.335 176.413 901.751 Q176.413 907.33 172.94 910.432 Q169.468 913.51 163.149 913.51 Q160.973 913.51 158.704 913.14 Q156.459 912.77 154.052 912.029 L154.052 907.33 Q156.135 908.464 158.357 909.02 Q160.579 909.575 163.056 909.575 Q167.061 909.575 169.399 907.469 Q171.737 905.362 171.737 901.751 Q171.737 898.14 169.399 896.034 Q167.061 893.927 163.056 893.927 Q161.181 893.927 159.306 894.344 Q157.454 894.761 155.51 895.64 L155.51 878.279 Z\" fill=\"#000000\" fill-rule=\"evenodd\" fill-opacity=\"1\" /><path clip-path=\"url(#clip560)\" d=\"M 0 0 M129.862 629.746 L118.056 648.195 L129.862 648.195 L129.862 629.746 M128.635 625.672 L134.515 625.672 L134.515 648.195 L139.445 648.195 L139.445 652.084 L134.515 652.084 L134.515 660.232 L129.862 660.232 L129.862 652.084 L114.26 652.084 L114.26 647.57 L128.635 625.672 Z\" fill=\"#000000\" fill-rule=\"evenodd\" fill-opacity=\"1\" /><path clip-path=\"url(#clip560)\" d=\"M 0 0 M144.515 654.353 L149.399 654.353 L149.399 660.232 L144.515 660.232 L144.515 654.353 Z\" fill=\"#000000\" fill-rule=\"evenodd\" fill-opacity=\"1\" /><path clip-path=\"url(#clip560)\" d=\"M 0 0 M164.468 628.751 Q160.857 628.751 159.028 632.316 Q157.223 635.857 157.223 642.987 Q157.223 650.093 159.028 653.658 Q160.857 657.2 164.468 657.2 Q168.102 657.2 169.908 653.658 Q171.737 650.093 171.737 642.987 Q171.737 635.857 169.908 632.316 Q168.102 628.751 164.468 628.751 M164.468 625.047 Q170.278 625.047 173.334 629.654 Q176.413 634.237 176.413 642.987 Q176.413 651.714 173.334 656.32 Q170.278 660.903 164.468 660.903 Q158.658 660.903 155.579 656.32 Q152.524 651.714 152.524 642.987 Q152.524 634.237 155.579 629.654 Q158.658 625.047 164.468 625.047 Z\" fill=\"#000000\" fill-rule=\"evenodd\" fill-opacity=\"1\" /><path clip-path=\"url(#clip560)\" d=\"M 0 0 M130.857 377.139 L119.052 395.588 L130.857 395.588 L130.857 377.139 M129.63 373.065 L135.51 373.065 L135.51 395.588 L140.441 395.588 L140.441 399.477 L135.51 399.477 L135.51 407.625 L130.857 407.625 L130.857 399.477 L115.256 399.477 L115.256 394.963 L129.63 373.065 Z\" fill=\"#000000\" fill-rule=\"evenodd\" fill-opacity=\"1\" /><path clip-path=\"url(#clip560)\" d=\"M 0 0 M145.51 401.746 L150.394 401.746 L150.394 407.625 L145.51 407.625 L145.51 401.746 Z\" fill=\"#000000\" fill-rule=\"evenodd\" fill-opacity=\"1\" /><path clip-path=\"url(#clip560)\" d=\"M 0 0 M155.51 373.065 L173.866 373.065 L173.866 377 L159.792 377 L159.792 385.472 Q160.811 385.125 161.829 384.963 Q162.848 384.778 163.866 384.778 Q169.653 384.778 173.033 387.949 Q176.413 391.121 176.413 396.537 Q176.413 402.116 172.94 405.218 Q169.468 408.296 163.149 408.296 Q160.973 408.296 158.704 407.926 Q156.459 407.556 154.052 406.815 L154.052 402.116 Q156.135 403.25 158.357 403.806 Q160.579 404.361 163.056 404.361 Q167.061 404.361 169.399 402.255 Q171.737 400.148 171.737 396.537 Q171.737 392.926 169.399 390.82 Q167.061 388.713 163.056 388.713 Q161.181 388.713 159.306 389.13 Q157.454 389.547 155.51 390.426 L155.51 373.065 Z\" fill=\"#000000\" fill-rule=\"evenodd\" fill-opacity=\"1\" /><path clip-path=\"url(#clip560)\" d=\"M 0 0 M118.543 120.458 L136.899 120.458 L136.899 124.393 L122.825 124.393 L122.825 132.865 Q123.843 132.518 124.862 132.356 Q125.88 132.171 126.899 132.171 Q132.686 132.171 136.066 135.342 Q139.445 138.514 139.445 143.93 Q139.445 149.509 135.973 152.611 Q132.501 155.689 126.181 155.689 Q124.005 155.689 121.737 155.319 Q119.492 154.949 117.084 154.208 L117.084 149.509 Q119.168 150.643 121.39 151.199 Q123.612 151.754 126.089 151.754 Q130.093 151.754 132.431 149.648 Q134.769 147.541 134.769 143.93 Q134.769 140.319 132.431 138.213 Q130.093 136.106 126.089 136.106 Q124.214 136.106 122.339 136.523 Q120.487 136.94 118.543 137.819 L118.543 120.458 Z\" fill=\"#000000\" fill-rule=\"evenodd\" fill-opacity=\"1\" /><path clip-path=\"url(#clip560)\" d=\"M 0 0 M144.515 149.139 L149.399 149.139 L149.399 155.018 L144.515 155.018 L144.515 149.139 Z\" fill=\"#000000\" fill-rule=\"evenodd\" fill-opacity=\"1\" /><path clip-path=\"url(#clip560)\" d=\"M 0 0 M164.468 123.537 Q160.857 123.537 159.028 127.102 Q157.223 130.643 157.223 137.773 Q157.223 144.879 159.028 148.444 Q160.857 151.986 164.468 151.986 Q168.102 151.986 169.908 148.444 Q171.737 144.879 171.737 137.773 Q171.737 130.643 169.908 127.102 Q168.102 123.537 164.468 123.537 M164.468 119.833 Q170.278 119.833 173.334 124.44 Q176.413 129.023 176.413 137.773 Q176.413 146.5 173.334 151.106 Q170.278 155.689 164.468 155.689 Q158.658 155.689 155.579 151.106 Q152.524 146.5 152.524 137.773 Q152.524 129.023 155.579 124.44 Q158.658 119.833 164.468 119.833 Z\" fill=\"#000000\" fill-rule=\"evenodd\" fill-opacity=\"1\" /><path clip-path=\"url(#clip560)\" d=\"M 0 0 M65.7242 922.252 Q66.4244 920.183 68.7161 918.242 Q71.0077 916.269 75.0181 914.295 L88.0042 907.77 L88.0042 914.677 L75.8138 920.756 Q71.0395 923.112 69.48 925.34 Q67.9204 927.536 67.9204 931.355 L67.9204 938.358 L88.0042 938.358 L88.0042 944.787 L40.4842 944.787 L40.4842 930.273 Q40.4842 922.125 43.8898 918.115 Q47.2955 914.104 54.1704 914.104 Q58.6582 914.104 61.6183 916.205 Q64.5784 918.274 65.7242 922.252 M45.7677 938.358 L62.6368 938.358 L62.6368 930.273 Q62.6368 925.626 60.5043 923.271 Q58.34 920.884 54.1704 920.884 Q50.0009 920.884 47.9002 923.271 Q45.7677 925.626 45.7677 930.273 L45.7677 938.358 Z\" fill=\"#000000\" fill-rule=\"evenodd\" fill-opacity=\"1\" /><path clip-path=\"url(#clip560)\" d=\"M 0 0 M70.0847 886.859 Q70.0847 893.957 71.7079 896.694 Q73.3312 899.431 77.2461 899.431 Q80.3653 899.431 82.2114 897.394 Q84.0256 895.325 84.0256 891.792 Q84.0256 886.923 80.5881 883.994 Q77.1188 881.034 71.3897 881.034 L70.0847 881.034 L70.0847 886.859 M67.6657 875.178 L88.0042 875.178 L88.0042 881.034 L82.5933 881.034 Q85.8398 883.04 87.3994 886.031 Q88.9272 889.023 88.9272 893.352 Q88.9272 898.827 85.8716 902.073 Q82.7843 905.288 77.6281 905.288 Q71.6125 905.288 68.5569 901.277 Q65.5014 897.235 65.5014 889.246 L65.5014 881.034 L64.9285 881.034 Q60.8862 881.034 58.6901 883.708 Q56.4621 886.35 56.4621 891.156 Q56.4621 894.211 57.1941 897.108 Q57.9262 900.004 59.3903 902.678 L53.9795 902.678 Q52.7381 899.463 52.1334 896.439 Q51.4968 893.416 51.4968 890.551 Q51.4968 882.817 55.5072 878.997 Q59.5176 875.178 67.6657 875.178 Z\" fill=\"#000000\" fill-rule=\"evenodd\" fill-opacity=\"1\" /><path clip-path=\"url(#clip560)\" d=\"M 0 0 M66.4881 839.403 L88.0042 839.403 L88.0042 845.259 L66.679 845.259 Q61.6183 845.259 59.1038 847.232 Q56.5894 849.206 56.5894 853.153 Q56.5894 857.895 59.6131 860.632 Q62.6368 863.37 67.8567 863.37 L88.0042 863.37 L88.0042 869.258 L52.3562 869.258 L52.3562 863.37 L57.8944 863.37 Q54.6797 861.269 53.0883 858.436 Q51.4968 855.572 51.4968 851.848 Q51.4968 845.705 55.3163 842.554 Q59.1038 839.403 66.4881 839.403 Z\" fill=\"#000000\" fill-rule=\"evenodd\" fill-opacity=\"1\" /><path clip-path=\"url(#clip560)\" d=\"M 0 0 M69.7664 809.802 Q63.4007 809.802 59.8996 812.444 Q56.3984 815.054 56.3984 819.796 Q56.3984 824.507 59.8996 827.149 Q63.4007 829.759 69.7664 829.759 Q76.1003 829.759 79.6014 827.149 Q83.1026 824.507 83.1026 819.796 Q83.1026 815.054 79.6014 812.444 Q76.1003 809.802 69.7664 809.802 M83.58 803.946 Q92.683 803.946 97.1071 807.988 Q101.563 812.03 101.563 820.369 Q101.563 823.457 101.086 826.194 Q100.64 828.931 99.6852 831.509 L93.9879 831.509 Q95.3884 828.931 96.0568 826.417 Q96.7252 823.902 96.7252 821.292 Q96.7252 815.531 93.7015 812.667 Q90.7096 809.802 84.6303 809.802 L81.7339 809.802 Q84.885 811.616 86.4446 814.449 Q88.0042 817.282 88.0042 821.229 Q88.0042 827.785 83.0071 831.796 Q78.01 835.806 69.7664 835.806 Q61.491 835.806 56.4939 831.796 Q51.4968 827.785 51.4968 821.229 Q51.4968 817.282 53.0564 814.449 Q54.616 811.616 57.7671 809.802 L52.3562 809.802 L52.3562 803.946 L83.58 803.946 Z\" fill=\"#000000\" fill-rule=\"evenodd\" fill-opacity=\"1\" /><path clip-path=\"url(#clip560)\" d=\"M 0 0 M68.7161 767.311 L71.5806 767.311 L71.5806 794.238 Q77.6281 793.856 80.8109 790.61 Q83.9619 787.331 83.9619 781.507 Q83.9619 778.133 83.1344 774.982 Q82.3069 771.799 80.6518 768.68 L86.1899 768.68 Q87.5267 771.831 88.227 775.141 Q88.9272 778.451 88.9272 781.857 Q88.9272 790.387 83.9619 795.384 Q78.9967 800.349 70.5303 800.349 Q61.7774 800.349 56.6531 795.638 Q51.4968 790.896 51.4968 782.875 Q51.4968 775.682 56.1438 771.512 Q60.7589 767.311 68.7161 767.311 M66.9973 773.167 Q62.1912 773.231 59.3266 775.873 Q56.4621 778.483 56.4621 782.812 Q56.4621 787.713 59.2312 790.673 Q62.0002 793.601 67.0292 794.047 L66.9973 773.167 Z\" fill=\"#000000\" fill-rule=\"evenodd\" fill-opacity=\"1\" /><path clip-path=\"url(#clip560)\" d=\"M 0 0 M38.479 740.989 L38.479 727.494 L43.0304 727.494 L43.0304 735.132 L92.0464 735.132 L92.0464 727.494 L96.5979 727.494 L96.5979 740.989 L38.479 740.989 Z\" fill=\"#000000\" fill-rule=\"evenodd\" fill-opacity=\"1\" /><path clip-path=\"url(#clip560)\" d=\"M 0 0 M59.1993 693.596 Q55.2526 691.4 53.3747 688.344 Q51.4968 685.289 51.4968 681.151 Q51.4968 675.581 55.4117 672.558 Q59.2948 669.534 66.4881 669.534 L88.0042 669.534 L88.0042 675.422 L66.679 675.422 Q61.5546 675.422 59.072 677.236 Q56.5894 679.051 56.5894 682.774 Q56.5894 687.326 59.6131 689.968 Q62.6368 692.609 67.8567 692.609 L88.0042 692.609 L88.0042 698.498 L66.679 698.498 Q61.5228 698.498 59.072 700.312 Q56.5894 702.126 56.5894 705.914 Q56.5894 710.402 59.6449 713.043 Q62.6686 715.685 67.8567 715.685 L88.0042 715.685 L88.0042 721.573 L52.3562 721.573 L52.3562 715.685 L57.8944 715.685 Q54.616 713.68 53.0564 710.879 Q51.4968 708.078 51.4968 704.227 Q51.4968 700.344 53.4702 697.638 Q55.4436 694.901 59.1993 693.596 Z\" fill=\"#000000\" fill-rule=\"evenodd\" fill-opacity=\"1\" /><path clip-path=\"url(#clip560)\" d=\"M 0 0 M68.7161 632.899 L71.5806 632.899 L71.5806 659.826 Q77.6281 659.444 80.8109 656.198 Q83.9619 652.919 83.9619 647.095 Q83.9619 643.721 83.1344 640.57 Q82.3069 637.387 80.6518 634.268 L86.1899 634.268 Q87.5267 637.419 88.227 640.729 Q88.9272 644.039 88.9272 647.445 Q88.9272 655.975 83.9619 660.972 Q78.9967 665.937 70.5303 665.937 Q61.7774 665.937 56.6531 661.227 Q51.4968 656.484 51.4968 648.463 Q51.4968 641.27 56.1438 637.101 Q60.7589 632.899 68.7161 632.899 M66.9973 638.756 Q62.1912 638.819 59.3266 641.461 Q56.4621 644.071 56.4621 648.4 Q56.4621 653.301 59.2312 656.261 Q62.0002 659.19 67.0292 659.635 L66.9973 638.756 Z\" fill=\"#000000\" fill-rule=\"evenodd\" fill-opacity=\"1\" /><path clip-path=\"url(#clip560)\" d=\"M 0 0 M42.2347 620.963 L52.3562 620.963 L52.3562 608.9 L56.9077 608.9 L56.9077 620.963 L76.2594 620.963 Q80.6199 620.963 81.8613 619.786 Q83.1026 618.576 83.1026 614.916 L83.1026 608.9 L88.0042 608.9 L88.0042 614.916 Q88.0042 621.696 85.4897 624.274 Q82.9434 626.852 76.2594 626.852 L56.9077 626.852 L56.9077 631.149 L52.3562 631.149 L52.3562 626.852 L42.2347 626.852 L42.2347 620.963 Z\" fill=\"#000000\" fill-rule=\"evenodd\" fill-opacity=\"1\" /><path clip-path=\"url(#clip560)\" d=\"M 0 0 M68.7161 572.266 L71.5806 572.266 L71.5806 599.193 Q77.6281 598.811 80.8109 595.564 Q83.9619 592.286 83.9619 586.461 Q83.9619 583.087 83.1344 579.936 Q82.3069 576.754 80.6518 573.634 L86.1899 573.634 Q87.5267 576.785 88.227 580.096 Q88.9272 583.406 88.9272 586.811 Q88.9272 595.341 83.9619 600.339 Q78.9967 605.304 70.5303 605.304 Q61.7774 605.304 56.6531 600.593 Q51.4968 595.851 51.4968 587.83 Q51.4968 580.637 56.1438 576.467 Q60.7589 572.266 68.7161 572.266 M66.9973 578.122 Q62.1912 578.186 59.3266 580.828 Q56.4621 583.438 56.4621 587.766 Q56.4621 592.668 59.2312 595.628 Q62.0002 598.556 67.0292 599.002 L66.9973 578.122 Z\" fill=\"#000000\" fill-rule=\"evenodd\" fill-opacity=\"1\" /><path clip-path=\"url(#clip560)\" d=\"M 0 0 M57.8307 545.466 Q57.2578 546.453 57.0032 547.631 Q56.7167 548.776 56.7167 550.177 Q56.7167 555.142 59.9632 557.816 Q63.1779 560.457 69.2253 560.457 L88.0042 560.457 L88.0042 566.346 L52.3562 566.346 L52.3562 560.457 L57.8944 560.457 Q54.6479 558.611 53.0883 555.651 Q51.4968 552.691 51.4968 548.458 Q51.4968 547.853 51.5923 547.121 Q51.656 546.389 51.8151 545.498 L57.8307 545.466 Z\" fill=\"#000000\" fill-rule=\"evenodd\" fill-opacity=\"1\" /><path clip-path=\"url(#clip560)\" d=\"M 0 0 M38.479 525.637 L96.5979 525.637 L96.5979 539.132 L92.0464 539.132 L92.0464 531.525 L43.0304 531.525 L43.0304 539.132 L38.479 539.132 L38.479 525.637 Z\" fill=\"#000000\" fill-rule=\"evenodd\" fill-opacity=\"1\" /><polyline clip-path=\"url(#clip562)\" style=\"stroke:#009af9; stroke-width:4; stroke-opacity:1; fill:none\" points=\"\n",
       "  292.707,103.211 475.039,251.756 584.612,333.936 677.255,399.67 777.891,467.474 870.669,526.891 970.136,587.526 1085.38,654.092 1187.79,710.166 1277.6,757.114 \n",
       "  1375.52,806.083 1474.01,853.153 1582.91,902.801 1686.53,947.855 1794.27,992.588 1884.96,1028.67 1995.68,1070.9 2099.77,1108.88 2266.52,1166.47 2292.18,1175 \n",
       "  \n",
       "  \"/>\n",
       "<polyline clip-path=\"url(#clip562)\" style=\"stroke:#e26f46; stroke-width:4; stroke-opacity:1; fill:none\" points=\"\n",
       "  272.988,86.1857 292.707,103.211 475.039,251.786 584.612,334.105 677.255,400.138 777.891,468.585 870.669,529.026 970.136,591.389 1085.38,661.035 1187.79,721.083 \n",
       "  1277.6,772.69 1375.52,828.22 1474.01,883.701 1582.91,945.093 1686.53,1004.04 1794.27,1066.42 1884.96,1120.16 1995.68,1187.81 2099.77,1253.92 2266.52,1366.17 \n",
       "  2292.18,1384.24 \n",
       "  \"/>\n",
       "<path clip-path=\"url(#clip560)\" d=\"\n",
       "M976.008 274.549 L2281.41 274.549 L2281.41 93.1086 L976.008 93.1086  Z\n",
       "  \" fill=\"#ffffff\" fill-rule=\"evenodd\" fill-opacity=\"1\"/>\n",
       "<polyline clip-path=\"url(#clip560)\" style=\"stroke:#000000; stroke-width:4; stroke-opacity:1; fill:none\" points=\"\n",
       "  976.008,274.549 2281.41,274.549 2281.41,93.1086 976.008,93.1086 976.008,274.549 \n",
       "  \"/>\n",
       "<polyline clip-path=\"url(#clip560)\" style=\"stroke:#009af9; stroke-width:4; stroke-opacity:1; fill:none\" points=\"\n",
       "  999.79,153.589 1142.48,153.589 \n",
       "  \"/>\n",
       "<path clip-path=\"url(#clip560)\" d=\"M 0 0 M1190.29 156.841 L1190.29 158.924 L1170.71 158.924 Q1170.98 163.322 1173.34 165.637 Q1175.73 167.929 1179.96 167.929 Q1182.42 167.929 1184.71 167.327 Q1187.02 166.725 1189.29 165.521 L1189.29 169.549 Q1187 170.521 1184.59 171.031 Q1182.19 171.54 1179.71 171.54 Q1173.51 171.54 1169.87 167.929 Q1166.26 164.318 1166.26 158.16 Q1166.26 151.795 1169.69 148.068 Q1173.14 144.318 1178.97 144.318 Q1184.2 144.318 1187.23 147.697 Q1190.29 151.054 1190.29 156.841 M1186.03 155.591 Q1185.98 152.096 1184.06 150.012 Q1182.16 147.929 1179.02 147.929 Q1175.45 147.929 1173.3 149.943 Q1171.17 151.957 1170.84 155.614 L1186.03 155.591 Z\" fill=\"#000000\" fill-rule=\"evenodd\" fill-opacity=\"1\" /><path clip-path=\"url(#clip560)\" d=\"M 0 0 M1215.47 144.943 L1206.1 157.559 L1215.96 170.869 L1210.94 170.869 L1203.39 160.683 L1195.84 170.869 L1190.82 170.869 L1200.89 157.304 L1191.68 144.943 L1196.7 144.943 L1203.58 154.179 L1210.45 144.943 L1215.47 144.943 Z\" fill=\"#000000\" fill-rule=\"evenodd\" fill-opacity=\"1\" /><path clip-path=\"url(#clip560)\" d=\"M 0 0 M1232.21 157.836 Q1227.05 157.836 1225.06 159.017 Q1223.07 160.197 1223.07 163.045 Q1223.07 165.313 1224.55 166.656 Q1226.05 167.975 1228.62 167.975 Q1232.16 167.975 1234.29 165.475 Q1236.45 162.952 1236.45 158.785 L1236.45 157.836 L1232.21 157.836 M1240.71 156.077 L1240.71 170.869 L1236.45 170.869 L1236.45 166.933 Q1234.99 169.295 1232.81 170.429 Q1230.64 171.54 1227.49 171.54 Q1223.51 171.54 1221.15 169.318 Q1218.81 167.072 1218.81 163.322 Q1218.81 158.947 1221.72 156.725 Q1224.66 154.503 1230.47 154.503 L1236.45 154.503 L1236.45 154.086 Q1236.45 151.147 1234.5 149.549 Q1232.58 147.929 1229.08 147.929 Q1226.86 147.929 1224.76 148.461 Q1222.65 148.994 1220.71 150.059 L1220.71 146.123 Q1223.04 145.221 1225.24 144.781 Q1227.44 144.318 1229.52 144.318 Q1235.15 144.318 1237.93 147.234 Q1240.71 150.151 1240.71 156.077 Z\" fill=\"#000000\" fill-rule=\"evenodd\" fill-opacity=\"1\" /><path clip-path=\"url(#clip560)\" d=\"M 0 0 M1263.83 145.938 L1263.83 149.92 Q1262.02 148.924 1260.2 148.438 Q1258.39 147.929 1256.54 147.929 Q1252.39 147.929 1250.1 150.568 Q1247.81 153.184 1247.81 157.929 Q1247.81 162.674 1250.1 165.313 Q1252.39 167.929 1256.54 167.929 Q1258.39 167.929 1260.2 167.443 Q1262.02 166.933 1263.83 165.938 L1263.83 169.873 Q1262.05 170.707 1260.13 171.123 Q1258.23 171.54 1256.08 171.54 Q1250.22 171.54 1246.77 167.859 Q1243.32 164.179 1243.32 157.929 Q1243.32 151.586 1246.79 147.952 Q1250.29 144.318 1256.35 144.318 Q1258.32 144.318 1260.2 144.735 Q1262.07 145.128 1263.83 145.938 Z\" fill=\"#000000\" fill-rule=\"evenodd\" fill-opacity=\"1\" /><path clip-path=\"url(#clip560)\" d=\"M 0 0 M1272.51 137.582 L1272.51 144.943 L1281.28 144.943 L1281.28 148.253 L1272.51 148.253 L1272.51 162.327 Q1272.51 165.498 1273.37 166.401 Q1274.25 167.304 1276.91 167.304 L1281.28 167.304 L1281.28 170.869 L1276.91 170.869 Q1271.98 170.869 1270.1 169.04 Q1268.23 167.188 1268.23 162.327 L1268.23 148.253 L1265.1 148.253 L1265.1 144.943 L1268.23 144.943 L1268.23 137.582 L1272.51 137.582 Z\" fill=\"#000000\" fill-rule=\"evenodd\" fill-opacity=\"1\" /><path clip-path=\"url(#clip560)\" d=\"M 0 0 M1317.35 145.707 L1317.35 149.734 Q1315.54 148.809 1313.6 148.346 Q1311.65 147.883 1309.57 147.883 Q1306.4 147.883 1304.8 148.855 Q1303.23 149.827 1303.23 151.771 Q1303.23 153.253 1304.36 154.109 Q1305.5 154.943 1308.92 155.707 L1310.38 156.031 Q1314.92 157.003 1316.82 158.785 Q1318.74 160.545 1318.74 163.716 Q1318.74 167.327 1315.87 169.433 Q1313.02 171.54 1308.02 171.54 Q1305.94 171.54 1303.67 171.123 Q1301.42 170.73 1298.92 169.92 L1298.92 165.521 Q1301.28 166.748 1303.58 167.373 Q1305.87 167.975 1308.11 167.975 Q1311.12 167.975 1312.74 166.957 Q1314.36 165.915 1314.36 164.04 Q1314.36 162.304 1313.18 161.378 Q1312.02 160.452 1308.07 159.596 L1306.58 159.248 Q1302.63 158.415 1300.87 156.702 Q1299.11 154.966 1299.11 151.957 Q1299.11 148.299 1301.7 146.309 Q1304.29 144.318 1309.06 144.318 Q1311.42 144.318 1313.51 144.665 Q1315.59 145.012 1317.35 145.707 Z\" fill=\"#000000\" fill-rule=\"evenodd\" fill-opacity=\"1\" /><path clip-path=\"url(#clip560)\" d=\"M 0 0 M1333.25 147.929 Q1329.83 147.929 1327.83 150.614 Q1325.84 153.276 1325.84 157.929 Q1325.84 162.582 1327.81 165.267 Q1329.8 167.929 1333.25 167.929 Q1336.65 167.929 1338.64 165.244 Q1340.64 162.558 1340.64 157.929 Q1340.64 153.322 1338.64 150.637 Q1336.65 147.929 1333.25 147.929 M1333.25 144.318 Q1338.81 144.318 1341.98 147.929 Q1345.15 151.54 1345.15 157.929 Q1345.15 164.295 1341.98 167.929 Q1338.81 171.54 1333.25 171.54 Q1327.67 171.54 1324.5 167.929 Q1321.35 164.295 1321.35 157.929 Q1321.35 151.54 1324.5 147.929 Q1327.67 144.318 1333.25 144.318 Z\" fill=\"#000000\" fill-rule=\"evenodd\" fill-opacity=\"1\" /><path clip-path=\"url(#clip560)\" d=\"M 0 0 M1349.62 134.85 L1353.88 134.85 L1353.88 170.869 L1349.62 170.869 L1349.62 134.85 Z\" fill=\"#000000\" fill-rule=\"evenodd\" fill-opacity=\"1\" /><path clip-path=\"url(#clip560)\" d=\"M 0 0 M1357.9 160.637 L1357.9 144.943 L1362.16 144.943 L1362.16 160.475 Q1362.16 164.156 1363.6 166.008 Q1365.03 167.836 1367.9 167.836 Q1371.35 167.836 1373.34 165.637 Q1375.36 163.438 1375.36 159.642 L1375.36 144.943 L1379.62 144.943 L1379.62 170.869 L1375.36 170.869 L1375.36 166.887 Q1373.81 169.248 1371.75 170.406 Q1369.71 171.54 1367 171.54 Q1362.53 171.54 1360.22 168.762 Q1357.9 165.984 1357.9 160.637 M1368.62 144.318 L1368.62 144.318 Z\" fill=\"#000000\" fill-rule=\"evenodd\" fill-opacity=\"1\" /><path clip-path=\"url(#clip560)\" d=\"M 0 0 M1388.3 137.582 L1388.3 144.943 L1397.07 144.943 L1397.07 148.253 L1388.3 148.253 L1388.3 162.327 Q1388.3 165.498 1389.15 166.401 Q1390.03 167.304 1392.7 167.304 L1397.07 167.304 L1397.07 170.869 L1392.7 170.869 Q1387.76 170.869 1385.89 169.04 Q1384.01 167.188 1384.01 162.327 L1384.01 148.253 L1380.89 148.253 L1380.89 144.943 L1384.01 144.943 L1384.01 137.582 L1388.3 137.582 Z\" fill=\"#000000\" fill-rule=\"evenodd\" fill-opacity=\"1\" /><path clip-path=\"url(#clip560)\" d=\"M 0 0 M1401.54 144.943 L1405.8 144.943 L1405.8 170.869 L1401.54 170.869 L1401.54 144.943 M1401.54 134.85 L1405.8 134.85 L1405.8 140.244 L1401.54 140.244 L1401.54 134.85 Z\" fill=\"#000000\" fill-rule=\"evenodd\" fill-opacity=\"1\" /><path clip-path=\"url(#clip560)\" d=\"M 0 0 M1420.31 147.929 Q1416.88 147.929 1414.89 150.614 Q1412.9 153.276 1412.9 157.929 Q1412.9 162.582 1414.87 165.267 Q1416.86 167.929 1420.31 167.929 Q1423.71 167.929 1425.7 165.244 Q1427.69 162.558 1427.69 157.929 Q1427.69 153.322 1425.7 150.637 Q1423.71 147.929 1420.31 147.929 M1420.31 144.318 Q1425.87 144.318 1429.04 147.929 Q1432.21 151.54 1432.21 157.929 Q1432.21 164.295 1429.04 167.929 Q1425.87 171.54 1420.31 171.54 Q1414.73 171.54 1411.56 167.929 Q1408.41 164.295 1408.41 157.929 Q1408.41 151.54 1411.56 147.929 Q1414.73 144.318 1420.31 144.318 Z\" fill=\"#000000\" fill-rule=\"evenodd\" fill-opacity=\"1\" /><path clip-path=\"url(#clip560)\" d=\"M 0 0 M1458.23 155.221 L1458.23 170.869 L1453.97 170.869 L1453.97 155.359 Q1453.97 151.679 1452.53 149.85 Q1451.1 148.022 1448.23 148.022 Q1444.78 148.022 1442.79 150.221 Q1440.8 152.42 1440.8 156.216 L1440.8 170.869 L1436.51 170.869 L1436.51 144.943 L1440.8 144.943 L1440.8 148.971 Q1442.32 146.633 1444.38 145.475 Q1446.47 144.318 1449.18 144.318 Q1453.64 144.318 1455.94 147.096 Q1458.23 149.85 1458.23 155.221 Z\" fill=\"#000000\" fill-rule=\"evenodd\" fill-opacity=\"1\" /><polyline clip-path=\"url(#clip560)\" style=\"stroke:#e26f46; stroke-width:4; stroke-opacity:1; fill:none\" points=\"\n",
       "  999.79,214.069 1142.48,214.069 \n",
       "  \"/>\n",
       "<path clip-path=\"url(#clip560)\" d=\"M 0 0 M1179.66 218.316 Q1174.5 218.316 1172.51 219.497 Q1170.52 220.677 1170.52 223.525 Q1170.52 225.793 1172 227.136 Q1173.51 228.455 1176.08 228.455 Q1179.62 228.455 1181.75 225.955 Q1183.9 223.432 1183.9 219.265 L1183.9 218.316 L1179.66 218.316 M1188.16 216.557 L1188.16 231.349 L1183.9 231.349 L1183.9 227.413 Q1182.44 229.775 1180.27 230.909 Q1178.09 232.02 1174.94 232.02 Q1170.96 232.02 1168.6 229.798 Q1166.26 227.552 1166.26 223.802 Q1166.26 219.427 1169.18 217.205 Q1172.12 214.983 1177.93 214.983 L1183.9 214.983 L1183.9 214.566 Q1183.9 211.627 1181.96 210.029 Q1180.03 208.409 1176.54 208.409 Q1174.32 208.409 1172.21 208.941 Q1170.1 209.474 1168.16 210.539 L1168.16 206.603 Q1170.5 205.701 1172.7 205.261 Q1174.9 204.798 1176.98 204.798 Q1182.6 204.798 1185.38 207.714 Q1188.16 210.631 1188.16 216.557 Z\" fill=\"#000000\" fill-rule=\"evenodd\" fill-opacity=\"1\" /><path clip-path=\"url(#clip560)\" d=\"M 0 0 M1196.75 227.46 L1196.75 241.21 L1192.46 241.21 L1192.46 205.423 L1196.75 205.423 L1196.75 209.358 Q1198.09 207.043 1200.13 205.932 Q1202.19 204.798 1205.03 204.798 Q1209.76 204.798 1212.7 208.548 Q1215.66 212.298 1215.66 218.409 Q1215.66 224.52 1212.7 228.27 Q1209.76 232.02 1205.03 232.02 Q1202.19 232.02 1200.13 230.909 Q1198.09 229.775 1196.75 227.46 M1211.24 218.409 Q1211.24 213.71 1209.29 211.048 Q1207.37 208.363 1203.99 208.363 Q1200.61 208.363 1198.67 211.048 Q1196.75 213.71 1196.75 218.409 Q1196.75 223.108 1198.67 225.793 Q1200.61 228.455 1203.99 228.455 Q1207.37 228.455 1209.29 225.793 Q1211.24 223.108 1211.24 218.409 Z\" fill=\"#000000\" fill-rule=\"evenodd\" fill-opacity=\"1\" /><path clip-path=\"url(#clip560)\" d=\"M 0 0 M1224.25 227.46 L1224.25 241.21 L1219.96 241.21 L1219.96 205.423 L1224.25 205.423 L1224.25 209.358 Q1225.59 207.043 1227.63 205.932 Q1229.69 204.798 1232.53 204.798 Q1237.26 204.798 1240.2 208.548 Q1243.16 212.298 1243.16 218.409 Q1243.16 224.52 1240.2 228.27 Q1237.26 232.02 1232.53 232.02 Q1229.69 232.02 1227.63 230.909 Q1225.59 229.775 1224.25 227.46 M1238.74 218.409 Q1238.74 213.71 1236.79 211.048 Q1234.87 208.363 1231.49 208.363 Q1228.11 208.363 1226.17 211.048 Q1224.25 213.71 1224.25 218.409 Q1224.25 223.108 1226.17 225.793 Q1228.11 228.455 1231.49 228.455 Q1234.87 228.455 1236.79 225.793 Q1238.74 223.108 1238.74 218.409 Z\" fill=\"#000000\" fill-rule=\"evenodd\" fill-opacity=\"1\" /><path clip-path=\"url(#clip560)\" d=\"M 0 0 M1262.65 209.404 Q1261.93 208.988 1261.08 208.802 Q1260.24 208.594 1259.22 208.594 Q1255.61 208.594 1253.67 210.955 Q1251.75 213.293 1251.75 217.691 L1251.75 231.349 L1247.46 231.349 L1247.46 205.423 L1251.75 205.423 L1251.75 209.451 Q1253.09 207.089 1255.24 205.955 Q1257.39 204.798 1260.47 204.798 Q1260.91 204.798 1261.45 204.867 Q1261.98 204.914 1262.63 205.029 L1262.65 209.404 Z\" fill=\"#000000\" fill-rule=\"evenodd\" fill-opacity=\"1\" /><path clip-path=\"url(#clip560)\" d=\"M 0 0 M1276.12 208.409 Q1272.7 208.409 1270.7 211.094 Q1268.71 213.756 1268.71 218.409 Q1268.71 223.062 1270.68 225.747 Q1272.67 228.409 1276.12 228.409 Q1279.52 228.409 1281.52 225.724 Q1283.51 223.038 1283.51 218.409 Q1283.51 213.802 1281.52 211.117 Q1279.52 208.409 1276.12 208.409 M1276.12 204.798 Q1281.68 204.798 1284.85 208.409 Q1288.02 212.02 1288.02 218.409 Q1288.02 224.775 1284.85 228.409 Q1281.68 232.02 1276.12 232.02 Q1270.54 232.02 1267.37 228.409 Q1264.22 224.775 1264.22 218.409 Q1264.22 212.02 1267.37 208.409 Q1270.54 204.798 1276.12 204.798 Z\" fill=\"#000000\" fill-rule=\"evenodd\" fill-opacity=\"1\" /><path clip-path=\"url(#clip560)\" d=\"M 0 0 M1312.58 205.423 L1303.2 218.039 L1313.07 231.349 L1308.04 231.349 L1300.5 221.163 L1292.95 231.349 L1287.93 231.349 L1298 217.784 L1288.78 205.423 L1293.81 205.423 L1300.68 214.659 L1307.56 205.423 L1312.58 205.423 Z\" fill=\"#000000\" fill-rule=\"evenodd\" fill-opacity=\"1\" /><path clip-path=\"url(#clip560)\" d=\"M 0 0 M1317.53 205.423 L1321.79 205.423 L1321.79 231.349 L1317.53 231.349 L1317.53 205.423 M1317.53 195.33 L1321.79 195.33 L1321.79 200.724 L1317.53 200.724 L1317.53 195.33 Z\" fill=\"#000000\" fill-rule=\"evenodd\" fill-opacity=\"1\" /><path clip-path=\"url(#clip560)\" d=\"M 0 0 M1346.45 210.4 Q1348.04 207.529 1350.26 206.164 Q1352.49 204.798 1355.5 204.798 Q1359.55 204.798 1361.75 207.645 Q1363.95 210.469 1363.95 215.701 L1363.95 231.349 L1359.66 231.349 L1359.66 215.839 Q1359.66 212.113 1358.34 210.307 Q1357.02 208.502 1354.32 208.502 Q1351.01 208.502 1349.08 210.701 Q1347.16 212.9 1347.16 216.696 L1347.16 231.349 L1342.88 231.349 L1342.88 215.839 Q1342.88 212.089 1341.56 210.307 Q1340.24 208.502 1337.49 208.502 Q1334.22 208.502 1332.3 210.724 Q1330.38 212.923 1330.38 216.696 L1330.38 231.349 L1326.1 231.349 L1326.1 205.423 L1330.38 205.423 L1330.38 209.451 Q1331.84 207.066 1333.88 205.932 Q1335.91 204.798 1338.71 204.798 Q1341.54 204.798 1343.51 206.233 Q1345.5 207.668 1346.45 210.4 Z\" fill=\"#000000\" fill-rule=\"evenodd\" fill-opacity=\"1\" /><path clip-path=\"url(#clip560)\" d=\"M 0 0 M1380.2 218.316 Q1375.03 218.316 1373.04 219.497 Q1371.05 220.677 1371.05 223.525 Q1371.05 225.793 1372.53 227.136 Q1374.04 228.455 1376.61 228.455 Q1380.15 228.455 1382.28 225.955 Q1384.43 223.432 1384.43 219.265 L1384.43 218.316 L1380.2 218.316 M1388.69 216.557 L1388.69 231.349 L1384.43 231.349 L1384.43 227.413 Q1382.97 229.775 1380.8 230.909 Q1378.62 232.02 1375.47 232.02 Q1371.49 232.02 1369.13 229.798 Q1366.79 227.552 1366.79 223.802 Q1366.79 219.427 1369.71 217.205 Q1372.65 214.983 1378.46 214.983 L1384.43 214.983 L1384.43 214.566 Q1384.43 211.627 1382.49 210.029 Q1380.57 208.409 1377.07 208.409 Q1374.85 208.409 1372.74 208.941 Q1370.63 209.474 1368.69 210.539 L1368.69 206.603 Q1371.03 205.701 1373.23 205.261 Q1375.43 204.798 1377.51 204.798 Q1383.13 204.798 1385.91 207.714 Q1388.69 210.631 1388.69 216.557 Z\" fill=\"#000000\" fill-rule=\"evenodd\" fill-opacity=\"1\" /><path clip-path=\"url(#clip560)\" d=\"M 0 0 M1397.37 198.062 L1397.37 205.423 L1406.14 205.423 L1406.14 208.733 L1397.37 208.733 L1397.37 222.807 Q1397.37 225.978 1398.23 226.881 Q1399.11 227.784 1401.77 227.784 L1406.14 227.784 L1406.14 231.349 L1401.77 231.349 Q1396.84 231.349 1394.96 229.52 Q1393.09 227.668 1393.09 222.807 L1393.09 208.733 L1389.96 208.733 L1389.96 205.423 L1393.09 205.423 L1393.09 198.062 L1397.37 198.062 Z\" fill=\"#000000\" fill-rule=\"evenodd\" fill-opacity=\"1\" /><path clip-path=\"url(#clip560)\" d=\"M 0 0 M1432.79 217.321 L1432.79 219.404 L1413.2 219.404 Q1413.48 223.802 1415.84 226.117 Q1418.23 228.409 1422.46 228.409 Q1424.92 228.409 1427.21 227.807 Q1429.52 227.205 1431.79 226.001 L1431.79 230.029 Q1429.5 231.001 1427.09 231.511 Q1424.69 232.02 1422.21 232.02 Q1416.01 232.02 1412.37 228.409 Q1408.76 224.798 1408.76 218.64 Q1408.76 212.275 1412.19 208.548 Q1415.63 204.798 1421.47 204.798 Q1426.7 204.798 1429.73 208.177 Q1432.79 211.534 1432.79 217.321 M1428.53 216.071 Q1428.48 212.576 1426.56 210.492 Q1424.66 208.409 1421.51 208.409 Q1417.95 208.409 1415.8 210.423 Q1413.67 212.437 1413.34 216.094 L1428.53 216.071 Z\" fill=\"#000000\" fill-rule=\"evenodd\" fill-opacity=\"1\" /><path clip-path=\"url(#clip560)\" d=\"M 0 0 M1454.32 209.358 L1454.32 195.33 L1458.57 195.33 L1458.57 231.349 L1454.32 231.349 L1454.32 227.46 Q1452.97 229.775 1450.91 230.909 Q1448.88 232.02 1446 232.02 Q1441.31 232.02 1438.34 228.27 Q1435.4 224.52 1435.4 218.409 Q1435.4 212.298 1438.34 208.548 Q1441.31 204.798 1446 204.798 Q1448.88 204.798 1450.91 205.932 Q1452.97 207.043 1454.32 209.358 M1439.8 218.409 Q1439.8 223.108 1441.72 225.793 Q1443.67 228.455 1447.05 228.455 Q1450.43 228.455 1452.37 225.793 Q1454.32 223.108 1454.32 218.409 Q1454.32 213.71 1452.37 211.048 Q1450.43 208.363 1447.05 208.363 Q1443.67 208.363 1441.72 211.048 Q1439.8 213.71 1439.8 218.409 Z\" fill=\"#000000\" fill-rule=\"evenodd\" fill-opacity=\"1\" /><path clip-path=\"url(#clip560)\" d=\"M 0 0 M1494.64 206.187 L1494.64 210.214 Q1492.83 209.289 1490.89 208.826 Q1488.94 208.363 1486.86 208.363 Q1483.69 208.363 1482.09 209.335 Q1480.52 210.307 1480.52 212.251 Q1480.52 213.733 1481.65 214.589 Q1482.79 215.423 1486.21 216.187 L1487.67 216.511 Q1492.21 217.483 1494.11 219.265 Q1496.03 221.025 1496.03 224.196 Q1496.03 227.807 1493.16 229.913 Q1490.31 232.02 1485.31 232.02 Q1483.23 232.02 1480.96 231.603 Q1478.71 231.21 1476.21 230.4 L1476.21 226.001 Q1478.57 227.228 1480.87 227.853 Q1483.16 228.455 1485.4 228.455 Q1488.41 228.455 1490.03 227.437 Q1491.65 226.395 1491.65 224.52 Q1491.65 222.784 1490.47 221.858 Q1489.31 220.932 1485.36 220.076 L1483.88 219.728 Q1479.92 218.895 1478.16 217.182 Q1476.4 215.446 1476.4 212.437 Q1476.4 208.779 1478.99 206.789 Q1481.58 204.798 1486.35 204.798 Q1488.71 204.798 1490.8 205.145 Q1492.88 205.492 1494.64 206.187 Z\" fill=\"#000000\" fill-rule=\"evenodd\" fill-opacity=\"1\" /><path clip-path=\"url(#clip560)\" d=\"M 0 0 M1510.54 208.409 Q1507.12 208.409 1505.12 211.094 Q1503.13 213.756 1503.13 218.409 Q1503.13 223.062 1505.1 225.747 Q1507.09 228.409 1510.54 228.409 Q1513.94 228.409 1515.94 225.724 Q1517.93 223.038 1517.93 218.409 Q1517.93 213.802 1515.94 211.117 Q1513.94 208.409 1510.54 208.409 M1510.54 204.798 Q1516.1 204.798 1519.27 208.409 Q1522.44 212.02 1522.44 218.409 Q1522.44 224.775 1519.27 228.409 Q1516.1 232.02 1510.54 232.02 Q1504.96 232.02 1501.79 228.409 Q1498.64 224.775 1498.64 218.409 Q1498.64 212.02 1501.79 208.409 Q1504.96 204.798 1510.54 204.798 Z\" fill=\"#000000\" fill-rule=\"evenodd\" fill-opacity=\"1\" /><path clip-path=\"url(#clip560)\" d=\"M 0 0 M1526.91 195.33 L1531.17 195.33 L1531.17 231.349 L1526.91 231.349 L1526.91 195.33 Z\" fill=\"#000000\" fill-rule=\"evenodd\" fill-opacity=\"1\" /><path clip-path=\"url(#clip560)\" d=\"M 0 0 M1535.19 221.117 L1535.19 205.423 L1539.45 205.423 L1539.45 220.955 Q1539.45 224.636 1540.89 226.488 Q1542.32 228.316 1545.19 228.316 Q1548.64 228.316 1550.63 226.117 Q1552.65 223.918 1552.65 220.122 L1552.65 205.423 L1556.91 205.423 L1556.91 231.349 L1552.65 231.349 L1552.65 227.367 Q1551.1 229.728 1549.04 230.886 Q1547 232.02 1544.29 232.02 Q1539.82 232.02 1537.51 229.242 Q1535.19 226.464 1535.19 221.117 M1545.91 204.798 L1545.91 204.798 Z\" fill=\"#000000\" fill-rule=\"evenodd\" fill-opacity=\"1\" /><path clip-path=\"url(#clip560)\" d=\"M 0 0 M1565.59 198.062 L1565.59 205.423 L1574.36 205.423 L1574.36 208.733 L1565.59 208.733 L1565.59 222.807 Q1565.59 225.978 1566.44 226.881 Q1567.32 227.784 1569.99 227.784 L1574.36 227.784 L1574.36 231.349 L1569.99 231.349 Q1565.06 231.349 1563.18 229.52 Q1561.31 227.668 1561.31 222.807 L1561.31 208.733 L1558.18 208.733 L1558.18 205.423 L1561.31 205.423 L1561.31 198.062 L1565.59 198.062 Z\" fill=\"#000000\" fill-rule=\"evenodd\" fill-opacity=\"1\" /><path clip-path=\"url(#clip560)\" d=\"M 0 0 M1578.83 205.423 L1583.09 205.423 L1583.09 231.349 L1578.83 231.349 L1578.83 205.423 M1578.83 195.33 L1583.09 195.33 L1583.09 200.724 L1578.83 200.724 L1578.83 195.33 Z\" fill=\"#000000\" fill-rule=\"evenodd\" fill-opacity=\"1\" /><path clip-path=\"url(#clip560)\" d=\"M 0 0 M1597.6 208.409 Q1594.18 208.409 1592.18 211.094 Q1590.19 213.756 1590.19 218.409 Q1590.19 223.062 1592.16 225.747 Q1594.15 228.409 1597.6 228.409 Q1601 228.409 1602.99 225.724 Q1604.99 223.038 1604.99 218.409 Q1604.99 213.802 1602.99 211.117 Q1601 208.409 1597.6 208.409 M1597.6 204.798 Q1603.16 204.798 1606.33 208.409 Q1609.5 212.02 1609.5 218.409 Q1609.5 224.775 1606.33 228.409 Q1603.16 232.02 1597.6 232.02 Q1592.02 232.02 1588.85 228.409 Q1585.7 224.775 1585.7 218.409 Q1585.7 212.02 1588.85 208.409 Q1592.02 204.798 1597.6 204.798 Z\" fill=\"#000000\" fill-rule=\"evenodd\" fill-opacity=\"1\" /><path clip-path=\"url(#clip560)\" d=\"M 0 0 M1635.52 215.701 L1635.52 231.349 L1631.26 231.349 L1631.26 215.839 Q1631.26 212.159 1629.82 210.33 Q1628.39 208.502 1625.52 208.502 Q1622.07 208.502 1620.08 210.701 Q1618.09 212.9 1618.09 216.696 L1618.09 231.349 L1613.8 231.349 L1613.8 205.423 L1618.09 205.423 L1618.09 209.451 Q1619.62 207.113 1621.68 205.955 Q1623.76 204.798 1626.47 204.798 Q1630.93 204.798 1633.23 207.576 Q1635.52 210.33 1635.52 215.701 Z\" fill=\"#000000\" fill-rule=\"evenodd\" fill-opacity=\"1\" /><path clip-path=\"url(#clip560)\" d=\"M 0 0 M1654.61 221.117 L1654.61 205.423 L1658.87 205.423 L1658.87 220.955 Q1658.87 224.636 1660.31 226.488 Q1661.74 228.316 1664.61 228.316 Q1668.06 228.316 1670.05 226.117 Q1672.07 223.918 1672.07 220.122 L1672.07 205.423 L1676.33 205.423 L1676.33 231.349 L1672.07 231.349 L1672.07 227.367 Q1670.52 229.728 1668.46 230.886 Q1666.42 232.02 1663.71 232.02 Q1659.24 232.02 1656.93 229.242 Q1654.61 226.464 1654.61 221.117 M1665.33 204.798 L1665.33 204.798 Z\" fill=\"#000000\" fill-rule=\"evenodd\" fill-opacity=\"1\" /><path clip-path=\"url(#clip560)\" d=\"M 0 0 M1684.92 227.46 L1684.92 241.21 L1680.63 241.21 L1680.63 205.423 L1684.92 205.423 L1684.92 209.358 Q1686.26 207.043 1688.3 205.932 Q1690.36 204.798 1693.2 204.798 Q1697.92 204.798 1700.86 208.548 Q1703.83 212.298 1703.83 218.409 Q1703.83 224.52 1700.86 228.27 Q1697.92 232.02 1693.2 232.02 Q1690.36 232.02 1688.3 230.909 Q1686.26 229.775 1684.92 227.46 M1699.41 218.409 Q1699.41 213.71 1697.46 211.048 Q1695.54 208.363 1692.16 208.363 Q1688.78 208.363 1686.84 211.048 Q1684.92 213.71 1684.92 218.409 Q1684.92 223.108 1686.84 225.793 Q1688.78 228.455 1692.16 228.455 Q1695.54 228.455 1697.46 225.793 Q1699.41 223.108 1699.41 218.409 Z\" fill=\"#000000\" fill-rule=\"evenodd\" fill-opacity=\"1\" /><path clip-path=\"url(#clip560)\" d=\"M 0 0 M1727.58 198.062 L1727.58 205.423 L1736.35 205.423 L1736.35 208.733 L1727.58 208.733 L1727.58 222.807 Q1727.58 225.978 1728.43 226.881 Q1729.31 227.784 1731.98 227.784 L1736.35 227.784 L1736.35 231.349 L1731.98 231.349 Q1727.05 231.349 1725.17 229.52 Q1723.3 227.668 1723.3 222.807 L1723.3 208.733 L1720.17 208.733 L1720.17 205.423 L1723.3 205.423 L1723.3 198.062 L1727.58 198.062 Z\" fill=\"#000000\" fill-rule=\"evenodd\" fill-opacity=\"1\" /><path clip-path=\"url(#clip560)\" d=\"M 0 0 M1750.86 208.409 Q1747.44 208.409 1745.45 211.094 Q1743.46 213.756 1743.46 218.409 Q1743.46 223.062 1745.42 225.747 Q1747.42 228.409 1750.86 228.409 Q1754.27 228.409 1756.26 225.724 Q1758.25 223.038 1758.25 218.409 Q1758.25 213.802 1756.26 211.117 Q1754.27 208.409 1750.86 208.409 M1750.86 204.798 Q1756.42 204.798 1759.59 208.409 Q1762.76 212.02 1762.76 218.409 Q1762.76 224.775 1759.59 228.409 Q1756.42 232.02 1750.86 232.02 Q1745.29 232.02 1742.11 228.409 Q1738.97 224.775 1738.97 218.409 Q1738.97 212.02 1742.11 208.409 Q1745.29 204.798 1750.86 204.798 Z\" fill=\"#000000\" fill-rule=\"evenodd\" fill-opacity=\"1\" /><path clip-path=\"url(#clip560)\" d=\"M 0 0 M1786.51 198.062 L1786.51 205.423 L1795.29 205.423 L1795.29 208.733 L1786.51 208.733 L1786.51 222.807 Q1786.51 225.978 1787.37 226.881 Q1788.25 227.784 1790.91 227.784 L1795.29 227.784 L1795.29 231.349 L1790.91 231.349 Q1785.98 231.349 1784.1 229.52 Q1782.23 227.668 1782.23 222.807 L1782.23 208.733 L1779.11 208.733 L1779.11 205.423 L1782.23 205.423 L1782.23 198.062 L1786.51 198.062 Z\" fill=\"#000000\" fill-rule=\"evenodd\" fill-opacity=\"1\" /><path clip-path=\"url(#clip560)\" d=\"M 0 0 M1821.3 215.701 L1821.3 231.349 L1817.04 231.349 L1817.04 215.839 Q1817.04 212.159 1815.61 210.33 Q1814.17 208.502 1811.3 208.502 Q1807.85 208.502 1805.86 210.701 Q1803.87 212.9 1803.87 216.696 L1803.87 231.349 L1799.59 231.349 L1799.59 195.33 L1803.87 195.33 L1803.87 209.451 Q1805.4 207.113 1807.46 205.955 Q1809.54 204.798 1812.25 204.798 Q1816.72 204.798 1819.01 207.576 Q1821.3 210.33 1821.3 215.701 Z\" fill=\"#000000\" fill-rule=\"evenodd\" fill-opacity=\"1\" /><path clip-path=\"url(#clip560)\" d=\"M 0 0 M1847.95 217.321 L1847.95 219.404 L1828.36 219.404 Q1828.64 223.802 1831 226.117 Q1833.39 228.409 1837.62 228.409 Q1840.08 228.409 1842.37 227.807 Q1844.68 227.205 1846.95 226.001 L1846.95 230.029 Q1844.66 231.001 1842.25 231.511 Q1839.85 232.02 1837.37 232.02 Q1831.16 232.02 1827.53 228.409 Q1823.92 224.798 1823.92 218.64 Q1823.92 212.275 1827.35 208.548 Q1830.79 204.798 1836.63 204.798 Q1841.86 204.798 1844.89 208.177 Q1847.95 211.534 1847.95 217.321 M1843.69 216.071 Q1843.64 212.576 1841.72 210.492 Q1839.82 208.409 1836.67 208.409 Q1833.11 208.409 1830.96 210.423 Q1828.83 212.437 1828.5 216.094 L1843.69 216.071 Z\" fill=\"#000000\" fill-rule=\"evenodd\" fill-opacity=\"1\" /><path clip-path=\"url(#clip560)\" d=\"M 0 0 M1871.7 198.062 L1871.7 205.423 L1880.47 205.423 L1880.47 208.733 L1871.7 208.733 L1871.7 222.807 Q1871.7 225.978 1872.55 226.881 Q1873.43 227.784 1876.1 227.784 L1880.47 227.784 L1880.47 231.349 L1876.1 231.349 Q1871.16 231.349 1869.29 229.52 Q1867.41 227.668 1867.41 222.807 L1867.41 208.733 L1864.29 208.733 L1864.29 205.423 L1867.41 205.423 L1867.41 198.062 L1871.7 198.062 Z\" fill=\"#000000\" fill-rule=\"evenodd\" fill-opacity=\"1\" /><path clip-path=\"url(#clip560)\" d=\"M 0 0 M1906.49 215.701 L1906.49 231.349 L1902.23 231.349 L1902.23 215.839 Q1902.23 212.159 1900.79 210.33 Q1899.36 208.502 1896.49 208.502 Q1893.04 208.502 1891.05 210.701 Q1889.06 212.9 1889.06 216.696 L1889.06 231.349 L1884.78 231.349 L1884.78 195.33 L1889.06 195.33 L1889.06 209.451 Q1890.59 207.113 1892.65 205.955 Q1894.73 204.798 1897.44 204.798 Q1901.91 204.798 1904.2 207.576 Q1906.49 210.33 1906.49 215.701 Z\" fill=\"#000000\" fill-rule=\"evenodd\" fill-opacity=\"1\" /><path clip-path=\"url(#clip560)\" d=\"M 0 0 M1910.96 205.423 L1915.22 205.423 L1915.22 231.349 L1910.96 231.349 L1910.96 205.423 M1910.96 195.33 L1915.22 195.33 L1915.22 200.724 L1910.96 200.724 L1910.96 195.33 Z\" fill=\"#000000\" fill-rule=\"evenodd\" fill-opacity=\"1\" /><path clip-path=\"url(#clip560)\" d=\"M 0 0 M1934.71 209.404 Q1933.99 208.988 1933.13 208.802 Q1932.3 208.594 1931.28 208.594 Q1927.67 208.594 1925.72 210.955 Q1923.8 213.293 1923.8 217.691 L1923.8 231.349 L1919.52 231.349 L1919.52 205.423 L1923.8 205.423 L1923.8 209.451 Q1925.15 207.089 1927.3 205.955 Q1929.45 204.798 1932.53 204.798 Q1932.97 204.798 1933.5 204.867 Q1934.03 204.914 1934.68 205.029 L1934.71 209.404 Z\" fill=\"#000000\" fill-rule=\"evenodd\" fill-opacity=\"1\" /><path clip-path=\"url(#clip560)\" d=\"M 0 0 M1955.4 209.358 L1955.4 195.33 L1959.66 195.33 L1959.66 231.349 L1955.4 231.349 L1955.4 227.46 Q1954.06 229.775 1952 230.909 Q1949.96 232.02 1947.09 232.02 Q1942.39 232.02 1939.43 228.27 Q1936.49 224.52 1936.49 218.409 Q1936.49 212.298 1939.43 208.548 Q1942.39 204.798 1947.09 204.798 Q1949.96 204.798 1952 205.932 Q1954.06 207.043 1955.4 209.358 M1940.89 218.409 Q1940.89 223.108 1942.81 225.793 Q1944.75 228.455 1948.13 228.455 Q1951.51 228.455 1953.46 225.793 Q1955.4 223.108 1955.4 218.409 Q1955.4 213.71 1953.46 211.048 Q1951.51 208.363 1948.13 208.363 Q1944.75 208.363 1942.81 211.048 Q1940.89 213.71 1940.89 218.409 Z\" fill=\"#000000\" fill-rule=\"evenodd\" fill-opacity=\"1\" /><path clip-path=\"url(#clip560)\" d=\"M 0 0 M1989.24 208.409 Q1985.82 208.409 1983.83 211.094 Q1981.84 213.756 1981.84 218.409 Q1981.84 223.062 1983.8 225.747 Q1985.79 228.409 1989.24 228.409 Q1992.65 228.409 1994.64 225.724 Q1996.63 223.038 1996.63 218.409 Q1996.63 213.802 1994.64 211.117 Q1992.65 208.409 1989.24 208.409 M1989.24 204.798 Q1994.8 204.798 1997.97 208.409 Q2001.14 212.02 2001.14 218.409 Q2001.14 224.775 1997.97 228.409 Q1994.8 232.02 1989.24 232.02 Q1983.66 232.02 1980.49 228.409 Q1977.34 224.775 1977.34 218.409 Q1977.34 212.02 1980.49 208.409 Q1983.66 204.798 1989.24 204.798 Z\" fill=\"#000000\" fill-rule=\"evenodd\" fill-opacity=\"1\" /><path clip-path=\"url(#clip560)\" d=\"M 0 0 M2020.63 209.404 Q2019.91 208.988 2019.06 208.802 Q2018.22 208.594 2017.21 208.594 Q2013.59 208.594 2011.65 210.955 Q2009.73 213.293 2009.73 217.691 L2009.73 231.349 L2005.45 231.349 L2005.45 205.423 L2009.73 205.423 L2009.73 209.451 Q2011.07 207.089 2013.22 205.955 Q2015.38 204.798 2018.46 204.798 Q2018.9 204.798 2019.43 204.867 Q2019.96 204.914 2020.61 205.029 L2020.63 209.404 Z\" fill=\"#000000\" fill-rule=\"evenodd\" fill-opacity=\"1\" /><path clip-path=\"url(#clip560)\" d=\"M 0 0 M2041.33 209.358 L2041.33 195.33 L2045.59 195.33 L2045.59 231.349 L2041.33 231.349 L2041.33 227.46 Q2039.98 229.775 2037.92 230.909 Q2035.89 232.02 2033.02 232.02 Q2028.32 232.02 2025.35 228.27 Q2022.41 224.52 2022.41 218.409 Q2022.41 212.298 2025.35 208.548 Q2028.32 204.798 2033.02 204.798 Q2035.89 204.798 2037.92 205.932 Q2039.98 207.043 2041.33 209.358 M2026.81 218.409 Q2026.81 223.108 2028.73 225.793 Q2030.68 228.455 2034.06 228.455 Q2037.44 228.455 2039.38 225.793 Q2041.33 223.108 2041.33 218.409 Q2041.33 213.71 2039.38 211.048 Q2037.44 208.363 2034.06 208.363 Q2030.68 208.363 2028.73 211.048 Q2026.81 213.71 2026.81 218.409 Z\" fill=\"#000000\" fill-rule=\"evenodd\" fill-opacity=\"1\" /><path clip-path=\"url(#clip560)\" d=\"M 0 0 M2072.23 217.321 L2072.23 219.404 L2052.65 219.404 Q2052.92 223.802 2055.28 226.117 Q2057.67 228.409 2061.9 228.409 Q2064.36 228.409 2066.65 227.807 Q2068.96 227.205 2071.23 226.001 L2071.23 230.029 Q2068.94 231.001 2066.53 231.511 Q2064.13 232.02 2061.65 232.02 Q2055.45 232.02 2051.81 228.409 Q2048.2 224.798 2048.2 218.64 Q2048.2 212.275 2051.63 208.548 Q2055.08 204.798 2060.91 204.798 Q2066.14 204.798 2069.17 208.177 Q2072.23 211.534 2072.23 217.321 M2067.97 216.071 Q2067.92 212.576 2066 210.492 Q2064.1 208.409 2060.96 208.409 Q2057.39 208.409 2055.24 210.423 Q2053.11 212.437 2052.78 216.094 L2067.97 216.071 Z\" fill=\"#000000\" fill-rule=\"evenodd\" fill-opacity=\"1\" /><path clip-path=\"url(#clip560)\" d=\"M 0 0 M2091.72 209.404 Q2091 208.988 2090.15 208.802 Q2089.31 208.594 2088.29 208.594 Q2084.68 208.594 2082.74 210.955 Q2080.82 213.293 2080.82 217.691 L2080.82 231.349 L2076.53 231.349 L2076.53 205.423 L2080.82 205.423 L2080.82 209.451 Q2082.16 207.089 2084.31 205.955 Q2086.46 204.798 2089.54 204.798 Q2089.98 204.798 2090.52 204.867 Q2091.05 204.914 2091.7 205.029 L2091.72 209.404 Z\" fill=\"#000000\" fill-rule=\"evenodd\" fill-opacity=\"1\" /><path clip-path=\"url(#clip560)\" d=\"M 0 0 M2121.3 208.409 Q2117.88 208.409 2115.89 211.094 Q2113.89 213.756 2113.89 218.409 Q2113.89 223.062 2115.86 225.747 Q2117.85 228.409 2121.3 228.409 Q2124.71 228.409 2126.7 225.724 Q2128.69 223.038 2128.69 218.409 Q2128.69 213.802 2126.7 211.117 Q2124.71 208.409 2121.3 208.409 M2121.3 204.798 Q2126.86 204.798 2130.03 208.409 Q2133.2 212.02 2133.2 218.409 Q2133.2 224.775 2130.03 228.409 Q2126.86 232.02 2121.3 232.02 Q2115.72 232.02 2112.55 228.409 Q2109.4 224.775 2109.4 218.409 Q2109.4 212.02 2112.55 208.409 Q2115.72 204.798 2121.3 204.798 Z\" fill=\"#000000\" fill-rule=\"evenodd\" fill-opacity=\"1\" /><path clip-path=\"url(#clip560)\" d=\"M 0 0 M2150.79 195.33 L2150.79 198.872 L2146.72 198.872 Q2144.43 198.872 2143.52 199.798 Q2142.64 200.724 2142.64 203.131 L2142.64 205.423 L2149.66 205.423 L2149.66 208.733 L2142.64 208.733 L2142.64 231.349 L2138.36 231.349 L2138.36 208.733 L2134.29 208.733 L2134.29 205.423 L2138.36 205.423 L2138.36 203.617 Q2138.36 199.289 2140.38 197.321 Q2142.39 195.33 2146.77 195.33 L2150.79 195.33 Z\" fill=\"#000000\" fill-rule=\"evenodd\" fill-opacity=\"1\" /><path clip-path=\"url(#clip560)\" d=\"M 0 0 M2171.74 227.413 L2179.38 227.413 L2179.38 201.048 L2171.07 202.715 L2171.07 198.455 L2179.33 196.789 L2184.01 196.789 L2184.01 227.413 L2191.65 227.413 L2191.65 231.349 L2171.74 231.349 L2171.74 227.413 Z\" fill=\"#000000\" fill-rule=\"evenodd\" fill-opacity=\"1\" /><path clip-path=\"url(#clip560)\" d=\"M 0 0 M2203.69 196.789 L2207.62 196.789 L2195.58 235.747 L2191.65 235.747 L2203.69 196.789 Z\" fill=\"#000000\" fill-rule=\"evenodd\" fill-opacity=\"1\" /><path clip-path=\"url(#clip560)\" d=\"M 0 0 M2224.8 226.626 Q2225.63 227.738 2228.13 227.738 L2230.19 227.738 L2230.19 231.349 L2227.62 231.349 Q2223.45 231.349 2221.56 229.126 Q2219.66 226.858 2219.66 221.951 L2219.66 209.682 L2209.94 209.682 L2209.94 205.423 L2233.85 205.423 L2233.85 209.682 L2224.01 209.682 L2224.01 222.205 Q2224.01 225.562 2224.8 226.626 Z\" fill=\"#000000\" fill-rule=\"evenodd\" fill-opacity=\"1\" /></svg>\n"
      ]
     },
     "execution_count": 20,
     "metadata": {},
     "output_type": "execute_result"
    }
   ],
   "source": [
    "using Plots;\n",
    "plot(Rexactfunc,0,1,label=\"exact solution\",xlabel=\"1/τ [1/sec]\",ylabel=\"Range [meter]\")\n",
    "plot!(R3func,0,1,label=\"approximated solution up to the third order of 1/τ\")"
   ]
  }
 ],
 "metadata": {
  "@webio": {
   "lastCommId": null,
   "lastKernelId": null
  },
  "kernelspec": {
   "display_name": "Julia 1.5.2",
   "language": "julia",
   "name": "julia-1.5"
  },
  "language_info": {
   "file_extension": ".jl",
   "mimetype": "application/julia",
   "name": "julia",
   "version": "1.5.2"
  }
 },
 "nbformat": 4,
 "nbformat_minor": 4
}
