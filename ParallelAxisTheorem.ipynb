{
 "cells": [
  {
   "cell_type": "markdown",
   "metadata": {},
   "source": [
    "# Parallel Axis theorem\n",
    "Parallel axis theorem (Eq.(1) at the end of this demo) allows one to compute the moment of inertia about an arbitrary axis easily if the moment of inertia about the parallel axis passing through the center of mass is known. Consider a rigid body rotation around an axis $A$ going through its center of mass. We choose $A$ as the z-axis for the Cartesian coordinate system. Let the moment of inertia about $A$ be $I_0$:"
   ]
  },
  {
   "cell_type": "code",
   "execution_count": 1,
   "metadata": {},
   "outputs": [
    {
     "data": {
      "text/latex": [
       "\\begin{equation*}\\sum_{\\alpha=1}^{n} \\left({x}_{\\alpha}^{2} + {y}_{\\alpha}^{2}\\right) {m}_{\\alpha}\\end{equation*}"
      ],
      "text/plain": [
       "    n                                     \n",
       "   ___                                    \n",
       "   \\  `                                   \n",
       "    \\     /        2           2\\         \n",
       "    /     \\x[alpha]  + y[alpha] /*m[alpha]\n",
       "   /__,                                   \n",
       "alpha = 1                                 "
      ]
     },
     "execution_count": 1,
     "metadata": {},
     "output_type": "execute_result"
    }
   ],
   "source": [
    "using SymPy\n",
    "alpha,n = sympy.symbols(\"alpha n \", integer=True) # alpha labels particle in a n-particle system\n",
    "x = sympy.IndexedBase(\"x\") # x coordinate\n",
    "y = sympy.IndexedBase(\"y\") # y coordinate\n",
    "m = sympy.IndexedBase(\"m\") # mass\n",
    "I0= sympy.Sum(m[alpha]*(x[alpha]^2+y[alpha]^2), (alpha, 1, n)) #moment of inertia I_0 for a n-particle system"
   ]
  },
  {
   "cell_type": "markdown",
   "metadata": {},
   "source": [
    "Now consider another rotation axis $A_1$: parallel with $A$ and separated from $A$ by a distance $d$. Without loss of generality, we assume that $A_1$ passes through the point $(-d,0,0)$. Let the moment of inertia about $A_1$ be $I_1$:"
   ]
  },
  {
   "cell_type": "code",
   "execution_count": 2,
   "metadata": {},
   "outputs": [
    {
     "data": {
      "text/latex": [
       "\\begin{equation*}\\sum_{\\alpha=1}^{n} \\left(\\left(d + {x}_{\\alpha}\\right)^{2} + {y}_{\\alpha}^{2}\\right) {m}_{\\alpha}\\end{equation*}"
      ],
      "text/plain": [
       "    n                                           \n",
       "   ___                                          \n",
       "   \\  `                                         \n",
       "    \\     /              2           2\\         \n",
       "    /     \\(d + x[alpha])  + y[alpha] /*m[alpha]\n",
       "   /__,                                         \n",
       "alpha = 1                                       "
      ]
     },
     "execution_count": 2,
     "metadata": {},
     "output_type": "execute_result"
    }
   ],
   "source": [
    "d = sympy.symbols(\"d\", real=True)\n",
    "I1=sympy.Sum(m[alpha]*((x[alpha]+d)^2+y[alpha]^2), (alpha, 1, n))"
   ]
  },
  {
   "cell_type": "markdown",
   "metadata": {},
   "source": [
    "Let the total mass $M\\equiv \\sum_{\\alpha=1}^n m_{\\alpha}$. Now we can show that $I_1-I_0-M\\cdot d^2$ to be:"
   ]
  },
  {
   "cell_type": "code",
   "execution_count": 3,
   "metadata": {},
   "outputs": [
    {
     "data": {
      "text/latex": [
       "\\begin{equation*}2 d \\sum_{\\alpha=1}^{n} {m}_{\\alpha} {x}_{\\alpha}\\end{equation*}"
      ],
      "text/plain": [
       "        n                      \n",
       "       __                      \n",
       "       \\ `                     \n",
       "2*d*    )     m[alpha]*x[alpha]\n",
       "       /_,                     \n",
       "    alpha = 1                  "
      ]
     },
     "execution_count": 3,
     "metadata": {},
     "output_type": "execute_result"
    }
   ],
   "source": [
    "sympy.simplify(I1-I0-(d^2)*sympy.Sum(m[alpha], (alpha, 1, n)))"
   ]
  },
  {
   "cell_type": "markdown",
   "metadata": {},
   "source": [
    "But the above quantity vanishes since $\\vec r_\\alpha$ are the displacement relative to the center of mass. Consequently we have:\n",
    "\\begin{align}\n",
    "I_1=I_0+M\\cdot d^2.\n",
    "\\end{align}\n",
    "This is the parallel axis theorem. "
   ]
  }
 ],
 "metadata": {
  "@webio": {
   "lastCommId": null,
   "lastKernelId": null
  },
  "kernelspec": {
   "display_name": "Julia 1.5.2",
   "language": "julia",
   "name": "julia-1.5"
  },
  "language_info": {
   "file_extension": ".jl",
   "mimetype": "application/julia",
   "name": "julia",
   "version": "1.5.2"
  }
 },
 "nbformat": 4,
 "nbformat_minor": 4
}
